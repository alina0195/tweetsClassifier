{
  "cells": [
    {
      "cell_type": "markdown",
      "metadata": {
        "id": "view-in-github",
        "colab_type": "text"
      },
      "source": [
        "<a href=\"https://colab.research.google.com/github/alina0195/sketches/blob/main/BERT_corona_nlp_4_iunie.ipynb\" target=\"_parent\"><img src=\"https://colab.research.google.com/assets/colab-badge.svg\" alt=\"Open In Colab\"/></a>"
      ]
    },
    {
      "cell_type": "markdown",
      "metadata": {
        "id": "VBB1Uw-vzAxO"
      },
      "source": [
        "# Mount Drive"
      ]
    },
    {
      "cell_type": "code",
      "execution_count": null,
      "metadata": {
        "colab": {
          "base_uri": "https://localhost:8080/"
        },
        "id": "FkjoeKL8LLG1",
        "outputId": "3893b17c-d142-4979-d672-1fdc946990a9"
      },
      "outputs": [
        {
          "output_type": "stream",
          "name": "stdout",
          "text": [
            "Drive already mounted at /content/drive; to attempt to forcibly remount, call drive.mount(\"/content/drive\", force_remount=True).\n"
          ]
        }
      ],
      "source": [
        "from google.colab import drive\n",
        "drive.mount('/content/drive')"
      ]
    },
    {
      "cell_type": "markdown",
      "metadata": {
        "id": "8XKX7XnrLs2X"
      },
      "source": [
        "# Prereq"
      ]
    },
    {
      "cell_type": "code",
      "execution_count": null,
      "metadata": {
        "colab": {
          "base_uri": "https://localhost:8080/"
        },
        "id": "lAMERZSUhXMe",
        "outputId": "81666ba8-4478-4c54-fb20-70d83a114d14"
      },
      "outputs": [
        {
          "name": "stdout",
          "output_type": "stream",
          "text": [
            "\u001b[?25l\r\u001b[K     |█▍                              | 10 kB 35.2 MB/s eta 0:00:01\r\u001b[K     |██▉                             | 20 kB 40.8 MB/s eta 0:00:01\r\u001b[K     |████▏                           | 30 kB 42.0 MB/s eta 0:00:01\r\u001b[K     |█████▋                          | 40 kB 28.7 MB/s eta 0:00:01\r\u001b[K     |███████                         | 51 kB 28.4 MB/s eta 0:00:01\r\u001b[K     |████████▍                       | 61 kB 32.0 MB/s eta 0:00:01\r\u001b[K     |█████████▊                      | 71 kB 25.4 MB/s eta 0:00:01\r\u001b[K     |███████████▏                    | 81 kB 26.7 MB/s eta 0:00:01\r\u001b[K     |████████████▌                   | 92 kB 28.8 MB/s eta 0:00:01\r\u001b[K     |██████████████                  | 102 kB 30.5 MB/s eta 0:00:01\r\u001b[K     |███████████████▎                | 112 kB 30.5 MB/s eta 0:00:01\r\u001b[K     |████████████████▊               | 122 kB 30.5 MB/s eta 0:00:01\r\u001b[K     |██████████████████              | 133 kB 30.5 MB/s eta 0:00:01\r\u001b[K     |███████████████████▌            | 143 kB 30.5 MB/s eta 0:00:01\r\u001b[K     |████████████████████▉           | 153 kB 30.5 MB/s eta 0:00:01\r\u001b[K     |██████████████████████▎         | 163 kB 30.5 MB/s eta 0:00:01\r\u001b[K     |███████████████████████▋        | 174 kB 30.5 MB/s eta 0:00:01\r\u001b[K     |█████████████████████████       | 184 kB 30.5 MB/s eta 0:00:01\r\u001b[K     |██████████████████████████▍     | 194 kB 30.5 MB/s eta 0:00:01\r\u001b[K     |███████████████████████████▉    | 204 kB 30.5 MB/s eta 0:00:01\r\u001b[K     |█████████████████████████████▏  | 215 kB 30.5 MB/s eta 0:00:01\r\u001b[K     |██████████████████████████████▋ | 225 kB 30.5 MB/s eta 0:00:01\r\u001b[K     |████████████████████████████████| 235 kB 30.5 MB/s eta 0:00:01\r\u001b[K     |████████████████████████████████| 235 kB 30.5 MB/s \n",
            "\u001b[?25h"
          ]
        }
      ],
      "source": [
        "! pip install Unidecode -q\n"
      ]
    },
    {
      "cell_type": "code",
      "execution_count": null,
      "metadata": {
        "colab": {
          "base_uri": "https://localhost:8080/"
        },
        "id": "GisBnJZa6nLv",
        "outputId": "eb770552-5c0e-48e9-a8bc-5458b705b01d"
      },
      "outputs": [
        {
          "name": "stdout",
          "output_type": "stream",
          "text": [
            "Looking in indexes: https://pypi.org/simple, https://us-python.pkg.dev/colab-wheels/public/simple/\n",
            "Collecting torchmetrics\n",
            "  Downloading torchmetrics-0.9.2-py3-none-any.whl (419 kB)\n",
            "\u001b[K     |████████████████████████████████| 419 kB 29.2 MB/s \n",
            "\u001b[?25hRequirement already satisfied: packaging in /usr/local/lib/python3.7/dist-packages (from torchmetrics) (21.3)\n",
            "Requirement already satisfied: numpy>=1.17.2 in /usr/local/lib/python3.7/dist-packages (from torchmetrics) (1.21.6)\n",
            "Requirement already satisfied: torch>=1.3.1 in /usr/local/lib/python3.7/dist-packages (from torchmetrics) (1.11.0+cu113)\n",
            "Requirement already satisfied: typing-extensions in /usr/local/lib/python3.7/dist-packages (from torchmetrics) (4.1.1)\n",
            "Requirement already satisfied: pyparsing!=3.0.5,>=2.0.2 in /usr/local/lib/python3.7/dist-packages (from packaging->torchmetrics) (3.0.9)\n",
            "Installing collected packages: torchmetrics\n",
            "Successfully installed torchmetrics-0.9.2\n"
          ]
        }
      ],
      "source": [
        "! pip install torchmetrics"
      ]
    },
    {
      "cell_type": "code",
      "execution_count": null,
      "metadata": {
        "colab": {
          "base_uri": "https://localhost:8080/"
        },
        "id": "31eQO-xaL9oK",
        "outputId": "324ae044-c2bf-417a-f492-6eb2a581b834"
      },
      "outputs": [
        {
          "name": "stdout",
          "output_type": "stream",
          "text": [
            "Looking in indexes: https://pypi.org/simple, https://us-python.pkg.dev/colab-wheels/public/simple/\n",
            "Collecting transformers\n",
            "  Downloading transformers-4.20.1-py3-none-any.whl (4.4 MB)\n",
            "\u001b[K     |████████████████████████████████| 4.4 MB 17.1 MB/s \n",
            "\u001b[?25hRequirement already satisfied: regex!=2019.12.17 in /usr/local/lib/python3.7/dist-packages (from transformers) (2022.6.2)\n",
            "Requirement already satisfied: requests in /usr/local/lib/python3.7/dist-packages (from transformers) (2.23.0)\n",
            "Requirement already satisfied: filelock in /usr/local/lib/python3.7/dist-packages (from transformers) (3.7.1)\n",
            "Requirement already satisfied: packaging>=20.0 in /usr/local/lib/python3.7/dist-packages (from transformers) (21.3)\n",
            "Requirement already satisfied: tqdm>=4.27 in /usr/local/lib/python3.7/dist-packages (from transformers) (4.64.0)\n",
            "Requirement already satisfied: importlib-metadata in /usr/local/lib/python3.7/dist-packages (from transformers) (4.11.4)\n",
            "Collecting pyyaml>=5.1\n",
            "  Downloading PyYAML-6.0-cp37-cp37m-manylinux_2_5_x86_64.manylinux1_x86_64.manylinux_2_12_x86_64.manylinux2010_x86_64.whl (596 kB)\n",
            "\u001b[K     |████████████████████████████████| 596 kB 69.1 MB/s \n",
            "\u001b[?25hCollecting huggingface-hub<1.0,>=0.1.0\n",
            "  Downloading huggingface_hub-0.8.1-py3-none-any.whl (101 kB)\n",
            "\u001b[K     |████████████████████████████████| 101 kB 12.0 MB/s \n",
            "\u001b[?25hRequirement already satisfied: numpy>=1.17 in /usr/local/lib/python3.7/dist-packages (from transformers) (1.21.6)\n",
            "Collecting tokenizers!=0.11.3,<0.13,>=0.11.1\n",
            "  Downloading tokenizers-0.12.1-cp37-cp37m-manylinux_2_12_x86_64.manylinux2010_x86_64.whl (6.6 MB)\n",
            "\u001b[K     |████████████████████████████████| 6.6 MB 54.3 MB/s \n",
            "\u001b[?25hRequirement already satisfied: typing-extensions>=3.7.4.3 in /usr/local/lib/python3.7/dist-packages (from huggingface-hub<1.0,>=0.1.0->transformers) (4.1.1)\n",
            "Requirement already satisfied: pyparsing!=3.0.5,>=2.0.2 in /usr/local/lib/python3.7/dist-packages (from packaging>=20.0->transformers) (3.0.9)\n",
            "Requirement already satisfied: zipp>=0.5 in /usr/local/lib/python3.7/dist-packages (from importlib-metadata->transformers) (3.8.0)\n",
            "Requirement already satisfied: urllib3!=1.25.0,!=1.25.1,<1.26,>=1.21.1 in /usr/local/lib/python3.7/dist-packages (from requests->transformers) (1.24.3)\n",
            "Requirement already satisfied: certifi>=2017.4.17 in /usr/local/lib/python3.7/dist-packages (from requests->transformers) (2022.6.15)\n",
            "Requirement already satisfied: chardet<4,>=3.0.2 in /usr/local/lib/python3.7/dist-packages (from requests->transformers) (3.0.4)\n",
            "Requirement already satisfied: idna<3,>=2.5 in /usr/local/lib/python3.7/dist-packages (from requests->transformers) (2.10)\n",
            "Installing collected packages: pyyaml, tokenizers, huggingface-hub, transformers\n",
            "  Attempting uninstall: pyyaml\n",
            "    Found existing installation: PyYAML 3.13\n",
            "    Uninstalling PyYAML-3.13:\n",
            "      Successfully uninstalled PyYAML-3.13\n",
            "Successfully installed huggingface-hub-0.8.1 pyyaml-6.0 tokenizers-0.12.1 transformers-4.20.1\n"
          ]
        }
      ],
      "source": [
        "!pip install transformers"
      ]
    },
    {
      "cell_type": "code",
      "execution_count": null,
      "metadata": {
        "colab": {
          "base_uri": "https://localhost:8080/"
        },
        "id": "jDZiCtQPL67Y",
        "outputId": "c2338971-7b32-475c-df0e-ecd34ee1e919"
      },
      "outputs": [
        {
          "name": "stdout",
          "output_type": "stream",
          "text": [
            "Looking in indexes: https://pypi.org/simple, https://us-python.pkg.dev/colab-wheels/public/simple/\n",
            "Collecting emoji\n",
            "  Downloading emoji-1.7.0.tar.gz (175 kB)\n",
            "\u001b[K     |████████████████████████████████| 175 kB 30.1 MB/s \n",
            "\u001b[?25hBuilding wheels for collected packages: emoji\n",
            "  Building wheel for emoji (setup.py) ... \u001b[?25l\u001b[?25hdone\n",
            "  Created wheel for emoji: filename=emoji-1.7.0-py3-none-any.whl size=171046 sha256=43cadc74a2eb166aa9940e54354609ba5de04f452659b3e6c334659603a18d56\n",
            "  Stored in directory: /root/.cache/pip/wheels/8a/4e/b6/57b01db010d17ef6ea9b40300af725ef3e210cb1acfb7ac8b6\n",
            "Successfully built emoji\n",
            "Installing collected packages: emoji\n",
            "Successfully installed emoji-1.7.0\n"
          ]
        }
      ],
      "source": [
        "!pip install emoji"
      ]
    },
    {
      "cell_type": "code",
      "execution_count": null,
      "metadata": {
        "id": "tl2xjeoVL_j0"
      },
      "outputs": [],
      "source": [
        "import pandas as pd\n",
        "import numpy as np\n",
        "import matplotlib.pyplot as plt\n",
        "import pickle\n",
        "import seaborn as sns\n",
        "from sklearn.model_selection import train_test_split\n",
        "from sklearn import metrics\n",
        "from tqdm import tqdm\n",
        "from pandas_profiling import ProfileReport\n",
        "\n",
        "\n",
        "import torch\n",
        "import torch.nn.functional as F\n",
        "import torch.nn as nn\n",
        "\n",
        "from transformers import AutoTokenizer, AutoModel\n",
        "from transformers import AdamW, get_linear_schedule_with_warmup\n"
      ]
    },
    {
      "cell_type": "code",
      "execution_count": null,
      "metadata": {
        "id": "IJXaYjkFNC1N"
      },
      "outputs": [],
      "source": [
        "import json\n",
        "import re\n",
        "import random\n",
        "import time"
      ]
    },
    {
      "cell_type": "code",
      "execution_count": null,
      "metadata": {
        "id": "wutM9boi6sjm"
      },
      "outputs": [],
      "source": [
        "import torchmetrics\n",
        "from torchmetrics.classification import Accuracy"
      ]
    },
    {
      "cell_type": "code",
      "execution_count": null,
      "metadata": {
        "id": "PDCYghct6Sdr"
      },
      "outputs": [],
      "source": [
        "from emoji import demojize\n",
        "from nltk.tokenize import TweetTokenizer\n",
        "import html\n",
        "import unicodedata\n",
        "import unidecode\n",
        "import re"
      ]
    },
    {
      "cell_type": "code",
      "execution_count": null,
      "metadata": {
        "id": "zLaQxqkaPqAO"
      },
      "outputs": [],
      "source": [
        "from sklearn.preprocessing import LabelEncoder\n",
        "from keras.utils import np_utils\n",
        "from sklearn.utils import class_weight"
      ]
    },
    {
      "cell_type": "markdown",
      "metadata": {
        "id": "ks8Sz2PpL1Tc"
      },
      "source": [
        "# Device"
      ]
    },
    {
      "cell_type": "code",
      "execution_count": null,
      "metadata": {
        "colab": {
          "base_uri": "https://localhost:8080/"
        },
        "id": "56HjqrbmMHi-",
        "outputId": "1d391c06-7052-4d47-b306-cfc43f536f82"
      },
      "outputs": [
        {
          "name": "stdout",
          "output_type": "stream",
          "text": [
            "Tesla T4\n"
          ]
        }
      ],
      "source": [
        "device = torch.device(\"cuda\") if torch.cuda.is_available() else torch.device(\"cpu\")\n",
        "\n",
        "if torch.cuda.is_available():\n",
        "  for i in range(torch.cuda.device_count()):\n",
        "    print(torch.cuda.get_device_name(i))\n",
        "else:\n",
        "  print(\"You are running on CPU\")"
      ]
    },
    {
      "cell_type": "code",
      "execution_count": null,
      "metadata": {
        "id": "LL_hi3oZalBf"
      },
      "outputs": [],
      "source": [
        "cpu_device = torch.device(\"cpu\")"
      ]
    },
    {
      "cell_type": "markdown",
      "metadata": {
        "id": "jweYpiE25Sza"
      },
      "source": [
        "# CONFIG"
      ]
    },
    {
      "cell_type": "markdown",
      "metadata": {
        "id": "ZLJxJsGVBkX_"
      },
      "source": [
        "Se vor compara modelele bertweet si CT-BERT\n",
        "\n",
        "PRE_TRAINED_MODEL = 'digitalepidemiologylab/covid-twitter-bert-v2' --- MAX_LEN = 96\n",
        "\n",
        " PRE_TRAINED_MODEL = 'vinai/bertweet-covid19-base-uncased'  --- MAX_LEN= 128"
      ]
    },
    {
      "cell_type": "markdown",
      "metadata": {
        "id": "Tbfa3PQVL7bT"
      },
      "source": [
        "CT-BERT V2 - A constant learning rate of 2e-5, as recommended on the official\n",
        "BERT GitHub when doing domain-specific pretraining"
      ]
    },
    {
      "cell_type": "markdown",
      "metadata": {
        "id": "hTPZgRMsB3hB"
      },
      "source": [
        "Se vor mai testa diferite Learning_rates"
      ]
    },
    {
      "cell_type": "code",
      "execution_count": null,
      "metadata": {
        "id": "suolvYuq5aXi"
      },
      "outputs": [],
      "source": [
        "class config:\n",
        "  SEED = 42\n",
        "  K_FOLDS = 5\n",
        "  MODEL_PATH = '/content/drive/MyDrive/models/bertweet_3_cls_corona_3_iunie_v2.pt'\n",
        "  MAX_LEN = 128\n",
        "  PRE_TRAINED_MODEL = 'digitalepidemiologylab/covid-twitter-bert-v2' \n",
        "  EPOCHS = 20\n",
        "  LEARNING_RATE = 1e-5\n",
        "  BATCH_SIZE = 32\n",
        "  NUM_WORKERS = 2 \n",
        "  EPS=1e-8\n",
        "  DEVICE = torch.device(\"cuda:0\") if torch.cuda.is_available() else torch.device(\"cpu\")"
      ]
    },
    {
      "cell_type": "markdown",
      "metadata": {
        "id": "Pz9ZbWn_KXyC"
      },
      "source": [
        "# Read dataframe"
      ]
    },
    {
      "cell_type": "code",
      "execution_count": null,
      "metadata": {
        "id": "kF4bSB-HKXyD"
      },
      "outputs": [],
      "source": [
        "path_train='/content/drive/MyDrive/dataset/Corona_NLP_train.csv'\n",
        "path_test='/content/drive/MyDrive/dataset/Corona_NLP_test.csv'"
      ]
    },
    {
      "cell_type": "code",
      "execution_count": null,
      "metadata": {
        "id": "k0_WekhPKXyH"
      },
      "outputs": [],
      "source": [
        "test_df = pd.read_csv(path_test, encoding='ISO-8859-1')\n",
        "train_df = pd.read_csv(path_train, encoding='ISO-8859-1')"
      ]
    },
    {
      "cell_type": "code",
      "execution_count": null,
      "metadata": {
        "id": "7jp_2nUMCkh6"
      },
      "outputs": [],
      "source": [
        "def check_df(df, target_col):\n",
        "  df= df.dropna(subset=[target_col])\n",
        "  df=df.reset_index()\n",
        "  return df"
      ]
    },
    {
      "cell_type": "code",
      "execution_count": null,
      "metadata": {
        "colab": {
          "base_uri": "https://localhost:8080/"
        },
        "id": "geSJzOUSDLaQ",
        "outputId": "726dc0cc-4049-4ad4-f7d0-0fe8190350f0"
      },
      "outputs": [
        {
          "output_type": "stream",
          "name": "stdout",
          "text": [
            "Training samples:  41157\n",
            "Test samples:  3798\n"
          ]
        }
      ],
      "source": [
        "print('Training samples: ', len(train_df))\n",
        "print('Test samples: ', len(test_df))"
      ]
    },
    {
      "cell_type": "code",
      "execution_count": null,
      "metadata": {
        "id": "-zAQc3s1MND4"
      },
      "outputs": [],
      "source": [
        "def plot_distribution(df, target_col, title):\n",
        "  distribution = df[target_col].value_counts()\n",
        "  plt.figure(figsize=(10,4))\n",
        "  plt.title(title)\n",
        "  plt.bar(distribution.index, distribution.values)\n",
        "  plt.show()"
      ]
    },
    {
      "cell_type": "code",
      "execution_count": null,
      "metadata": {
        "colab": {
          "base_uri": "https://localhost:8080/",
          "height": 545
        },
        "id": "qVRRqOOgMOM8",
        "outputId": "3f1c0023-99c4-4ec3-d8dd-7881933964f2"
      },
      "outputs": [
        {
          "output_type": "display_data",
          "data": {
            "text/plain": [
              "<Figure size 720x288 with 1 Axes>"
            ],
            "image/png": "[encoded data removed]"
          },
          "metadata": {
            "needs_background": "light"
          }
        },
        {
          "output_type": "display_data",
          "data": {
            "text/plain": [
              "<Figure size 720x288 with 1 Axes>"
            ],
            "image/png": "[encoded data removed]"
          },
          "metadata": {
            "needs_background": "light"
          }
        }
      ],
      "source": [
        "%matplotlib inline\n",
        "plot_distribution(train_df,'Sentiment','Training Dataset')\n",
        "plot_distribution(test_df,'Sentiment','Test Dataset')"
      ]
    },
    {
      "cell_type": "code",
      "execution_count": null,
      "metadata": {
        "id": "la60fXZiClTU"
      },
      "outputs": [],
      "source": [
        "df_train = check_df(train_df,'Sentiment')\n",
        "df_test = check_df(test_df,'Sentiment')"
      ]
    },
    {
      "cell_type": "code",
      "execution_count": null,
      "metadata": {
        "colab": {
          "base_uri": "https://localhost:8080/"
        },
        "id": "4Yk45xf1NYHH",
        "outputId": "491828db-b2f6-41c7-bfea-efbe2afbf205"
      },
      "outputs": [
        {
          "output_type": "stream",
          "name": "stdout",
          "text": [
            "Training samples:  41157\n",
            "Test samples:  3798\n"
          ]
        }
      ],
      "source": [
        "print('Training samples: ', len(train_df))\n",
        "print('Test samples: ', len(test_df))"
      ]
    },
    {
      "cell_type": "code",
      "execution_count": null,
      "metadata": {
        "id": "xRmu0nh0NNgh"
      },
      "outputs": [],
      "source": [
        "pd.set_option(\"display.max_columns\", None)"
      ]
    },
    {
      "cell_type": "code",
      "execution_count": null,
      "metadata": {
        "id": "Zfo-wXbt4uWi"
      },
      "outputs": [],
      "source": [
        "train_df  = train_df[~train_df.duplicated(subset=['OriginalTweet'])==True]"
      ]
    },
    {
      "cell_type": "code",
      "execution_count": null,
      "metadata": {
        "id": "dfmJqRCb45qI"
      },
      "outputs": [],
      "source": [
        "test_df = test_df[~test_df.duplicated(subset=['OriginalTweet'])==True]"
      ]
    },
    {
      "cell_type": "code",
      "execution_count": null,
      "metadata": {
        "colab": {
          "base_uri": "https://localhost:8080/"
        },
        "id": "DBD49MKAK7fW",
        "outputId": "cfa99ff1-6c7e-4730-f880-7ae1e4b3909d"
      },
      "outputs": [
        {
          "output_type": "stream",
          "name": "stdout",
          "text": [
            "       UserName  ScreenName             Location     TweetAt  \\\n",
            "0          3799       48751               London  16-03-2020   \n",
            "1          3800       48752                   UK  16-03-2020   \n",
            "2          3801       48753            Vagabonds  16-03-2020   \n",
            "3          3802       48754                  NaN  16-03-2020   \n",
            "4          3803       48755                  NaN  16-03-2020   \n",
            "...         ...         ...                  ...         ...   \n",
            "44950      3794       48746            Israel ??  16-03-2020   \n",
            "44951      3795       48747       Farmington, NM  16-03-2020   \n",
            "44952      3796       48748        Haverford, PA  16-03-2020   \n",
            "44953      3797       48749                  NaN  16-03-2020   \n",
            "44954      3798       48750  Arlington, Virginia  16-03-2020   \n",
            "\n",
            "                                           OriginalTweet           Sentiment  \n",
            "0      @MeNyrbie @Phil_Gahan @Chrisitv https://t.co/i...             Neutral  \n",
            "1      advice Talk to your neighbours family to excha...            Positive  \n",
            "2      Coronavirus Australia: Woolworths to give elde...            Positive  \n",
            "3      My food stock is not the only one which is emp...            Positive  \n",
            "4      Me, ready to go at supermarket during the #COV...  Extremely Negative  \n",
            "...                                                  ...                 ...  \n",
            "44950  Meanwhile In A Supermarket in Israel -- People...            Positive  \n",
            "44951  Did you panic buy a lot of non-perishable item...            Negative  \n",
            "44952  Asst Prof of Economics @cconces was on @NBCPhi...             Neutral  \n",
            "44953  Gov need to do somethings instead of biar je r...  Extremely Negative  \n",
            "44954  I and @ForestandPaper members are committed to...  Extremely Positive  \n",
            "\n",
            "[44955 rows x 6 columns]\n",
            "44955\n"
          ]
        }
      ],
      "source": [
        "df_all = pd.concat((train_df, test_df), ignore_index=True)\n",
        "print(df_all[~df_all.duplicated(subset=['OriginalTweet'])==True])\n",
        "print(len(df_all))"
      ]
    },
    {
      "cell_type": "code",
      "execution_count": null,
      "metadata": {
        "colab": {
          "base_uri": "https://localhost:8080/"
        },
        "id": "xLY0Ht_PRZgV",
        "outputId": "408afe67-0dbd-40fc-cb7b-2bbc1ae085e5"
      },
      "outputs": [
        {
          "output_type": "stream",
          "name": "stdout",
          "text": [
            "Samples: 44955\n"
          ]
        }
      ],
      "source": [
        "df_all = df_all.sample(frac=1).reset_index(drop=True)\n",
        "print('Samples:',len(df_all))\n",
        "\n",
        "df_all.drop(['ScreenName'], inplace=True, axis=1)\n",
        "df_all.drop(['Location'], inplace=True, axis=1)\n",
        "df_all.drop(['TweetAt'], inplace=True, axis=1)\n",
        "df_all.drop(['UserName'], inplace=True, axis=1)"
      ]
    },
    {
      "cell_type": "code",
      "execution_count": null,
      "metadata": {
        "id": "waE99HR89cHG"
      },
      "outputs": [],
      "source": [
        "df_train, df_val = train_test_split(df_train, test_size = 0.1)"
      ]
    },
    {
      "cell_type": "code",
      "execution_count": null,
      "metadata": {
        "colab": {
          "base_uri": "https://localhost:8080/"
        },
        "id": "L8RIJO6A9kUA",
        "outputId": "70b97b81-d773-44aa-8888-c9d863dd22c1"
      },
      "outputs": [
        {
          "output_type": "stream",
          "name": "stdout",
          "text": [
            "Train Samples: 37041 \n",
            "Validation Samples: 4116 \n",
            "Test Samples: 3798\n"
          ]
        }
      ],
      "source": [
        "print(\"Train Samples:\",len(df_train),\"\\nValidation Samples:\", len(df_val), \"\\nTest Samples:\", len(df_test))"
      ]
    },
    {
      "cell_type": "code",
      "execution_count": null,
      "metadata": {
        "colab": {
          "base_uri": "https://localhost:8080/",
          "height": 206
        },
        "id": "kHG4_CP-HSsB",
        "outputId": "791e1bdc-a184-40f0-b0dd-09cf98412b6b"
      },
      "outputs": [
        {
          "output_type": "execute_result",
          "data": {
            "text/plain": [
              "      index  UserName  ScreenName            Location     TweetAt  \\\n",
              "1184   1184      1185       46137                 NaN  13-03-2020   \n",
              "3104   3104      3105       48057     New Jersey, USA  15-03-2020   \n",
              "3565   3565      3566       48518    Ottawa & Toronto  16-03-2020   \n",
              "2844   2844      2845       47797                 NaN  15-03-2020   \n",
              "3032   3032      3033       47985  West Coast, Canada  15-03-2020   \n",
              "\n",
              "                                          OriginalTweet           Sentiment  \n",
              "1184  #Covid_19  8am supermarket in Brooklyn. ItÂs ...             Neutral  \n",
              "3104  Remarkable effort to prevent Covid _19 all aro...  Extremely Positive  \n",
              "3565  Whatever you need that can't be found in a gro...             Neutral  \n",
              "2844  Covid-19 update: Thailand has entered phase 3....            Positive  \n",
              "3032  14 ways to fight the #coronavirus\\r\\r\\n\\r\\r\\nS...  Extremely Positive  "
            ],
            "text/html": [
              "\n",
              "  <div id=\"df-8af2140c-ae97-4017-b940-a1419da5b6b4\">\n",
              "    <div class=\"colab-df-container\">\n",
              "      <div>\n",
              "<style scoped>\n",
              "    .dataframe tbody tr th:only-of-type {\n",
              "        vertical-align: middle;\n",
              "    }\n",
              "\n",
              "    .dataframe tbody tr th {\n",
              "        vertical-align: top;\n",
              "    }\n",
              "\n",
              "    .dataframe thead th {\n",
              "        text-align: right;\n",
              "    }\n",
              "</style>\n",
              "<table border=\"1\" class=\"dataframe\">\n",
              "  <thead>\n",
              "    <tr style=\"text-align: right;\">\n",
              "      <th></th>\n",
              "      <th>index</th>\n",
              "      <th>UserName</th>\n",
              "      <th>ScreenName</th>\n",
              "      <th>Location</th>\n",
              "      <th>TweetAt</th>\n",
              "      <th>OriginalTweet</th>\n",
              "      <th>Sentiment</th>\n",
              "    </tr>\n",
              "  </thead>\n",
              "  <tbody>\n",
              "    <tr>\n",
              "      <th>1184</th>\n",
              "      <td>1184</td>\n",
              "      <td>1185</td>\n",
              "      <td>46137</td>\n",
              "      <td>NaN</td>\n",
              "      <td>13-03-2020</td>\n",
              "      <td>#Covid_19  8am supermarket in Brooklyn. ItÂs ...</td>\n",
              "      <td>Neutral</td>\n",
              "    </tr>\n",
              "    <tr>\n",
              "      <th>3104</th>\n",
              "      <td>3104</td>\n",
              "      <td>3105</td>\n",
              "      <td>48057</td>\n",
              "      <td>New Jersey, USA</td>\n",
              "      <td>15-03-2020</td>\n",
              "      <td>Remarkable effort to prevent Covid _19 all aro...</td>\n",
              "      <td>Extremely Positive</td>\n",
              "    </tr>\n",
              "    <tr>\n",
              "      <th>3565</th>\n",
              "      <td>3565</td>\n",
              "      <td>3566</td>\n",
              "      <td>48518</td>\n",
              "      <td>Ottawa &amp; Toronto</td>\n",
              "      <td>16-03-2020</td>\n",
              "      <td>Whatever you need that can't be found in a gro...</td>\n",
              "      <td>Neutral</td>\n",
              "    </tr>\n",
              "    <tr>\n",
              "      <th>2844</th>\n",
              "      <td>2844</td>\n",
              "      <td>2845</td>\n",
              "      <td>47797</td>\n",
              "      <td>NaN</td>\n",
              "      <td>15-03-2020</td>\n",
              "      <td>Covid-19 update: Thailand has entered phase 3....</td>\n",
              "      <td>Positive</td>\n",
              "    </tr>\n",
              "    <tr>\n",
              "      <th>3032</th>\n",
              "      <td>3032</td>\n",
              "      <td>3033</td>\n",
              "      <td>47985</td>\n",
              "      <td>West Coast, Canada</td>\n",
              "      <td>15-03-2020</td>\n",
              "      <td>14 ways to fight the #coronavirus\\r\\r\\n\\r\\r\\nS...</td>\n",
              "      <td>Extremely Positive</td>\n",
              "    </tr>\n",
              "  </tbody>\n",
              "</table>\n",
              "</div>\n",
              "      <button class=\"colab-df-convert\" onclick=\"convertToInteractive('df-8af2140c-ae97-4017-b940-a1419da5b6b4')\"\n",
              "              title=\"Convert this dataframe to an interactive table.\"\n",
              "              style=\"display:none;\">\n",
              "        \n",
              "  <svg xmlns=\"http://www.w3.org/2000/svg\" height=\"24px\"viewBox=\"0 0 24 24\"\n",
              "       width=\"24px\">\n",
              "    <path d=\"M0 0h24v24H0V0z\" fill=\"none\"/>\n",
              "    <path d=\"M18.56 5.44l.94 2.06.94-2.06 2.06-.94-2.06-.94-.94-2.06-.94 2.06-2.06.94zm-11 1L8.5 8.5l.94-2.06 2.06-.94-2.06-.94L8.5 2.5l-.94 2.06-2.06.94zm10 10l.94 2.06.94-2.06 2.06-.94-2.06-.94-.94-2.06-.94 2.06-2.06.94z\"/><path d=\"M17.41 7.96l-1.37-1.37c-.4-.4-.92-.59-1.43-.59-.52 0-1.04.2-1.43.59L10.3 9.45l-7.72 7.72c-.78.78-.78 2.05 0 2.83L4 21.41c.39.39.9.59 1.41.59.51 0 1.02-.2 1.41-.59l7.78-7.78 2.81-2.81c.8-.78.8-2.07 0-2.86zM5.41 20L4 18.59l7.72-7.72 1.47 1.35L5.41 20z\"/>\n",
              "  </svg>\n",
              "      </button>\n",
              "      \n",
              "  <style>\n",
              "    .colab-df-container {\n",
              "      display:flex;\n",
              "      flex-wrap:wrap;\n",
              "      gap: 12px;\n",
              "    }\n",
              "\n",
              "    .colab-df-convert {\n",
              "      background-color: #E8F0FE;\n",
              "      border: none;\n",
              "      border-radius: 50%;\n",
              "      cursor: pointer;\n",
              "      display: none;\n",
              "      fill: #1967D2;\n",
              "      height: 32px;\n",
              "      padding: 0 0 0 0;\n",
              "      width: 32px;\n",
              "    }\n",
              "\n",
              "    .colab-df-convert:hover {\n",
              "      background-color: #E2EBFA;\n",
              "      box-shadow: 0px 1px 2px rgba(60, 64, 67, 0.3), 0px 1px 3px 1px rgba(60, 64, 67, 0.15);\n",
              "      fill: #174EA6;\n",
              "    }\n",
              "\n",
              "    [theme=dark] .colab-df-convert {\n",
              "      background-color: #3B4455;\n",
              "      fill: #D2E3FC;\n",
              "    }\n",
              "\n",
              "    [theme=dark] .colab-df-convert:hover {\n",
              "      background-color: #434B5C;\n",
              "      box-shadow: 0px 1px 3px 1px rgba(0, 0, 0, 0.15);\n",
              "      filter: drop-shadow(0px 1px 2px rgba(0, 0, 0, 0.3));\n",
              "      fill: #FFFFFF;\n",
              "    }\n",
              "  </style>\n",
              "\n",
              "      <script>\n",
              "        const buttonEl =\n",
              "          document.querySelector('#df-8af2140c-ae97-4017-b940-a1419da5b6b4 button.colab-df-convert');\n",
              "        buttonEl.style.display =\n",
              "          google.colab.kernel.accessAllowed ? 'block' : 'none';\n",
              "\n",
              "        async function convertToInteractive(key) {\n",
              "          const element = document.querySelector('#df-8af2140c-ae97-4017-b940-a1419da5b6b4');\n",
              "          const dataTable =\n",
              "            await google.colab.kernel.invokeFunction('convertToInteractive',\n",
              "                                                     [key], {});\n",
              "          if (!dataTable) return;\n",
              "\n",
              "          const docLinkHtml = 'Like what you see? Visit the ' +\n",
              "            '<a target=\"_blank\" href=https://colab.research.google.com/notebooks/data_table.ipynb>data table notebook</a>'\n",
              "            + ' to learn more about interactive tables.';\n",
              "          element.innerHTML = '';\n",
              "          dataTable['output_type'] = 'display_data';\n",
              "          await google.colab.output.renderOutput(dataTable, element);\n",
              "          const docLink = document.createElement('div');\n",
              "          docLink.innerHTML = docLinkHtml;\n",
              "          element.appendChild(docLink);\n",
              "        }\n",
              "      </script>\n",
              "    </div>\n",
              "  </div>\n",
              "  "
            ]
          },
          "metadata": {},
          "execution_count": 213
        }
      ],
      "source": [
        "df_test.sample(5)"
      ]
    },
    {
      "cell_type": "code",
      "execution_count": null,
      "metadata": {
        "colab": {
          "base_uri": "https://localhost:8080/",
          "height": 206
        },
        "id": "W4xh6MkhbMIz",
        "outputId": "b9b91298-585b-4838-83e0-7ec322bcb961"
      },
      "outputs": [
        {
          "output_type": "execute_result",
          "data": {
            "text/plain": [
              "      index  UserName  ScreenName         Location     TweetAt  \\\n",
              "285     285       286       45238   Greater London  12-03-2020   \n",
              "722     722       723       45675  California, USA  12-03-2020   \n",
              "36       36        37       44989     New York, NY  08-03-2020   \n",
              "2504   2504      2505       47457   Washington, DC  14-03-2020   \n",
              "2995   2995      2996       47948      Atlanta, GA  15-03-2020   \n",
              "\n",
              "                                          OriginalTweet           Sentiment  \n",
              "285   ****IMPORTANT MESSAGE FOR YOU ALL RE: COVID-19...            Positive  \n",
              "722   Apple Store locations have received new direct...            Positive  \n",
              "36    Fellow Uni instructors! COVID-19 f2f class can...            Negative  \n",
              "2504  I figured out why there was no rush hour traff...  Extremely Negative  \n",
              "2995  .@Amazon says it is out of #stock of #househol...            Negative  "
            ],
            "text/html": [
              "\n",
              "  <div id=\"df-b424c40d-f395-443e-a4dd-71fcffac41ba\">\n",
              "    <div class=\"colab-df-container\">\n",
              "      <div>\n",
              "<style scoped>\n",
              "    .dataframe tbody tr th:only-of-type {\n",
              "        vertical-align: middle;\n",
              "    }\n",
              "\n",
              "    .dataframe tbody tr th {\n",
              "        vertical-align: top;\n",
              "    }\n",
              "\n",
              "    .dataframe thead th {\n",
              "        text-align: right;\n",
              "    }\n",
              "</style>\n",
              "<table border=\"1\" class=\"dataframe\">\n",
              "  <thead>\n",
              "    <tr style=\"text-align: right;\">\n",
              "      <th></th>\n",
              "      <th>index</th>\n",
              "      <th>UserName</th>\n",
              "      <th>ScreenName</th>\n",
              "      <th>Location</th>\n",
              "      <th>TweetAt</th>\n",
              "      <th>OriginalTweet</th>\n",
              "      <th>Sentiment</th>\n",
              "    </tr>\n",
              "  </thead>\n",
              "  <tbody>\n",
              "    <tr>\n",
              "      <th>285</th>\n",
              "      <td>285</td>\n",
              "      <td>286</td>\n",
              "      <td>45238</td>\n",
              "      <td>Greater London</td>\n",
              "      <td>12-03-2020</td>\n",
              "      <td>****IMPORTANT MESSAGE FOR YOU ALL RE: COVID-19...</td>\n",
              "      <td>Positive</td>\n",
              "    </tr>\n",
              "    <tr>\n",
              "      <th>722</th>\n",
              "      <td>722</td>\n",
              "      <td>723</td>\n",
              "      <td>45675</td>\n",
              "      <td>California, USA</td>\n",
              "      <td>12-03-2020</td>\n",
              "      <td>Apple Store locations have received new direct...</td>\n",
              "      <td>Positive</td>\n",
              "    </tr>\n",
              "    <tr>\n",
              "      <th>36</th>\n",
              "      <td>36</td>\n",
              "      <td>37</td>\n",
              "      <td>44989</td>\n",
              "      <td>New York, NY</td>\n",
              "      <td>08-03-2020</td>\n",
              "      <td>Fellow Uni instructors! COVID-19 f2f class can...</td>\n",
              "      <td>Negative</td>\n",
              "    </tr>\n",
              "    <tr>\n",
              "      <th>2504</th>\n",
              "      <td>2504</td>\n",
              "      <td>2505</td>\n",
              "      <td>47457</td>\n",
              "      <td>Washington, DC</td>\n",
              "      <td>14-03-2020</td>\n",
              "      <td>I figured out why there was no rush hour traff...</td>\n",
              "      <td>Extremely Negative</td>\n",
              "    </tr>\n",
              "    <tr>\n",
              "      <th>2995</th>\n",
              "      <td>2995</td>\n",
              "      <td>2996</td>\n",
              "      <td>47948</td>\n",
              "      <td>Atlanta, GA</td>\n",
              "      <td>15-03-2020</td>\n",
              "      <td>.@Amazon says it is out of #stock of #househol...</td>\n",
              "      <td>Negative</td>\n",
              "    </tr>\n",
              "  </tbody>\n",
              "</table>\n",
              "</div>\n",
              "      <button class=\"colab-df-convert\" onclick=\"convertToInteractive('df-b424c40d-f395-443e-a4dd-71fcffac41ba')\"\n",
              "              title=\"Convert this dataframe to an interactive table.\"\n",
              "              style=\"display:none;\">\n",
              "        \n",
              "  <svg xmlns=\"http://www.w3.org/2000/svg\" height=\"24px\"viewBox=\"0 0 24 24\"\n",
              "       width=\"24px\">\n",
              "    <path d=\"M0 0h24v24H0V0z\" fill=\"none\"/>\n",
              "    <path d=\"M18.56 5.44l.94 2.06.94-2.06 2.06-.94-2.06-.94-.94-2.06-.94 2.06-2.06.94zm-11 1L8.5 8.5l.94-2.06 2.06-.94-2.06-.94L8.5 2.5l-.94 2.06-2.06.94zm10 10l.94 2.06.94-2.06 2.06-.94-2.06-.94-.94-2.06-.94 2.06-2.06.94z\"/><path d=\"M17.41 7.96l-1.37-1.37c-.4-.4-.92-.59-1.43-.59-.52 0-1.04.2-1.43.59L10.3 9.45l-7.72 7.72c-.78.78-.78 2.05 0 2.83L4 21.41c.39.39.9.59 1.41.59.51 0 1.02-.2 1.41-.59l7.78-7.78 2.81-2.81c.8-.78.8-2.07 0-2.86zM5.41 20L4 18.59l7.72-7.72 1.47 1.35L5.41 20z\"/>\n",
              "  </svg>\n",
              "      </button>\n",
              "      \n",
              "  <style>\n",
              "    .colab-df-container {\n",
              "      display:flex;\n",
              "      flex-wrap:wrap;\n",
              "      gap: 12px;\n",
              "    }\n",
              "\n",
              "    .colab-df-convert {\n",
              "      background-color: #E8F0FE;\n",
              "      border: none;\n",
              "      border-radius: 50%;\n",
              "      cursor: pointer;\n",
              "      display: none;\n",
              "      fill: #1967D2;\n",
              "      height: 32px;\n",
              "      padding: 0 0 0 0;\n",
              "      width: 32px;\n",
              "    }\n",
              "\n",
              "    .colab-df-convert:hover {\n",
              "      background-color: #E2EBFA;\n",
              "      box-shadow: 0px 1px 2px rgba(60, 64, 67, 0.3), 0px 1px 3px 1px rgba(60, 64, 67, 0.15);\n",
              "      fill: #174EA6;\n",
              "    }\n",
              "\n",
              "    [theme=dark] .colab-df-convert {\n",
              "      background-color: #3B4455;\n",
              "      fill: #D2E3FC;\n",
              "    }\n",
              "\n",
              "    [theme=dark] .colab-df-convert:hover {\n",
              "      background-color: #434B5C;\n",
              "      box-shadow: 0px 1px 3px 1px rgba(0, 0, 0, 0.15);\n",
              "      filter: drop-shadow(0px 1px 2px rgba(0, 0, 0, 0.3));\n",
              "      fill: #FFFFFF;\n",
              "    }\n",
              "  </style>\n",
              "\n",
              "      <script>\n",
              "        const buttonEl =\n",
              "          document.querySelector('#df-b424c40d-f395-443e-a4dd-71fcffac41ba button.colab-df-convert');\n",
              "        buttonEl.style.display =\n",
              "          google.colab.kernel.accessAllowed ? 'block' : 'none';\n",
              "\n",
              "        async function convertToInteractive(key) {\n",
              "          const element = document.querySelector('#df-b424c40d-f395-443e-a4dd-71fcffac41ba');\n",
              "          const dataTable =\n",
              "            await google.colab.kernel.invokeFunction('convertToInteractive',\n",
              "                                                     [key], {});\n",
              "          if (!dataTable) return;\n",
              "\n",
              "          const docLinkHtml = 'Like what you see? Visit the ' +\n",
              "            '<a target=\"_blank\" href=https://colab.research.google.com/notebooks/data_table.ipynb>data table notebook</a>'\n",
              "            + ' to learn more about interactive tables.';\n",
              "          element.innerHTML = '';\n",
              "          dataTable['output_type'] = 'display_data';\n",
              "          await google.colab.output.renderOutput(dataTable, element);\n",
              "          const docLink = document.createElement('div');\n",
              "          docLink.innerHTML = docLinkHtml;\n",
              "          element.appendChild(docLink);\n",
              "        }\n",
              "      </script>\n",
              "    </div>\n",
              "  </div>\n",
              "  "
            ]
          },
          "metadata": {},
          "execution_count": 163
        }
      ],
      "source": [
        "df_train.sample(5)"
      ]
    },
    {
      "cell_type": "code",
      "execution_count": null,
      "metadata": {
        "colab": {
          "base_uri": "https://localhost:8080/",
          "height": 424
        },
        "id": "XVw-lXniSAFR",
        "outputId": "472ab495-830d-4cc7-91f4-dc68fa6706c0"
      },
      "outputs": [
        {
          "output_type": "execute_result",
          "data": {
            "text/plain": [
              "      index  UserName  ScreenName                          Location  \\\n",
              "561     561       562       45514  Northern Ireland, United Kingdom   \n",
              "693     693       694       45646                           Austria   \n",
              "2928   2928      2929       47881                     Paris, France   \n",
              "716     716       717       45669                            London   \n",
              "1021   1021      1022       45974           England, United Kingdom   \n",
              "...     ...       ...         ...                               ...   \n",
              "653     653       654       45606                      St Louis, MO   \n",
              "1676   1676      1677       46629                       Switzerland   \n",
              "1682   1682      1683       46635                           Hamburg   \n",
              "982     982       983       45935                       Portsmouth    \n",
              "442     442       443       45395             The Burrow, The Woods   \n",
              "\n",
              "         TweetAt                                      OriginalTweet  \\\n",
              "561   12-03-2020  The person in front of me in the supermarket q...   \n",
              "693   12-03-2020  Austria this week closed its universities.\\r\\r...   \n",
              "2928  15-03-2020  @_MealsOnWheels I sincerely hope the Coronavir...   \n",
              "716   12-03-2020  Just did online shopping and first available s...   \n",
              "1021  13-03-2020  In these difficult times please consider donat...   \n",
              "...          ...                                                ...   \n",
              "653   12-03-2020  Hygiene tip: if you need to go to the supermar...   \n",
              "1676  13-03-2020  Some calming reassurance and alignment from ou...   \n",
              "1682  13-03-2020  Our supermarket is being funny. #Covid_19 #cor...   \n",
              "982   13-03-2020  My opinion I am mad as hell The and has easily...   \n",
              "442   12-03-2020  Hi everyone. If you are panic buying and endin...   \n",
              "\n",
              "               Sentiment  \n",
              "561             Positive  \n",
              "693              Neutral  \n",
              "2928  Extremely Positive  \n",
              "716              Neutral  \n",
              "1021            Negative  \n",
              "...                  ...  \n",
              "653             Negative  \n",
              "1676  Extremely Positive  \n",
              "1682            Positive  \n",
              "982   Extremely Negative  \n",
              "442   Extremely Negative  \n",
              "\n",
              "[3418 rows x 7 columns]"
            ],
            "text/html": [
              "\n",
              "  <div id=\"df-e81e7bf1-16e6-4737-a49e-733a3d775b19\">\n",
              "    <div class=\"colab-df-container\">\n",
              "      <div>\n",
              "<style scoped>\n",
              "    .dataframe tbody tr th:only-of-type {\n",
              "        vertical-align: middle;\n",
              "    }\n",
              "\n",
              "    .dataframe tbody tr th {\n",
              "        vertical-align: top;\n",
              "    }\n",
              "\n",
              "    .dataframe thead th {\n",
              "        text-align: right;\n",
              "    }\n",
              "</style>\n",
              "<table border=\"1\" class=\"dataframe\">\n",
              "  <thead>\n",
              "    <tr style=\"text-align: right;\">\n",
              "      <th></th>\n",
              "      <th>index</th>\n",
              "      <th>UserName</th>\n",
              "      <th>ScreenName</th>\n",
              "      <th>Location</th>\n",
              "      <th>TweetAt</th>\n",
              "      <th>OriginalTweet</th>\n",
              "      <th>Sentiment</th>\n",
              "    </tr>\n",
              "  </thead>\n",
              "  <tbody>\n",
              "    <tr>\n",
              "      <th>561</th>\n",
              "      <td>561</td>\n",
              "      <td>562</td>\n",
              "      <td>45514</td>\n",
              "      <td>Northern Ireland, United Kingdom</td>\n",
              "      <td>12-03-2020</td>\n",
              "      <td>The person in front of me in the supermarket q...</td>\n",
              "      <td>Positive</td>\n",
              "    </tr>\n",
              "    <tr>\n",
              "      <th>693</th>\n",
              "      <td>693</td>\n",
              "      <td>694</td>\n",
              "      <td>45646</td>\n",
              "      <td>Austria</td>\n",
              "      <td>12-03-2020</td>\n",
              "      <td>Austria this week closed its universities.\\r\\r...</td>\n",
              "      <td>Neutral</td>\n",
              "    </tr>\n",
              "    <tr>\n",
              "      <th>2928</th>\n",
              "      <td>2928</td>\n",
              "      <td>2929</td>\n",
              "      <td>47881</td>\n",
              "      <td>Paris, France</td>\n",
              "      <td>15-03-2020</td>\n",
              "      <td>@_MealsOnWheels I sincerely hope the Coronavir...</td>\n",
              "      <td>Extremely Positive</td>\n",
              "    </tr>\n",
              "    <tr>\n",
              "      <th>716</th>\n",
              "      <td>716</td>\n",
              "      <td>717</td>\n",
              "      <td>45669</td>\n",
              "      <td>London</td>\n",
              "      <td>12-03-2020</td>\n",
              "      <td>Just did online shopping and first available s...</td>\n",
              "      <td>Neutral</td>\n",
              "    </tr>\n",
              "    <tr>\n",
              "      <th>1021</th>\n",
              "      <td>1021</td>\n",
              "      <td>1022</td>\n",
              "      <td>45974</td>\n",
              "      <td>England, United Kingdom</td>\n",
              "      <td>13-03-2020</td>\n",
              "      <td>In these difficult times please consider donat...</td>\n",
              "      <td>Negative</td>\n",
              "    </tr>\n",
              "    <tr>\n",
              "      <th>...</th>\n",
              "      <td>...</td>\n",
              "      <td>...</td>\n",
              "      <td>...</td>\n",
              "      <td>...</td>\n",
              "      <td>...</td>\n",
              "      <td>...</td>\n",
              "      <td>...</td>\n",
              "    </tr>\n",
              "    <tr>\n",
              "      <th>653</th>\n",
              "      <td>653</td>\n",
              "      <td>654</td>\n",
              "      <td>45606</td>\n",
              "      <td>St Louis, MO</td>\n",
              "      <td>12-03-2020</td>\n",
              "      <td>Hygiene tip: if you need to go to the supermar...</td>\n",
              "      <td>Negative</td>\n",
              "    </tr>\n",
              "    <tr>\n",
              "      <th>1676</th>\n",
              "      <td>1676</td>\n",
              "      <td>1677</td>\n",
              "      <td>46629</td>\n",
              "      <td>Switzerland</td>\n",
              "      <td>13-03-2020</td>\n",
              "      <td>Some calming reassurance and alignment from ou...</td>\n",
              "      <td>Extremely Positive</td>\n",
              "    </tr>\n",
              "    <tr>\n",
              "      <th>1682</th>\n",
              "      <td>1682</td>\n",
              "      <td>1683</td>\n",
              "      <td>46635</td>\n",
              "      <td>Hamburg</td>\n",
              "      <td>13-03-2020</td>\n",
              "      <td>Our supermarket is being funny. #Covid_19 #cor...</td>\n",
              "      <td>Positive</td>\n",
              "    </tr>\n",
              "    <tr>\n",
              "      <th>982</th>\n",
              "      <td>982</td>\n",
              "      <td>983</td>\n",
              "      <td>45935</td>\n",
              "      <td>Portsmouth</td>\n",
              "      <td>13-03-2020</td>\n",
              "      <td>My opinion I am mad as hell The and has easily...</td>\n",
              "      <td>Extremely Negative</td>\n",
              "    </tr>\n",
              "    <tr>\n",
              "      <th>442</th>\n",
              "      <td>442</td>\n",
              "      <td>443</td>\n",
              "      <td>45395</td>\n",
              "      <td>The Burrow, The Woods</td>\n",
              "      <td>12-03-2020</td>\n",
              "      <td>Hi everyone. If you are panic buying and endin...</td>\n",
              "      <td>Extremely Negative</td>\n",
              "    </tr>\n",
              "  </tbody>\n",
              "</table>\n",
              "<p>3418 rows × 7 columns</p>\n",
              "</div>\n",
              "      <button class=\"colab-df-convert\" onclick=\"convertToInteractive('df-e81e7bf1-16e6-4737-a49e-733a3d775b19')\"\n",
              "              title=\"Convert this dataframe to an interactive table.\"\n",
              "              style=\"display:none;\">\n",
              "        \n",
              "  <svg xmlns=\"http://www.w3.org/2000/svg\" height=\"24px\"viewBox=\"0 0 24 24\"\n",
              "       width=\"24px\">\n",
              "    <path d=\"M0 0h24v24H0V0z\" fill=\"none\"/>\n",
              "    <path d=\"M18.56 5.44l.94 2.06.94-2.06 2.06-.94-2.06-.94-.94-2.06-.94 2.06-2.06.94zm-11 1L8.5 8.5l.94-2.06 2.06-.94-2.06-.94L8.5 2.5l-.94 2.06-2.06.94zm10 10l.94 2.06.94-2.06 2.06-.94-2.06-.94-.94-2.06-.94 2.06-2.06.94z\"/><path d=\"M17.41 7.96l-1.37-1.37c-.4-.4-.92-.59-1.43-.59-.52 0-1.04.2-1.43.59L10.3 9.45l-7.72 7.72c-.78.78-.78 2.05 0 2.83L4 21.41c.39.39.9.59 1.41.59.51 0 1.02-.2 1.41-.59l7.78-7.78 2.81-2.81c.8-.78.8-2.07 0-2.86zM5.41 20L4 18.59l7.72-7.72 1.47 1.35L5.41 20z\"/>\n",
              "  </svg>\n",
              "      </button>\n",
              "      \n",
              "  <style>\n",
              "    .colab-df-container {\n",
              "      display:flex;\n",
              "      flex-wrap:wrap;\n",
              "      gap: 12px;\n",
              "    }\n",
              "\n",
              "    .colab-df-convert {\n",
              "      background-color: #E8F0FE;\n",
              "      border: none;\n",
              "      border-radius: 50%;\n",
              "      cursor: pointer;\n",
              "      display: none;\n",
              "      fill: #1967D2;\n",
              "      height: 32px;\n",
              "      padding: 0 0 0 0;\n",
              "      width: 32px;\n",
              "    }\n",
              "\n",
              "    .colab-df-convert:hover {\n",
              "      background-color: #E2EBFA;\n",
              "      box-shadow: 0px 1px 2px rgba(60, 64, 67, 0.3), 0px 1px 3px 1px rgba(60, 64, 67, 0.15);\n",
              "      fill: #174EA6;\n",
              "    }\n",
              "\n",
              "    [theme=dark] .colab-df-convert {\n",
              "      background-color: #3B4455;\n",
              "      fill: #D2E3FC;\n",
              "    }\n",
              "\n",
              "    [theme=dark] .colab-df-convert:hover {\n",
              "      background-color: #434B5C;\n",
              "      box-shadow: 0px 1px 3px 1px rgba(0, 0, 0, 0.15);\n",
              "      filter: drop-shadow(0px 1px 2px rgba(0, 0, 0, 0.3));\n",
              "      fill: #FFFFFF;\n",
              "    }\n",
              "  </style>\n",
              "\n",
              "      <script>\n",
              "        const buttonEl =\n",
              "          document.querySelector('#df-e81e7bf1-16e6-4737-a49e-733a3d775b19 button.colab-df-convert');\n",
              "        buttonEl.style.display =\n",
              "          google.colab.kernel.accessAllowed ? 'block' : 'none';\n",
              "\n",
              "        async function convertToInteractive(key) {\n",
              "          const element = document.querySelector('#df-e81e7bf1-16e6-4737-a49e-733a3d775b19');\n",
              "          const dataTable =\n",
              "            await google.colab.kernel.invokeFunction('convertToInteractive',\n",
              "                                                     [key], {});\n",
              "          if (!dataTable) return;\n",
              "\n",
              "          const docLinkHtml = 'Like what you see? Visit the ' +\n",
              "            '<a target=\"_blank\" href=https://colab.research.google.com/notebooks/data_table.ipynb>data table notebook</a>'\n",
              "            + ' to learn more about interactive tables.';\n",
              "          element.innerHTML = '';\n",
              "          dataTable['output_type'] = 'display_data';\n",
              "          await google.colab.output.renderOutput(dataTable, element);\n",
              "          const docLink = document.createElement('div');\n",
              "          docLink.innerHTML = docLinkHtml;\n",
              "          element.appendChild(docLink);\n",
              "        }\n",
              "      </script>\n",
              "    </div>\n",
              "  </div>\n",
              "  "
            ]
          },
          "metadata": {},
          "execution_count": 164
        }
      ],
      "source": [
        "df_train"
      ]
    },
    {
      "cell_type": "markdown",
      "metadata": {
        "id": "CN9f8pblcWYN"
      },
      "source": [
        "Verific daca cele 2 dataframe-uri au instante comune"
      ]
    },
    {
      "cell_type": "code",
      "execution_count": null,
      "metadata": {
        "colab": {
          "base_uri": "https://localhost:8080/"
        },
        "id": "9cQbJDlRIuha",
        "outputId": "0f7e90e3-9140-46f2-a805-7fda549f6942"
      },
      "outputs": [
        {
          "output_type": "stream",
          "name": "stdout",
          "text": [
            "Empty DataFrame\n",
            "Columns: [index_x, UserName_x, ScreenName_x, Location_x, TweetAt_x, OriginalTweet, Sentiment_x, index_y, UserName_y, ScreenName_y, Location_y, TweetAt_y, Sentiment_y]\n",
            "Index: []\n",
            "Empty DataFrame\n",
            "Columns: [index_x, UserName_x, ScreenName_x, Location_x, TweetAt_x, OriginalTweet, Sentiment_x, index_y, UserName_y, ScreenName_y, Location_y, TweetAt_y, Sentiment_y]\n",
            "Index: []\n",
            "Empty DataFrame\n",
            "Columns: [index_x, UserName_x, ScreenName_x, Location_x, TweetAt_x, OriginalTweet, Sentiment_x, index_y, UserName_y, ScreenName_y, Location_y, TweetAt_y, Sentiment_y]\n",
            "Index: []\n"
          ]
        }
      ],
      "source": [
        "print(pd.merge(df_train, df_test, how='inner', on=['OriginalTweet']))\n",
        "print(pd.merge(df_train, df_val, how='inner', on=['OriginalTweet']))\n",
        "print(pd.merge(df_val, df_test, how='inner', on=['OriginalTweet']))"
      ]
    },
    {
      "cell_type": "code",
      "execution_count": null,
      "metadata": {
        "id": "f9XUOrgSDfzo"
      },
      "outputs": [],
      "source": [
        "def assign_new_label(x):\n",
        "  if x=='Extremely Negative' or x=='negative ':\n",
        "    x='Negative'\n",
        "  if x=='Extremely Positive' or x=='Extremly Positive':\n",
        "    x='Positive'\n",
        "  return x"
      ]
    },
    {
      "cell_type": "code",
      "execution_count": null,
      "metadata": {
        "id": "XI2zdjHYDgnZ"
      },
      "outputs": [],
      "source": [
        "df_train['target'] = df_train['Sentiment'].apply(lambda x: assign_new_label(x))\n",
        "df_test['target'] = df_test['Sentiment'].apply(lambda x: assign_new_label(x))\n",
        "df_val['target'] = df_val['Sentiment'].apply(lambda x: assign_new_label(x))"
      ]
    },
    {
      "cell_type": "code",
      "execution_count": null,
      "metadata": {
        "id": "3k_4oDpfdPyx"
      },
      "outputs": [],
      "source": [
        "df_train = df_train.dropna(subset=['target'])\n",
        "df_test = df_test.dropna(subset=['target'])\n",
        "df_val = df_val.dropna(subset=['target'])"
      ]
    },
    {
      "cell_type": "code",
      "execution_count": null,
      "metadata": {
        "colab": {
          "base_uri": "https://localhost:8080/",
          "height": 809
        },
        "id": "O3ZrPvWaDvHs",
        "outputId": "f0f87cf6-51b6-4d55-edcd-8e5e84b3c992"
      },
      "outputs": [
        {
          "output_type": "display_data",
          "data": {
            "text/plain": [
              "<Figure size 720x288 with 1 Axes>"
            ],
            "image/png": "[encoded data removed]"
          },
          "metadata": {
            "needs_background": "light"
          }
        },
        {
          "output_type": "display_data",
          "data": {
            "text/plain": [
              "<Figure size 720x288 with 1 Axes>"
            ],
            "image/png": "[encoded data removed]"
          },
          "metadata": {
            "needs_background": "light"
          }
        },
        {
          "output_type": "display_data",
          "data": {
            "text/plain": [
              "<Figure size 720x288 with 1 Axes>"
            ],
            "image/png": "[encoded data removed]"
          },
          "metadata": {
            "needs_background": "light"
          }
        }
      ],
      "source": [
        "%matplotlib inline\n",
        "plot_distribution(df_train,'target','Training Dataset')\n",
        "plot_distribution(df_val,'target','Validation Dataset')\n",
        "plot_distribution(df_test,'target','Test Dataset')"
      ]
    },
    {
      "cell_type": "code",
      "execution_count": null,
      "metadata": {
        "colab": {
          "base_uri": "https://localhost:8080/"
        },
        "id": "Q8uSFQ9wQpoB",
        "outputId": "b099a29c-a0b7-4dee-9506-0b87bf6d911e"
      },
      "outputs": [
        {
          "output_type": "execute_result",
          "data": {
            "text/plain": [
              "array(['Negative', 'Neutral', 'Positive'], dtype='<U8')"
            ]
          },
          "metadata": {},
          "execution_count": 170
        }
      ],
      "source": [
        "np_labels = np.array(df_train.target.tolist())\n",
        "classes = np.unique(np_labels)\n",
        "classes"
      ]
    },
    {
      "cell_type": "code",
      "execution_count": null,
      "metadata": {
        "id": "732Kt5Bgm9RV"
      },
      "outputs": [],
      "source": [
        "df_train= df_train.dropna(subset=['target'])\n",
        "df_test= df_test.dropna(subset=['target'])\n",
        "df_val= df_val.dropna(subset=['target'])"
      ]
    },
    {
      "cell_type": "markdown",
      "metadata": {
        "id": "2NAYAE8NLz5e"
      },
      "source": [
        "# Data preparation"
      ]
    },
    {
      "cell_type": "markdown",
      "metadata": {
        "id": "a4XfZUjkL169"
      },
      "source": [
        "###TweetTokenizer for BERT like model"
      ]
    },
    {
      "cell_type": "code",
      "execution_count": null,
      "metadata": {
        "id": "FSrotfdu6eI-"
      },
      "outputs": [],
      "source": [
        "tokenizer = TweetTokenizer()\n",
        "\"\"\" Bert proposed method to cleanup dataset\"\"\"\n",
        "\n",
        "\"\"\" Added characters “”–-‘’ \"\"\"\n",
        "def normalizeToken(token):\n",
        "    lowercased_token = token.lower()\n",
        "\n",
        "    if token.startswith(\"@\"):\n",
        "        return \"@USER\"\n",
        "    elif lowercased_token.startswith(\"http\") or lowercased_token.startswith(\"www\"):\n",
        "        return \"HTTPURL\"\n",
        "    elif len(token) == 1:\n",
        "        return demojize(token)\n",
        "    else:\n",
        "        if token == \"‘\" or token=='’':\n",
        "            return \"'\"\n",
        "        elif token == \"…\":\n",
        "            return \"...\"\n",
        "        elif token == \"“\" or token==\"”\":\n",
        "            return \"\\\"\"\n",
        "        elif token == \"–-\":\n",
        "            return \"--\"\n",
        "        else:\n",
        "            return token\n",
        "\n",
        "\"\"\" Added control_char_regex | html.unscape | unicode.decode \"\"\"\n",
        "def normalizeTweet(tweet):\n",
        "    tokens = tokenizer.tokenize(tweet.replace(\"’\", \"'\").replace(\"…\", \"...\"))\n",
        "    normTweet = \" \".join([normalizeToken(token) for token in tokens])\n",
        "    control_char_regex = re.compile(r'[\\r\\n\\t]+')\n",
        "    normTweet = re.sub(control_char_regex, ' ', normTweet)\n",
        "    normTweet = html.unescape(normTweet)\n",
        "    normTweet = unidecode.unidecode(normTweet)\n",
        "\n",
        "    normTweet = (\n",
        "        normTweet.replace(\"cannot \", \"can not \")\n",
        "        .replace(\"n't \", \" n't \")\n",
        "        .replace(\"n 't \", \" n't \")\n",
        "        .replace(\"ca n't\", \"can't\")\n",
        "        .replace(\"ai n't\", \"ain't\")\n",
        "    )\n",
        "    normTweet = (\n",
        "        normTweet.replace(\"'m \", \" 'm \")\n",
        "        .replace(\"'re \", \" 're \")\n",
        "        .replace(\"'s \", \" 's \")\n",
        "        .replace(\"'ll \", \" 'll \")\n",
        "        .replace(\"'d \", \" 'd \")\n",
        "        .replace(\"'ve \", \" 've \")\n",
        "    )\n",
        "    normTweet = (\n",
        "        normTweet.replace(\" p . m .\", \"  p.m.\")\n",
        "        .replace(\" p . m \", \" p.m \")\n",
        "        .replace(\" a . m .\", \" a.m.\")\n",
        "        .replace(\" a . m \", \" a.m \")\n",
        "    )\n",
        "\n",
        "    return \" \".join(normTweet.split())\n"
      ]
    },
    {
      "cell_type": "code",
      "execution_count": null,
      "metadata": {
        "colab": {
          "base_uri": "https://localhost:8080/"
        },
        "id": "Y9jEFGvyMp9K",
        "outputId": "181a6cca-6c9e-4492-d252-679126f79d73"
      },
      "outputs": [
        {
          "output_type": "stream",
          "name": "stdout",
          "text": [
            "SC has first two presumptive cases of coronavirus #COVIDIsEverywhere , DHEC confirms HTTPURL ... via @USER\n"
          ]
        }
      ],
      "source": [
        "print(\n",
        "  normalizeTweet(\n",
        "      \"SC has first two presumptive cases of coronavirus #COVIDIsEverywhere, DHEC confirms https://postandcourier.com/health/covid19/sc-has-first-two-presumptive-cases-of-coronavirus-dhec-confirms/article_bddfe4ae-5fd3-11ea-9ce4-5f495366cee6.html?utm_medium=social&utm_source=twitter&utm_campaign=user-share… via @postandcourier\"\n",
        "  )\n",
        ")"
      ]
    },
    {
      "cell_type": "code",
      "execution_count": null,
      "metadata": {
        "id": "zCEwHAB7NEgN"
      },
      "outputs": [],
      "source": [
        "df_train['final'] = df_train['OriginalTweet'].apply(lambda x: normalizeTweet(x))\n",
        "df_test['final'] = df_test['OriginalTweet'].apply(lambda x: normalizeTweet(x))\n",
        "df_val['final'] = df_val['OriginalTweet'].apply(lambda x: normalizeTweet(x))"
      ]
    },
    {
      "cell_type": "code",
      "execution_count": null,
      "metadata": {
        "colab": {
          "base_uri": "https://localhost:8080/",
          "height": 81
        },
        "id": "zrkIVshyNGsU",
        "outputId": "7afb78bf-9ed8-4c19-86a9-fad00b0c4759"
      },
      "outputs": [
        {
          "output_type": "execute_result",
          "data": {
            "text/plain": [
              "                                           OriginalTweet  \\\n",
              "39626  COVID-19 Lockdown: Ilorin residents flood mark...   \n",
              "\n",
              "                                                   final  \n",
              "39626  COVID - 19 Lockdown : Ilorin residents flood m...  "
            ],
            "text/html": [
              "\n",
              "  <div id=\"df-24b6f371-21e3-4497-baf0-b056a392e973\">\n",
              "    <div class=\"colab-df-container\">\n",
              "      <div>\n",
              "<style scoped>\n",
              "    .dataframe tbody tr th:only-of-type {\n",
              "        vertical-align: middle;\n",
              "    }\n",
              "\n",
              "    .dataframe tbody tr th {\n",
              "        vertical-align: top;\n",
              "    }\n",
              "\n",
              "    .dataframe thead th {\n",
              "        text-align: right;\n",
              "    }\n",
              "</style>\n",
              "<table border=\"1\" class=\"dataframe\">\n",
              "  <thead>\n",
              "    <tr style=\"text-align: right;\">\n",
              "      <th></th>\n",
              "      <th>OriginalTweet</th>\n",
              "      <th>final</th>\n",
              "    </tr>\n",
              "  </thead>\n",
              "  <tbody>\n",
              "    <tr>\n",
              "      <th>39626</th>\n",
              "      <td>COVID-19 Lockdown: Ilorin residents flood mark...</td>\n",
              "      <td>COVID - 19 Lockdown : Ilorin residents flood m...</td>\n",
              "    </tr>\n",
              "  </tbody>\n",
              "</table>\n",
              "</div>\n",
              "      <button class=\"colab-df-convert\" onclick=\"convertToInteractive('df-24b6f371-21e3-4497-baf0-b056a392e973')\"\n",
              "              title=\"Convert this dataframe to an interactive table.\"\n",
              "              style=\"display:none;\">\n",
              "        \n",
              "  <svg xmlns=\"http://www.w3.org/2000/svg\" height=\"24px\"viewBox=\"0 0 24 24\"\n",
              "       width=\"24px\">\n",
              "    <path d=\"M0 0h24v24H0V0z\" fill=\"none\"/>\n",
              "    <path d=\"M18.56 5.44l.94 2.06.94-2.06 2.06-.94-2.06-.94-.94-2.06-.94 2.06-2.06.94zm-11 1L8.5 8.5l.94-2.06 2.06-.94-2.06-.94L8.5 2.5l-.94 2.06-2.06.94zm10 10l.94 2.06.94-2.06 2.06-.94-2.06-.94-.94-2.06-.94 2.06-2.06.94z\"/><path d=\"M17.41 7.96l-1.37-1.37c-.4-.4-.92-.59-1.43-.59-.52 0-1.04.2-1.43.59L10.3 9.45l-7.72 7.72c-.78.78-.78 2.05 0 2.83L4 21.41c.39.39.9.59 1.41.59.51 0 1.02-.2 1.41-.59l7.78-7.78 2.81-2.81c.8-.78.8-2.07 0-2.86zM5.41 20L4 18.59l7.72-7.72 1.47 1.35L5.41 20z\"/>\n",
              "  </svg>\n",
              "      </button>\n",
              "      \n",
              "  <style>\n",
              "    .colab-df-container {\n",
              "      display:flex;\n",
              "      flex-wrap:wrap;\n",
              "      gap: 12px;\n",
              "    }\n",
              "\n",
              "    .colab-df-convert {\n",
              "      background-color: #E8F0FE;\n",
              "      border: none;\n",
              "      border-radius: 50%;\n",
              "      cursor: pointer;\n",
              "      display: none;\n",
              "      fill: #1967D2;\n",
              "      height: 32px;\n",
              "      padding: 0 0 0 0;\n",
              "      width: 32px;\n",
              "    }\n",
              "\n",
              "    .colab-df-convert:hover {\n",
              "      background-color: #E2EBFA;\n",
              "      box-shadow: 0px 1px 2px rgba(60, 64, 67, 0.3), 0px 1px 3px 1px rgba(60, 64, 67, 0.15);\n",
              "      fill: #174EA6;\n",
              "    }\n",
              "\n",
              "    [theme=dark] .colab-df-convert {\n",
              "      background-color: #3B4455;\n",
              "      fill: #D2E3FC;\n",
              "    }\n",
              "\n",
              "    [theme=dark] .colab-df-convert:hover {\n",
              "      background-color: #434B5C;\n",
              "      box-shadow: 0px 1px 3px 1px rgba(0, 0, 0, 0.15);\n",
              "      filter: drop-shadow(0px 1px 2px rgba(0, 0, 0, 0.3));\n",
              "      fill: #FFFFFF;\n",
              "    }\n",
              "  </style>\n",
              "\n",
              "      <script>\n",
              "        const buttonEl =\n",
              "          document.querySelector('#df-24b6f371-21e3-4497-baf0-b056a392e973 button.colab-df-convert');\n",
              "        buttonEl.style.display =\n",
              "          google.colab.kernel.accessAllowed ? 'block' : 'none';\n",
              "\n",
              "        async function convertToInteractive(key) {\n",
              "          const element = document.querySelector('#df-24b6f371-21e3-4497-baf0-b056a392e973');\n",
              "          const dataTable =\n",
              "            await google.colab.kernel.invokeFunction('convertToInteractive',\n",
              "                                                     [key], {});\n",
              "          if (!dataTable) return;\n",
              "\n",
              "          const docLinkHtml = 'Like what you see? Visit the ' +\n",
              "            '<a target=\"_blank\" href=https://colab.research.google.com/notebooks/data_table.ipynb>data table notebook</a>'\n",
              "            + ' to learn more about interactive tables.';\n",
              "          element.innerHTML = '';\n",
              "          dataTable['output_type'] = 'display_data';\n",
              "          await google.colab.output.renderOutput(dataTable, element);\n",
              "          const docLink = document.createElement('div');\n",
              "          docLink.innerHTML = docLinkHtml;\n",
              "          element.appendChild(docLink);\n",
              "        }\n",
              "      </script>\n",
              "    </div>\n",
              "  </div>\n",
              "  "
            ]
          },
          "metadata": {},
          "execution_count": 264
        }
      ],
      "source": [
        "df_val[:1][['OriginalTweet','final']]"
      ]
    },
    {
      "cell_type": "code",
      "execution_count": null,
      "metadata": {
        "id": "K_8OJBVJNJ9_"
      },
      "outputs": [],
      "source": [
        "df_test= df_test.dropna(subset=['final'])\n",
        "df_train= df_train.dropna(subset=['final'])\n",
        "df_val= df_val.dropna(subset=['final'])"
      ]
    },
    {
      "cell_type": "code",
      "execution_count": null,
      "metadata": {
        "colab": {
          "base_uri": "https://localhost:8080/"
        },
        "id": "QN0P1jPPNK0R",
        "outputId": "9c6cee77-b622-410b-f86d-b7ccd2711228"
      },
      "outputs": [
        {
          "output_type": "stream",
          "name": "stdout",
          "text": [
            "3798 37041 4116\n"
          ]
        }
      ],
      "source": [
        "print(len(df_test),len(df_train), len(df_val))"
      ]
    },
    {
      "cell_type": "markdown",
      "metadata": {
        "id": "uNYaaKvuNaNV"
      },
      "source": [
        "###BERT Tokenizer"
      ]
    },
    {
      "cell_type": "markdown",
      "metadata": {
        "id": "iWWAXYqgNqm9"
      },
      "source": [
        "In order to apply the pre-trained BERT, we must use the tokenizer provided by the library. This is because (1) the model has a specific, fixed vocabulary and (2) the BERT tokenizer has a particular way of handling out-of-vocabulary words.\n",
        "\n",
        "In addition, we are required to add special tokens to the start and end of each sentence, pad & truncate all sentences to a single constant length, and explicitly specify what are padding tokens with the \"attention mask\".\n",
        "\n",
        "The encode_plus method of BERT tokenizer will:\n",
        "\n",
        "(1) split our text into tokens,\n",
        "\n",
        "(2) add the special [CLS] and [SEP] tokens, and\n",
        "\n",
        "(3) convert these tokens into indexes of the tokenizer vocabulary,\n",
        "\n",
        "(4) pad or truncate sentences to max length, and\n",
        "\n",
        "(5) create attention mask."
      ]
    },
    {
      "cell_type": "code",
      "execution_count": null,
      "metadata": {
        "colab": {
          "base_uri": "https://localhost:8080/",
          "height": 36
        },
        "id": "-K8Gi0F5fuFl",
        "outputId": "f812d624-4e87-4962-d1d9-47e85181d958"
      },
      "outputs": [
        {
          "output_type": "execute_result",
          "data": {
            "text/plain": [
              "'digitalepidemiologylab/covid-twitter-bert-v2'"
            ],
            "application/vnd.google.colaboratory.intrinsic+json": {
              "type": "string"
            }
          },
          "metadata": {},
          "execution_count": 298
        }
      ],
      "source": [
        "config.PRE_TRAINED_MODEL"
      ]
    },
    {
      "cell_type": "code",
      "execution_count": null,
      "metadata": {
        "id": "1i2jB1eKNcAl"
      },
      "outputs": [],
      "source": [
        "bert_tokenizer = AutoTokenizer.from_pretrained(config.PRE_TRAINED_MODEL,normalization=True, use_fast=False)"
      ]
    },
    {
      "cell_type": "code",
      "execution_count": null,
      "metadata": {
        "id": "KXslW5rUN_Bd"
      },
      "outputs": [],
      "source": [
        "def tokenize_function(text):\n",
        "  \"\"\"Perform required preprocessing steps for pretrained BERT.\n",
        "  @param    text (string): pre-processed-text to be processed.\n",
        "  @return   input_ids (torch.Tensor): Tensor of token ids to be fed to a model.\n",
        "  @return   attention_masks (torch.Tensor): Tensor of indices specifying which\n",
        "                tokens should be attended to by the model.\n",
        "  \"\"\"\n",
        "  tok = bert_tokenizer(text  #Normalized text\n",
        "                       ,add_special_tokens=True, # Add `[CLS]` and `[SEP]`\n",
        "                       padding=\"max_length\",  # Pad sentence to max length\n",
        "                       max_length = config.MAX_LEN,  # Max length to truncate/pad\n",
        "                       truncation=True,   \n",
        "                       return_tensors=\"pt\"  # Return PyTorch tensor\n",
        "                       )\n",
        "  return tok['input_ids'], tok['attention_mask']"
      ]
    },
    {
      "cell_type": "code",
      "execution_count": null,
      "metadata": {
        "id": "L2An1rYvOUq6"
      },
      "outputs": [],
      "source": [
        "df_train['input_ids'], df_train['attention_mask'] = zip(*df_train['final'].map(tokenize_function))"
      ]
    },
    {
      "cell_type": "code",
      "execution_count": null,
      "metadata": {
        "id": "VthZ5DZmPBgL"
      },
      "outputs": [],
      "source": [
        "df_test['input_ids'], df_test['attention_mask'] = zip(*df_test['final'].map(tokenize_function))"
      ]
    },
    {
      "cell_type": "code",
      "execution_count": null,
      "metadata": {
        "id": "UI2JFWh12oqO"
      },
      "outputs": [],
      "source": [
        "df_val['input_ids'], df_val['attention_mask'] = zip(*df_val['final'].map(tokenize_function))"
      ]
    },
    {
      "cell_type": "code",
      "execution_count": null,
      "metadata": {
        "colab": {
          "base_uri": "https://localhost:8080/",
          "height": 142
        },
        "id": "0D9v1h61PI-D",
        "outputId": "0a945243-f324-4aca-f42b-3f2de8ea69d4"
      },
      "outputs": [
        {
          "output_type": "execute_result",
          "data": {
            "text/plain": [
              "     index  UserName  ScreenName Location     TweetAt  \\\n",
              "826    826       827       45779    Laval  12-03-2020   \n",
              "\n",
              "                                         OriginalTweet Sentiment   target  \\\n",
              "826  Me coming back from the grocery store!! ???\\r\\...   Neutral  Neutral   \n",
              "\n",
              "                                                 final  \\\n",
              "826  Me coming back from the grocery store ! ! ? ? ...   \n",
              "\n",
              "                                             input_ids  \\\n",
              "826  [[tensor(101), tensor(2033), tensor(2746), ten...   \n",
              "\n",
              "                                        attention_mask  \n",
              "826  [[tensor(1), tensor(1), tensor(1), tensor(1), ...  "
            ],
            "text/html": [
              "\n",
              "  <div id=\"df-cec4d8c6-f900-40a7-9178-7d0d0240e338\">\n",
              "    <div class=\"colab-df-container\">\n",
              "      <div>\n",
              "<style scoped>\n",
              "    .dataframe tbody tr th:only-of-type {\n",
              "        vertical-align: middle;\n",
              "    }\n",
              "\n",
              "    .dataframe tbody tr th {\n",
              "        vertical-align: top;\n",
              "    }\n",
              "\n",
              "    .dataframe thead th {\n",
              "        text-align: right;\n",
              "    }\n",
              "</style>\n",
              "<table border=\"1\" class=\"dataframe\">\n",
              "  <thead>\n",
              "    <tr style=\"text-align: right;\">\n",
              "      <th></th>\n",
              "      <th>index</th>\n",
              "      <th>UserName</th>\n",
              "      <th>ScreenName</th>\n",
              "      <th>Location</th>\n",
              "      <th>TweetAt</th>\n",
              "      <th>OriginalTweet</th>\n",
              "      <th>Sentiment</th>\n",
              "      <th>target</th>\n",
              "      <th>final</th>\n",
              "      <th>input_ids</th>\n",
              "      <th>attention_mask</th>\n",
              "    </tr>\n",
              "  </thead>\n",
              "  <tbody>\n",
              "    <tr>\n",
              "      <th>826</th>\n",
              "      <td>826</td>\n",
              "      <td>827</td>\n",
              "      <td>45779</td>\n",
              "      <td>Laval</td>\n",
              "      <td>12-03-2020</td>\n",
              "      <td>Me coming back from the grocery store!! ???\\r\\...</td>\n",
              "      <td>Neutral</td>\n",
              "      <td>Neutral</td>\n",
              "      <td>Me coming back from the grocery store ! ! ? ? ...</td>\n",
              "      <td>[[tensor(101), tensor(2033), tensor(2746), ten...</td>\n",
              "      <td>[[tensor(1), tensor(1), tensor(1), tensor(1), ...</td>\n",
              "    </tr>\n",
              "  </tbody>\n",
              "</table>\n",
              "</div>\n",
              "      <button class=\"colab-df-convert\" onclick=\"convertToInteractive('df-cec4d8c6-f900-40a7-9178-7d0d0240e338')\"\n",
              "              title=\"Convert this dataframe to an interactive table.\"\n",
              "              style=\"display:none;\">\n",
              "        \n",
              "  <svg xmlns=\"http://www.w3.org/2000/svg\" height=\"24px\"viewBox=\"0 0 24 24\"\n",
              "       width=\"24px\">\n",
              "    <path d=\"M0 0h24v24H0V0z\" fill=\"none\"/>\n",
              "    <path d=\"M18.56 5.44l.94 2.06.94-2.06 2.06-.94-2.06-.94-.94-2.06-.94 2.06-2.06.94zm-11 1L8.5 8.5l.94-2.06 2.06-.94-2.06-.94L8.5 2.5l-.94 2.06-2.06.94zm10 10l.94 2.06.94-2.06 2.06-.94-2.06-.94-.94-2.06-.94 2.06-2.06.94z\"/><path d=\"M17.41 7.96l-1.37-1.37c-.4-.4-.92-.59-1.43-.59-.52 0-1.04.2-1.43.59L10.3 9.45l-7.72 7.72c-.78.78-.78 2.05 0 2.83L4 21.41c.39.39.9.59 1.41.59.51 0 1.02-.2 1.41-.59l7.78-7.78 2.81-2.81c.8-.78.8-2.07 0-2.86zM5.41 20L4 18.59l7.72-7.72 1.47 1.35L5.41 20z\"/>\n",
              "  </svg>\n",
              "      </button>\n",
              "      \n",
              "  <style>\n",
              "    .colab-df-container {\n",
              "      display:flex;\n",
              "      flex-wrap:wrap;\n",
              "      gap: 12px;\n",
              "    }\n",
              "\n",
              "    .colab-df-convert {\n",
              "      background-color: #E8F0FE;\n",
              "      border: none;\n",
              "      border-radius: 50%;\n",
              "      cursor: pointer;\n",
              "      display: none;\n",
              "      fill: #1967D2;\n",
              "      height: 32px;\n",
              "      padding: 0 0 0 0;\n",
              "      width: 32px;\n",
              "    }\n",
              "\n",
              "    .colab-df-convert:hover {\n",
              "      background-color: #E2EBFA;\n",
              "      box-shadow: 0px 1px 2px rgba(60, 64, 67, 0.3), 0px 1px 3px 1px rgba(60, 64, 67, 0.15);\n",
              "      fill: #174EA6;\n",
              "    }\n",
              "\n",
              "    [theme=dark] .colab-df-convert {\n",
              "      background-color: #3B4455;\n",
              "      fill: #D2E3FC;\n",
              "    }\n",
              "\n",
              "    [theme=dark] .colab-df-convert:hover {\n",
              "      background-color: #434B5C;\n",
              "      box-shadow: 0px 1px 3px 1px rgba(0, 0, 0, 0.15);\n",
              "      filter: drop-shadow(0px 1px 2px rgba(0, 0, 0, 0.3));\n",
              "      fill: #FFFFFF;\n",
              "    }\n",
              "  </style>\n",
              "\n",
              "      <script>\n",
              "        const buttonEl =\n",
              "          document.querySelector('#df-cec4d8c6-f900-40a7-9178-7d0d0240e338 button.colab-df-convert');\n",
              "        buttonEl.style.display =\n",
              "          google.colab.kernel.accessAllowed ? 'block' : 'none';\n",
              "\n",
              "        async function convertToInteractive(key) {\n",
              "          const element = document.querySelector('#df-cec4d8c6-f900-40a7-9178-7d0d0240e338');\n",
              "          const dataTable =\n",
              "            await google.colab.kernel.invokeFunction('convertToInteractive',\n",
              "                                                     [key], {});\n",
              "          if (!dataTable) return;\n",
              "\n",
              "          const docLinkHtml = 'Like what you see? Visit the ' +\n",
              "            '<a target=\"_blank\" href=https://colab.research.google.com/notebooks/data_table.ipynb>data table notebook</a>'\n",
              "            + ' to learn more about interactive tables.';\n",
              "          element.innerHTML = '';\n",
              "          dataTable['output_type'] = 'display_data';\n",
              "          await google.colab.output.renderOutput(dataTable, element);\n",
              "          const docLink = document.createElement('div');\n",
              "          docLink.innerHTML = docLinkHtml;\n",
              "          element.appendChild(docLink);\n",
              "        }\n",
              "      </script>\n",
              "    </div>\n",
              "  </div>\n",
              "  "
            ]
          },
          "metadata": {},
          "execution_count": 302
        }
      ],
      "source": [
        "df_test.sample(1)"
      ]
    },
    {
      "cell_type": "markdown",
      "metadata": {
        "id": "B0AdNG5DPVhc"
      },
      "source": [
        "### Download BERT pre-trained model"
      ]
    },
    {
      "cell_type": "code",
      "execution_count": null,
      "metadata": {
        "colab": {
          "base_uri": "https://localhost:8080/"
        },
        "id": "de0yEAJUPYhd",
        "outputId": "363e0112-c377-4e43-f684-32acf1b75523"
      },
      "outputs": [
        {
          "output_type": "stream",
          "name": "stderr",
          "text": [
            "Some weights of the model checkpoint at digitalepidemiologylab/covid-twitter-bert-v2 were not used when initializing BertModel: ['cls.predictions.bias', 'cls.predictions.transform.LayerNorm.bias', 'cls.seq_relationship.weight', 'cls.predictions.transform.dense.bias', 'cls.seq_relationship.bias', 'cls.predictions.decoder.weight', 'cls.predictions.transform.LayerNorm.weight', 'cls.predictions.decoder.bias', 'cls.predictions.transform.dense.weight']\n",
            "- This IS expected if you are initializing BertModel from the checkpoint of a model trained on another task or with another architecture (e.g. initializing a BertForSequenceClassification model from a BertForPreTraining model).\n",
            "- This IS NOT expected if you are initializing BertModel from the checkpoint of a model that you expect to be exactly identical (initializing a BertForSequenceClassification model from a BertForSequenceClassification model).\n"
          ]
        }
      ],
      "source": [
        "bertweet = AutoModel.from_pretrained(config.PRE_TRAINED_MODEL)"
      ]
    },
    {
      "cell_type": "markdown",
      "metadata": {
        "id": "PkqMhXYzPfVK"
      },
      "source": [
        "### Create Dataset"
      ]
    },
    {
      "cell_type": "code",
      "execution_count": null,
      "metadata": {
        "id": "k6qxqhYQPxij",
        "colab": {
          "base_uri": "https://localhost:8080/"
        },
        "outputId": "014a857b-9fd6-493b-bf5c-1f78db5969ff"
      },
      "outputs": [
        {
          "output_type": "stream",
          "name": "stdout",
          "text": [
            "2 2\n"
          ]
        }
      ],
      "source": [
        "encoder = LabelEncoder()\n",
        "y_train = encoder.fit_transform(df_train.target.to_list())\n",
        "y_test = encoder.transform(df_test.target.to_list())\n",
        "y_val = encoder.transform(df_val.target.to_list())\n",
        "print(y_train[1], y_test[1])"
      ]
    },
    {
      "cell_type": "code",
      "execution_count": null,
      "metadata": {
        "id": "orCaW_ALP4yz"
      },
      "outputs": [],
      "source": [
        "class TweetDataset(torch.utils.data.Dataset):\n",
        "  def __init__(self, df, encoded_y):\n",
        "      self.df = df\n",
        "      self.y = encoded_y\n",
        "\n",
        "  def __len__(self):\n",
        "      return len(self.df)\n",
        "\n",
        "  def __getitem__(self, idx):\n",
        "      item = self.df.iloc[idx]\n",
        "      text = item['final']\n",
        "      label = self.y[idx]\n",
        "      return {\n",
        "          'text': text,\n",
        "          'input_ids' : torch.tensor(item['input_ids']).to(device),\n",
        "          'attention_mask' : torch.tensor(item['attention_mask']).to(device),\n",
        "          'labels' : torch.tensor(label).to(device)\n",
        "      }"
      ]
    },
    {
      "cell_type": "code",
      "source": [
        "len(df_test)"
      ],
      "metadata": {
        "colab": {
          "base_uri": "https://localhost:8080/"
        },
        "id": "M2QsFTVc3REs",
        "outputId": "448b2cff-76db-44e4-d1fa-b14980930edc"
      },
      "execution_count": null,
      "outputs": [
        {
          "output_type": "execute_result",
          "data": {
            "text/plain": [
              "3798"
            ]
          },
          "metadata": {},
          "execution_count": 306
        }
      ]
    },
    {
      "cell_type": "code",
      "execution_count": null,
      "metadata": {
        "id": "k1UtrsvT2Bc9"
      },
      "outputs": [],
      "source": [
        "test_set = TweetDataset(df_test,y_test)\n",
        "train_set = TweetDataset(df_train, y_train)\n",
        "val_set = TweetDataset(df_val, y_val)"
      ]
    },
    {
      "cell_type": "code",
      "execution_count": null,
      "metadata": {
        "colab": {
          "base_uri": "https://localhost:8080/"
        },
        "id": "gJUbOeX6QJw3",
        "outputId": "4320d0a3-68dc-411f-927c-75bf7382bf6a"
      },
      "outputs": [
        {
          "output_type": "stream",
          "name": "stdout",
          "text": [
            "3798\n",
            "{'text': 'TRENDING : New Yorkers encounter empty supermarket shelves ( pictured , Wegmans in Brooklyn ) , sold-out online grocers ( FoodKick , MaxDelivery ) as #coronavirus-fearing shoppers stock up HTTPURL HTTPURL', 'input_ids': tensor([[  101,  9874,  2075,  1024,  2047, 19095,  2015,  8087,  4064, 17006,\n",
            "         15475,  1006, 15885,  1010,  2057, 25494,  2015,  1999,  6613,  1007,\n",
            "          1010,  2853,  1011,  2041,  3784, 24665, 10085,  2545,  1006,  2833,\n",
            "         29493,  2243,  1010,  4098,  9247, 16402,  2100,  1007,  2004,  1001,\n",
            "         21887, 23350,  1011, 14892,  4497,  7347,  4518,  2039,  8299,  3126,\n",
            "          2140,  8299,  3126,  2140,   102,     0,     0,     0,     0,     0,\n",
            "             0,     0,     0,     0,     0,     0,     0,     0,     0,     0,\n",
            "             0,     0,     0,     0,     0,     0,     0,     0,     0,     0,\n",
            "             0,     0,     0,     0,     0,     0,     0,     0,     0,     0,\n",
            "             0,     0,     0,     0,     0,     0]], device='cuda:0'), 'attention_mask': tensor([[1, 1, 1, 1, 1, 1, 1, 1, 1, 1, 1, 1, 1, 1, 1, 1, 1, 1, 1, 1, 1, 1, 1, 1,\n",
            "         1, 1, 1, 1, 1, 1, 1, 1, 1, 1, 1, 1, 1, 1, 1, 1, 1, 1, 1, 1, 1, 1, 1, 1,\n",
            "         1, 1, 1, 1, 1, 1, 1, 0, 0, 0, 0, 0, 0, 0, 0, 0, 0, 0, 0, 0, 0, 0, 0, 0,\n",
            "         0, 0, 0, 0, 0, 0, 0, 0, 0, 0, 0, 0, 0, 0, 0, 0, 0, 0, 0, 0, 0, 0, 0, 0]],\n",
            "       device='cuda:0'), 'labels': tensor(0, device='cuda:0')}\n"
          ]
        },
        {
          "output_type": "stream",
          "name": "stderr",
          "text": [
            "/usr/local/lib/python3.7/dist-packages/ipykernel_launcher.py:15: UserWarning: To copy construct from a tensor, it is recommended to use sourceTensor.clone().detach() or sourceTensor.clone().detach().requires_grad_(True), rather than torch.tensor(sourceTensor).\n",
            "  from ipykernel import kernelapp as app\n",
            "/usr/local/lib/python3.7/dist-packages/ipykernel_launcher.py:16: UserWarning: To copy construct from a tensor, it is recommended to use sourceTensor.clone().detach() or sourceTensor.clone().detach().requires_grad_(True), rather than torch.tensor(sourceTensor).\n",
            "  app.launch_new_instance()\n"
          ]
        }
      ],
      "source": [
        "print(len(test_set))\n",
        "print(test_set[0])"
      ]
    },
    {
      "cell_type": "markdown",
      "metadata": {
        "id": "_3r-UDhX4W74"
      },
      "source": [
        "### Create Dataloader"
      ]
    },
    {
      "cell_type": "code",
      "execution_count": null,
      "metadata": {
        "colab": {
          "base_uri": "https://localhost:8080/"
        },
        "id": "c3-DmqJz7ITf",
        "outputId": "8ec97876-6745-4172-dc37-4aff7b8d2b81"
      },
      "outputs": [
        {
          "output_type": "execute_result",
          "data": {
            "text/plain": [
              "32"
            ]
          },
          "metadata": {},
          "execution_count": 309
        }
      ],
      "source": [
        "config.BATCH_SIZE"
      ]
    },
    {
      "cell_type": "code",
      "source": [
        "len(test_set)"
      ],
      "metadata": {
        "colab": {
          "base_uri": "https://localhost:8080/"
        },
        "id": "2gCtq3eH3NcJ",
        "outputId": "c61e40d7-e5b0-419f-f8fa-4b272b7ac69f"
      },
      "execution_count": null,
      "outputs": [
        {
          "output_type": "execute_result",
          "data": {
            "text/plain": [
              "3798"
            ]
          },
          "metadata": {},
          "execution_count": 310
        }
      ]
    },
    {
      "cell_type": "code",
      "execution_count": null,
      "metadata": {
        "id": "WIK9JmY94Zvk"
      },
      "outputs": [],
      "source": [
        "train_dataloader = torch.utils.data.DataLoader(train_set, batch_size=config.BATCH_SIZE, shuffle=True)\n",
        "test_dataloader = torch.utils.data.DataLoader(test_set, batch_size=config.BATCH_SIZE)\n",
        "val_dataloader = torch.utils.data.DataLoader(val_set, batch_size=config.BATCH_SIZE)"
      ]
    },
    {
      "cell_type": "code",
      "execution_count": null,
      "metadata": {
        "colab": {
          "base_uri": "https://localhost:8080/"
        },
        "id": "uFSmlZTw6isc",
        "outputId": "d4b4379b-92bb-41e4-892f-cf5b4b527892"
      },
      "outputs": [
        {
          "output_type": "stream",
          "name": "stdout",
          "text": [
            "dict_keys(['text', 'input_ids', 'attention_mask', 'labels'])\n",
            "torch.Size([32, 1, 128])\n",
            "torch.Size([32])\n",
            "torch.Size([32, 1, 128])\n"
          ]
        },
        {
          "output_type": "stream",
          "name": "stderr",
          "text": [
            "/usr/local/lib/python3.7/dist-packages/ipykernel_launcher.py:15: UserWarning: To copy construct from a tensor, it is recommended to use sourceTensor.clone().detach() or sourceTensor.clone().detach().requires_grad_(True), rather than torch.tensor(sourceTensor).\n",
            "  from ipykernel import kernelapp as app\n",
            "/usr/local/lib/python3.7/dist-packages/ipykernel_launcher.py:16: UserWarning: To copy construct from a tensor, it is recommended to use sourceTensor.clone().detach() or sourceTensor.clone().detach().requires_grad_(True), rather than torch.tensor(sourceTensor).\n",
            "  app.launch_new_instance()\n"
          ]
        }
      ],
      "source": [
        "data = next(iter(train_dataloader))\n",
        "print(data.keys())\n",
        "print(data['input_ids'].shape)\n",
        "print(data['labels'].shape)\n",
        "print(data['attention_mask'].shape)"
      ]
    },
    {
      "cell_type": "markdown",
      "metadata": {
        "id": "TtdFgM-kfn6J"
      },
      "source": [
        "# Model"
      ]
    },
    {
      "cell_type": "markdown",
      "metadata": {
        "id": "eJcp5ncFiLrf"
      },
      "source": [
        "### Bert Classifier"
      ]
    },
    {
      "cell_type": "markdown",
      "metadata": {
        "id": "Gj3_KNBmft2U"
      },
      "source": [
        "BERT-base consists of 12 transformer layers, each transformer layer takes in a list of token embeddings, and produces the same number of embeddings with the same hidden size (or dimensions) on the output. The output of the final transformer layer of the [CLS] token is used as the features of the sequence to feed a classifier."
      ]
    },
    {
      "cell_type": "markdown",
      "metadata": {
        "id": "cMkqBI92f0Yg"
      },
      "source": [
        "The transformers library has the BertForSequenceClassification class which is designed for classification tasks. However, we will create a new class so we can specify our own choice of classifiers.\n",
        "\n",
        "Below we will create a BertClassifier class with a BERT model to extract the last hidden layer of the [CLS] token and a single-hidden-layer feed-forward neural network as our classifier."
      ]
    },
    {
      "cell_type": "markdown",
      "metadata": {
        "id": "rbqCTcQYf1l6"
      },
      "source": [
        "Sursa: https://chriskhanhtran.github.io/_posts/2019-12-25-bert-for-sentiment-analysis/ "
      ]
    },
    {
      "cell_type": "code",
      "execution_count": null,
      "metadata": {
        "colab": {
          "base_uri": "https://localhost:8080/"
        },
        "id": "K4ELw1qufpBR",
        "outputId": "94f30444-c11a-4e65-a72b-18b6fa1ab6c8"
      },
      "outputs": [
        {
          "output_type": "stream",
          "name": "stdout",
          "text": [
            "CPU times: user 37 µs, sys: 0 ns, total: 37 µs\n",
            "Wall time: 41.2 µs\n"
          ]
        }
      ],
      "source": [
        "# Link: https://skimai.com/fine-tuning-bert-for-sentiment-analysis/ \n",
        "\n",
        "%%time\n",
        "\n",
        "class TweetClassifier(nn.Module):\n",
        "    \"\"\"Bert Model for Classification Tasks.\"\"\"\n",
        "\n",
        "    def __init__(self, bertModel, out_feat, freeze_bert=False):\n",
        "        \"\"\"\n",
        "        @param    bertModel: a BertModel object\n",
        "        @param    out_feat: number of classes\n",
        "        \"\"\"\n",
        "        super().__init__()\n",
        "        # Specify hidden size of BERT, hidden size of our classifier, and number of labels\n",
        "        D_in, H, D_out = bertModel.config.hidden_size, 50, out_feat\n",
        "\n",
        "        # Instantiate BERT model\n",
        "        self.bert = bertModel\n",
        "\n",
        "        # Instantiate an one-layer feed-forward classifier\n",
        "        self.classifier = nn.Sequential(\n",
        "            nn.Linear(D_in,H),\n",
        "            nn.ReLU(),\n",
        "            nn.Dropout(p=0.2),\n",
        "            nn.Linear(H, D_out),\n",
        "            nn.Softmax(dim=1)\n",
        "        )\n",
        "\n",
        "        # Freeze the pre-trained layers of BERT model\n",
        "        if freeze_bert:\n",
        "          for param in self.bert.parameters():\n",
        "            param.requires_grad = False\n",
        "\n",
        "    def forward(self, input_ids, attention_mask):\n",
        "        \"\"\"\n",
        "        Feed input to BERT and the classifier to compute logits.\n",
        "        @param    input_ids (torch.Tensor): an input tensor with shape (batch_size,\n",
        "                      max_length)\n",
        "        @param    attention_mask (torch.Tensor): a tensor that hold attention mask\n",
        "                      information with shape (batch_size, max_length)\n",
        "        @return   logits (torch.Tensor): an output tensor with shape (batch_size,\n",
        "                      num_labels)\n",
        "        \"\"\"\n",
        "        # Feed input to BERT\n",
        "        outputs = self.bert(input_ids=input_ids, attention_mask=attention_mask )\n",
        "\n",
        "        # Extract the last hidden state of the token `[CLS]` for classification task ---- https://www.tensorflow.org/text/tutorials/classify_text_with_bert\n",
        "        last_hidden_state_cls = outputs[0][:, 0, :]\n",
        "\n",
        "        # Feed input to classifier to compute logits\n",
        "        logits = self.classifier(last_hidden_state_cls)\n",
        "\n",
        "        return logits"
      ]
    },
    {
      "cell_type": "code",
      "execution_count": null,
      "metadata": {
        "id": "j1rgllYXh74v"
      },
      "outputs": [],
      "source": [
        "model = TweetClassifier(bertweet, len(classes)).to(device) "
      ]
    },
    {
      "cell_type": "code",
      "execution_count": null,
      "metadata": {
        "colab": {
          "base_uri": "https://localhost:8080/"
        },
        "id": "XGg_U_ydfYxG",
        "outputId": "b44f5ba1-4b1e-411a-f8fd-78c1295cee28"
      },
      "outputs": [
        {
          "data": {
            "text/plain": [
              "TweetClassifier(\n",
              "  (bert): BertModel(\n",
              "    (embeddings): BertEmbeddings(\n",
              "      (word_embeddings): Embedding(30522, 1024, padding_idx=0)\n",
              "      (position_embeddings): Embedding(512, 1024)\n",
              "      (token_type_embeddings): Embedding(2, 1024)\n",
              "      (LayerNorm): LayerNorm((1024,), eps=1e-12, elementwise_affine=True)\n",
              "      (dropout): Dropout(p=0.1, inplace=False)\n",
              "    )\n",
              "    (encoder): BertEncoder(\n",
              "      (layer): ModuleList(\n",
              "        (0): BertLayer(\n",
              "          (attention): BertAttention(\n",
              "            (self): BertSelfAttention(\n",
              "              (query): Linear(in_features=1024, out_features=1024, bias=True)\n",
              "              (key): Linear(in_features=1024, out_features=1024, bias=True)\n",
              "              (value): Linear(in_features=1024, out_features=1024, bias=True)\n",
              "              (dropout): Dropout(p=0.1, inplace=False)\n",
              "            )\n",
              "            (output): BertSelfOutput(\n",
              "              (dense): Linear(in_features=1024, out_features=1024, bias=True)\n",
              "              (LayerNorm): LayerNorm((1024,), eps=1e-12, elementwise_affine=True)\n",
              "              (dropout): Dropout(p=0.1, inplace=False)\n",
              "            )\n",
              "          )\n",
              "          (intermediate): BertIntermediate(\n",
              "            (dense): Linear(in_features=1024, out_features=4096, bias=True)\n",
              "            (intermediate_act_fn): GELUActivation()\n",
              "          )\n",
              "          (output): BertOutput(\n",
              "            (dense): Linear(in_features=4096, out_features=1024, bias=True)\n",
              "            (LayerNorm): LayerNorm((1024,), eps=1e-12, elementwise_affine=True)\n",
              "            (dropout): Dropout(p=0.1, inplace=False)\n",
              "          )\n",
              "        )\n",
              "        (1): BertLayer(\n",
              "          (attention): BertAttention(\n",
              "            (self): BertSelfAttention(\n",
              "              (query): Linear(in_features=1024, out_features=1024, bias=True)\n",
              "              (key): Linear(in_features=1024, out_features=1024, bias=True)\n",
              "              (value): Linear(in_features=1024, out_features=1024, bias=True)\n",
              "              (dropout): Dropout(p=0.1, inplace=False)\n",
              "            )\n",
              "            (output): BertSelfOutput(\n",
              "              (dense): Linear(in_features=1024, out_features=1024, bias=True)\n",
              "              (LayerNorm): LayerNorm((1024,), eps=1e-12, elementwise_affine=True)\n",
              "              (dropout): Dropout(p=0.1, inplace=False)\n",
              "            )\n",
              "          )\n",
              "          (intermediate): BertIntermediate(\n",
              "            (dense): Linear(in_features=1024, out_features=4096, bias=True)\n",
              "            (intermediate_act_fn): GELUActivation()\n",
              "          )\n",
              "          (output): BertOutput(\n",
              "            (dense): Linear(in_features=4096, out_features=1024, bias=True)\n",
              "            (LayerNorm): LayerNorm((1024,), eps=1e-12, elementwise_affine=True)\n",
              "            (dropout): Dropout(p=0.1, inplace=False)\n",
              "          )\n",
              "        )\n",
              "        (2): BertLayer(\n",
              "          (attention): BertAttention(\n",
              "            (self): BertSelfAttention(\n",
              "              (query): Linear(in_features=1024, out_features=1024, bias=True)\n",
              "              (key): Linear(in_features=1024, out_features=1024, bias=True)\n",
              "              (value): Linear(in_features=1024, out_features=1024, bias=True)\n",
              "              (dropout): Dropout(p=0.1, inplace=False)\n",
              "            )\n",
              "            (output): BertSelfOutput(\n",
              "              (dense): Linear(in_features=1024, out_features=1024, bias=True)\n",
              "              (LayerNorm): LayerNorm((1024,), eps=1e-12, elementwise_affine=True)\n",
              "              (dropout): Dropout(p=0.1, inplace=False)\n",
              "            )\n",
              "          )\n",
              "          (intermediate): BertIntermediate(\n",
              "            (dense): Linear(in_features=1024, out_features=4096, bias=True)\n",
              "            (intermediate_act_fn): GELUActivation()\n",
              "          )\n",
              "          (output): BertOutput(\n",
              "            (dense): Linear(in_features=4096, out_features=1024, bias=True)\n",
              "            (LayerNorm): LayerNorm((1024,), eps=1e-12, elementwise_affine=True)\n",
              "            (dropout): Dropout(p=0.1, inplace=False)\n",
              "          )\n",
              "        )\n",
              "        (3): BertLayer(\n",
              "          (attention): BertAttention(\n",
              "            (self): BertSelfAttention(\n",
              "              (query): Linear(in_features=1024, out_features=1024, bias=True)\n",
              "              (key): Linear(in_features=1024, out_features=1024, bias=True)\n",
              "              (value): Linear(in_features=1024, out_features=1024, bias=True)\n",
              "              (dropout): Dropout(p=0.1, inplace=False)\n",
              "            )\n",
              "            (output): BertSelfOutput(\n",
              "              (dense): Linear(in_features=1024, out_features=1024, bias=True)\n",
              "              (LayerNorm): LayerNorm((1024,), eps=1e-12, elementwise_affine=True)\n",
              "              (dropout): Dropout(p=0.1, inplace=False)\n",
              "            )\n",
              "          )\n",
              "          (intermediate): BertIntermediate(\n",
              "            (dense): Linear(in_features=1024, out_features=4096, bias=True)\n",
              "            (intermediate_act_fn): GELUActivation()\n",
              "          )\n",
              "          (output): BertOutput(\n",
              "            (dense): Linear(in_features=4096, out_features=1024, bias=True)\n",
              "            (LayerNorm): LayerNorm((1024,), eps=1e-12, elementwise_affine=True)\n",
              "            (dropout): Dropout(p=0.1, inplace=False)\n",
              "          )\n",
              "        )\n",
              "        (4): BertLayer(\n",
              "          (attention): BertAttention(\n",
              "            (self): BertSelfAttention(\n",
              "              (query): Linear(in_features=1024, out_features=1024, bias=True)\n",
              "              (key): Linear(in_features=1024, out_features=1024, bias=True)\n",
              "              (value): Linear(in_features=1024, out_features=1024, bias=True)\n",
              "              (dropout): Dropout(p=0.1, inplace=False)\n",
              "            )\n",
              "            (output): BertSelfOutput(\n",
              "              (dense): Linear(in_features=1024, out_features=1024, bias=True)\n",
              "              (LayerNorm): LayerNorm((1024,), eps=1e-12, elementwise_affine=True)\n",
              "              (dropout): Dropout(p=0.1, inplace=False)\n",
              "            )\n",
              "          )\n",
              "          (intermediate): BertIntermediate(\n",
              "            (dense): Linear(in_features=1024, out_features=4096, bias=True)\n",
              "            (intermediate_act_fn): GELUActivation()\n",
              "          )\n",
              "          (output): BertOutput(\n",
              "            (dense): Linear(in_features=4096, out_features=1024, bias=True)\n",
              "            (LayerNorm): LayerNorm((1024,), eps=1e-12, elementwise_affine=True)\n",
              "            (dropout): Dropout(p=0.1, inplace=False)\n",
              "          )\n",
              "        )\n",
              "        (5): BertLayer(\n",
              "          (attention): BertAttention(\n",
              "            (self): BertSelfAttention(\n",
              "              (query): Linear(in_features=1024, out_features=1024, bias=True)\n",
              "              (key): Linear(in_features=1024, out_features=1024, bias=True)\n",
              "              (value): Linear(in_features=1024, out_features=1024, bias=True)\n",
              "              (dropout): Dropout(p=0.1, inplace=False)\n",
              "            )\n",
              "            (output): BertSelfOutput(\n",
              "              (dense): Linear(in_features=1024, out_features=1024, bias=True)\n",
              "              (LayerNorm): LayerNorm((1024,), eps=1e-12, elementwise_affine=True)\n",
              "              (dropout): Dropout(p=0.1, inplace=False)\n",
              "            )\n",
              "          )\n",
              "          (intermediate): BertIntermediate(\n",
              "            (dense): Linear(in_features=1024, out_features=4096, bias=True)\n",
              "            (intermediate_act_fn): GELUActivation()\n",
              "          )\n",
              "          (output): BertOutput(\n",
              "            (dense): Linear(in_features=4096, out_features=1024, bias=True)\n",
              "            (LayerNorm): LayerNorm((1024,), eps=1e-12, elementwise_affine=True)\n",
              "            (dropout): Dropout(p=0.1, inplace=False)\n",
              "          )\n",
              "        )\n",
              "        (6): BertLayer(\n",
              "          (attention): BertAttention(\n",
              "            (self): BertSelfAttention(\n",
              "              (query): Linear(in_features=1024, out_features=1024, bias=True)\n",
              "              (key): Linear(in_features=1024, out_features=1024, bias=True)\n",
              "              (value): Linear(in_features=1024, out_features=1024, bias=True)\n",
              "              (dropout): Dropout(p=0.1, inplace=False)\n",
              "            )\n",
              "            (output): BertSelfOutput(\n",
              "              (dense): Linear(in_features=1024, out_features=1024, bias=True)\n",
              "              (LayerNorm): LayerNorm((1024,), eps=1e-12, elementwise_affine=True)\n",
              "              (dropout): Dropout(p=0.1, inplace=False)\n",
              "            )\n",
              "          )\n",
              "          (intermediate): BertIntermediate(\n",
              "            (dense): Linear(in_features=1024, out_features=4096, bias=True)\n",
              "            (intermediate_act_fn): GELUActivation()\n",
              "          )\n",
              "          (output): BertOutput(\n",
              "            (dense): Linear(in_features=4096, out_features=1024, bias=True)\n",
              "            (LayerNorm): LayerNorm((1024,), eps=1e-12, elementwise_affine=True)\n",
              "            (dropout): Dropout(p=0.1, inplace=False)\n",
              "          )\n",
              "        )\n",
              "        (7): BertLayer(\n",
              "          (attention): BertAttention(\n",
              "            (self): BertSelfAttention(\n",
              "              (query): Linear(in_features=1024, out_features=1024, bias=True)\n",
              "              (key): Linear(in_features=1024, out_features=1024, bias=True)\n",
              "              (value): Linear(in_features=1024, out_features=1024, bias=True)\n",
              "              (dropout): Dropout(p=0.1, inplace=False)\n",
              "            )\n",
              "            (output): BertSelfOutput(\n",
              "              (dense): Linear(in_features=1024, out_features=1024, bias=True)\n",
              "              (LayerNorm): LayerNorm((1024,), eps=1e-12, elementwise_affine=True)\n",
              "              (dropout): Dropout(p=0.1, inplace=False)\n",
              "            )\n",
              "          )\n",
              "          (intermediate): BertIntermediate(\n",
              "            (dense): Linear(in_features=1024, out_features=4096, bias=True)\n",
              "            (intermediate_act_fn): GELUActivation()\n",
              "          )\n",
              "          (output): BertOutput(\n",
              "            (dense): Linear(in_features=4096, out_features=1024, bias=True)\n",
              "            (LayerNorm): LayerNorm((1024,), eps=1e-12, elementwise_affine=True)\n",
              "            (dropout): Dropout(p=0.1, inplace=False)\n",
              "          )\n",
              "        )\n",
              "        (8): BertLayer(\n",
              "          (attention): BertAttention(\n",
              "            (self): BertSelfAttention(\n",
              "              (query): Linear(in_features=1024, out_features=1024, bias=True)\n",
              "              (key): Linear(in_features=1024, out_features=1024, bias=True)\n",
              "              (value): Linear(in_features=1024, out_features=1024, bias=True)\n",
              "              (dropout): Dropout(p=0.1, inplace=False)\n",
              "            )\n",
              "            (output): BertSelfOutput(\n",
              "              (dense): Linear(in_features=1024, out_features=1024, bias=True)\n",
              "              (LayerNorm): LayerNorm((1024,), eps=1e-12, elementwise_affine=True)\n",
              "              (dropout): Dropout(p=0.1, inplace=False)\n",
              "            )\n",
              "          )\n",
              "          (intermediate): BertIntermediate(\n",
              "            (dense): Linear(in_features=1024, out_features=4096, bias=True)\n",
              "            (intermediate_act_fn): GELUActivation()\n",
              "          )\n",
              "          (output): BertOutput(\n",
              "            (dense): Linear(in_features=4096, out_features=1024, bias=True)\n",
              "            (LayerNorm): LayerNorm((1024,), eps=1e-12, elementwise_affine=True)\n",
              "            (dropout): Dropout(p=0.1, inplace=False)\n",
              "          )\n",
              "        )\n",
              "        (9): BertLayer(\n",
              "          (attention): BertAttention(\n",
              "            (self): BertSelfAttention(\n",
              "              (query): Linear(in_features=1024, out_features=1024, bias=True)\n",
              "              (key): Linear(in_features=1024, out_features=1024, bias=True)\n",
              "              (value): Linear(in_features=1024, out_features=1024, bias=True)\n",
              "              (dropout): Dropout(p=0.1, inplace=False)\n",
              "            )\n",
              "            (output): BertSelfOutput(\n",
              "              (dense): Linear(in_features=1024, out_features=1024, bias=True)\n",
              "              (LayerNorm): LayerNorm((1024,), eps=1e-12, elementwise_affine=True)\n",
              "              (dropout): Dropout(p=0.1, inplace=False)\n",
              "            )\n",
              "          )\n",
              "          (intermediate): BertIntermediate(\n",
              "            (dense): Linear(in_features=1024, out_features=4096, bias=True)\n",
              "            (intermediate_act_fn): GELUActivation()\n",
              "          )\n",
              "          (output): BertOutput(\n",
              "            (dense): Linear(in_features=4096, out_features=1024, bias=True)\n",
              "            (LayerNorm): LayerNorm((1024,), eps=1e-12, elementwise_affine=True)\n",
              "            (dropout): Dropout(p=0.1, inplace=False)\n",
              "          )\n",
              "        )\n",
              "        (10): BertLayer(\n",
              "          (attention): BertAttention(\n",
              "            (self): BertSelfAttention(\n",
              "              (query): Linear(in_features=1024, out_features=1024, bias=True)\n",
              "              (key): Linear(in_features=1024, out_features=1024, bias=True)\n",
              "              (value): Linear(in_features=1024, out_features=1024, bias=True)\n",
              "              (dropout): Dropout(p=0.1, inplace=False)\n",
              "            )\n",
              "            (output): BertSelfOutput(\n",
              "              (dense): Linear(in_features=1024, out_features=1024, bias=True)\n",
              "              (LayerNorm): LayerNorm((1024,), eps=1e-12, elementwise_affine=True)\n",
              "              (dropout): Dropout(p=0.1, inplace=False)\n",
              "            )\n",
              "          )\n",
              "          (intermediate): BertIntermediate(\n",
              "            (dense): Linear(in_features=1024, out_features=4096, bias=True)\n",
              "            (intermediate_act_fn): GELUActivation()\n",
              "          )\n",
              "          (output): BertOutput(\n",
              "            (dense): Linear(in_features=4096, out_features=1024, bias=True)\n",
              "            (LayerNorm): LayerNorm((1024,), eps=1e-12, elementwise_affine=True)\n",
              "            (dropout): Dropout(p=0.1, inplace=False)\n",
              "          )\n",
              "        )\n",
              "        (11): BertLayer(\n",
              "          (attention): BertAttention(\n",
              "            (self): BertSelfAttention(\n",
              "              (query): Linear(in_features=1024, out_features=1024, bias=True)\n",
              "              (key): Linear(in_features=1024, out_features=1024, bias=True)\n",
              "              (value): Linear(in_features=1024, out_features=1024, bias=True)\n",
              "              (dropout): Dropout(p=0.1, inplace=False)\n",
              "            )\n",
              "            (output): BertSelfOutput(\n",
              "              (dense): Linear(in_features=1024, out_features=1024, bias=True)\n",
              "              (LayerNorm): LayerNorm((1024,), eps=1e-12, elementwise_affine=True)\n",
              "              (dropout): Dropout(p=0.1, inplace=False)\n",
              "            )\n",
              "          )\n",
              "          (intermediate): BertIntermediate(\n",
              "            (dense): Linear(in_features=1024, out_features=4096, bias=True)\n",
              "            (intermediate_act_fn): GELUActivation()\n",
              "          )\n",
              "          (output): BertOutput(\n",
              "            (dense): Linear(in_features=4096, out_features=1024, bias=True)\n",
              "            (LayerNorm): LayerNorm((1024,), eps=1e-12, elementwise_affine=True)\n",
              "            (dropout): Dropout(p=0.1, inplace=False)\n",
              "          )\n",
              "        )\n",
              "        (12): BertLayer(\n",
              "          (attention): BertAttention(\n",
              "            (self): BertSelfAttention(\n",
              "              (query): Linear(in_features=1024, out_features=1024, bias=True)\n",
              "              (key): Linear(in_features=1024, out_features=1024, bias=True)\n",
              "              (value): Linear(in_features=1024, out_features=1024, bias=True)\n",
              "              (dropout): Dropout(p=0.1, inplace=False)\n",
              "            )\n",
              "            (output): BertSelfOutput(\n",
              "              (dense): Linear(in_features=1024, out_features=1024, bias=True)\n",
              "              (LayerNorm): LayerNorm((1024,), eps=1e-12, elementwise_affine=True)\n",
              "              (dropout): Dropout(p=0.1, inplace=False)\n",
              "            )\n",
              "          )\n",
              "          (intermediate): BertIntermediate(\n",
              "            (dense): Linear(in_features=1024, out_features=4096, bias=True)\n",
              "            (intermediate_act_fn): GELUActivation()\n",
              "          )\n",
              "          (output): BertOutput(\n",
              "            (dense): Linear(in_features=4096, out_features=1024, bias=True)\n",
              "            (LayerNorm): LayerNorm((1024,), eps=1e-12, elementwise_affine=True)\n",
              "            (dropout): Dropout(p=0.1, inplace=False)\n",
              "          )\n",
              "        )\n",
              "        (13): BertLayer(\n",
              "          (attention): BertAttention(\n",
              "            (self): BertSelfAttention(\n",
              "              (query): Linear(in_features=1024, out_features=1024, bias=True)\n",
              "              (key): Linear(in_features=1024, out_features=1024, bias=True)\n",
              "              (value): Linear(in_features=1024, out_features=1024, bias=True)\n",
              "              (dropout): Dropout(p=0.1, inplace=False)\n",
              "            )\n",
              "            (output): BertSelfOutput(\n",
              "              (dense): Linear(in_features=1024, out_features=1024, bias=True)\n",
              "              (LayerNorm): LayerNorm((1024,), eps=1e-12, elementwise_affine=True)\n",
              "              (dropout): Dropout(p=0.1, inplace=False)\n",
              "            )\n",
              "          )\n",
              "          (intermediate): BertIntermediate(\n",
              "            (dense): Linear(in_features=1024, out_features=4096, bias=True)\n",
              "            (intermediate_act_fn): GELUActivation()\n",
              "          )\n",
              "          (output): BertOutput(\n",
              "            (dense): Linear(in_features=4096, out_features=1024, bias=True)\n",
              "            (LayerNorm): LayerNorm((1024,), eps=1e-12, elementwise_affine=True)\n",
              "            (dropout): Dropout(p=0.1, inplace=False)\n",
              "          )\n",
              "        )\n",
              "        (14): BertLayer(\n",
              "          (attention): BertAttention(\n",
              "            (self): BertSelfAttention(\n",
              "              (query): Linear(in_features=1024, out_features=1024, bias=True)\n",
              "              (key): Linear(in_features=1024, out_features=1024, bias=True)\n",
              "              (value): Linear(in_features=1024, out_features=1024, bias=True)\n",
              "              (dropout): Dropout(p=0.1, inplace=False)\n",
              "            )\n",
              "            (output): BertSelfOutput(\n",
              "              (dense): Linear(in_features=1024, out_features=1024, bias=True)\n",
              "              (LayerNorm): LayerNorm((1024,), eps=1e-12, elementwise_affine=True)\n",
              "              (dropout): Dropout(p=0.1, inplace=False)\n",
              "            )\n",
              "          )\n",
              "          (intermediate): BertIntermediate(\n",
              "            (dense): Linear(in_features=1024, out_features=4096, bias=True)\n",
              "            (intermediate_act_fn): GELUActivation()\n",
              "          )\n",
              "          (output): BertOutput(\n",
              "            (dense): Linear(in_features=4096, out_features=1024, bias=True)\n",
              "            (LayerNorm): LayerNorm((1024,), eps=1e-12, elementwise_affine=True)\n",
              "            (dropout): Dropout(p=0.1, inplace=False)\n",
              "          )\n",
              "        )\n",
              "        (15): BertLayer(\n",
              "          (attention): BertAttention(\n",
              "            (self): BertSelfAttention(\n",
              "              (query): Linear(in_features=1024, out_features=1024, bias=True)\n",
              "              (key): Linear(in_features=1024, out_features=1024, bias=True)\n",
              "              (value): Linear(in_features=1024, out_features=1024, bias=True)\n",
              "              (dropout): Dropout(p=0.1, inplace=False)\n",
              "            )\n",
              "            (output): BertSelfOutput(\n",
              "              (dense): Linear(in_features=1024, out_features=1024, bias=True)\n",
              "              (LayerNorm): LayerNorm((1024,), eps=1e-12, elementwise_affine=True)\n",
              "              (dropout): Dropout(p=0.1, inplace=False)\n",
              "            )\n",
              "          )\n",
              "          (intermediate): BertIntermediate(\n",
              "            (dense): Linear(in_features=1024, out_features=4096, bias=True)\n",
              "            (intermediate_act_fn): GELUActivation()\n",
              "          )\n",
              "          (output): BertOutput(\n",
              "            (dense): Linear(in_features=4096, out_features=1024, bias=True)\n",
              "            (LayerNorm): LayerNorm((1024,), eps=1e-12, elementwise_affine=True)\n",
              "            (dropout): Dropout(p=0.1, inplace=False)\n",
              "          )\n",
              "        )\n",
              "        (16): BertLayer(\n",
              "          (attention): BertAttention(\n",
              "            (self): BertSelfAttention(\n",
              "              (query): Linear(in_features=1024, out_features=1024, bias=True)\n",
              "              (key): Linear(in_features=1024, out_features=1024, bias=True)\n",
              "              (value): Linear(in_features=1024, out_features=1024, bias=True)\n",
              "              (dropout): Dropout(p=0.1, inplace=False)\n",
              "            )\n",
              "            (output): BertSelfOutput(\n",
              "              (dense): Linear(in_features=1024, out_features=1024, bias=True)\n",
              "              (LayerNorm): LayerNorm((1024,), eps=1e-12, elementwise_affine=True)\n",
              "              (dropout): Dropout(p=0.1, inplace=False)\n",
              "            )\n",
              "          )\n",
              "          (intermediate): BertIntermediate(\n",
              "            (dense): Linear(in_features=1024, out_features=4096, bias=True)\n",
              "            (intermediate_act_fn): GELUActivation()\n",
              "          )\n",
              "          (output): BertOutput(\n",
              "            (dense): Linear(in_features=4096, out_features=1024, bias=True)\n",
              "            (LayerNorm): LayerNorm((1024,), eps=1e-12, elementwise_affine=True)\n",
              "            (dropout): Dropout(p=0.1, inplace=False)\n",
              "          )\n",
              "        )\n",
              "        (17): BertLayer(\n",
              "          (attention): BertAttention(\n",
              "            (self): BertSelfAttention(\n",
              "              (query): Linear(in_features=1024, out_features=1024, bias=True)\n",
              "              (key): Linear(in_features=1024, out_features=1024, bias=True)\n",
              "              (value): Linear(in_features=1024, out_features=1024, bias=True)\n",
              "              (dropout): Dropout(p=0.1, inplace=False)\n",
              "            )\n",
              "            (output): BertSelfOutput(\n",
              "              (dense): Linear(in_features=1024, out_features=1024, bias=True)\n",
              "              (LayerNorm): LayerNorm((1024,), eps=1e-12, elementwise_affine=True)\n",
              "              (dropout): Dropout(p=0.1, inplace=False)\n",
              "            )\n",
              "          )\n",
              "          (intermediate): BertIntermediate(\n",
              "            (dense): Linear(in_features=1024, out_features=4096, bias=True)\n",
              "            (intermediate_act_fn): GELUActivation()\n",
              "          )\n",
              "          (output): BertOutput(\n",
              "            (dense): Linear(in_features=4096, out_features=1024, bias=True)\n",
              "            (LayerNorm): LayerNorm((1024,), eps=1e-12, elementwise_affine=True)\n",
              "            (dropout): Dropout(p=0.1, inplace=False)\n",
              "          )\n",
              "        )\n",
              "        (18): BertLayer(\n",
              "          (attention): BertAttention(\n",
              "            (self): BertSelfAttention(\n",
              "              (query): Linear(in_features=1024, out_features=1024, bias=True)\n",
              "              (key): Linear(in_features=1024, out_features=1024, bias=True)\n",
              "              (value): Linear(in_features=1024, out_features=1024, bias=True)\n",
              "              (dropout): Dropout(p=0.1, inplace=False)\n",
              "            )\n",
              "            (output): BertSelfOutput(\n",
              "              (dense): Linear(in_features=1024, out_features=1024, bias=True)\n",
              "              (LayerNorm): LayerNorm((1024,), eps=1e-12, elementwise_affine=True)\n",
              "              (dropout): Dropout(p=0.1, inplace=False)\n",
              "            )\n",
              "          )\n",
              "          (intermediate): BertIntermediate(\n",
              "            (dense): Linear(in_features=1024, out_features=4096, bias=True)\n",
              "            (intermediate_act_fn): GELUActivation()\n",
              "          )\n",
              "          (output): BertOutput(\n",
              "            (dense): Linear(in_features=4096, out_features=1024, bias=True)\n",
              "            (LayerNorm): LayerNorm((1024,), eps=1e-12, elementwise_affine=True)\n",
              "            (dropout): Dropout(p=0.1, inplace=False)\n",
              "          )\n",
              "        )\n",
              "        (19): BertLayer(\n",
              "          (attention): BertAttention(\n",
              "            (self): BertSelfAttention(\n",
              "              (query): Linear(in_features=1024, out_features=1024, bias=True)\n",
              "              (key): Linear(in_features=1024, out_features=1024, bias=True)\n",
              "              (value): Linear(in_features=1024, out_features=1024, bias=True)\n",
              "              (dropout): Dropout(p=0.1, inplace=False)\n",
              "            )\n",
              "            (output): BertSelfOutput(\n",
              "              (dense): Linear(in_features=1024, out_features=1024, bias=True)\n",
              "              (LayerNorm): LayerNorm((1024,), eps=1e-12, elementwise_affine=True)\n",
              "              (dropout): Dropout(p=0.1, inplace=False)\n",
              "            )\n",
              "          )\n",
              "          (intermediate): BertIntermediate(\n",
              "            (dense): Linear(in_features=1024, out_features=4096, bias=True)\n",
              "            (intermediate_act_fn): GELUActivation()\n",
              "          )\n",
              "          (output): BertOutput(\n",
              "            (dense): Linear(in_features=4096, out_features=1024, bias=True)\n",
              "            (LayerNorm): LayerNorm((1024,), eps=1e-12, elementwise_affine=True)\n",
              "            (dropout): Dropout(p=0.1, inplace=False)\n",
              "          )\n",
              "        )\n",
              "        (20): BertLayer(\n",
              "          (attention): BertAttention(\n",
              "            (self): BertSelfAttention(\n",
              "              (query): Linear(in_features=1024, out_features=1024, bias=True)\n",
              "              (key): Linear(in_features=1024, out_features=1024, bias=True)\n",
              "              (value): Linear(in_features=1024, out_features=1024, bias=True)\n",
              "              (dropout): Dropout(p=0.1, inplace=False)\n",
              "            )\n",
              "            (output): BertSelfOutput(\n",
              "              (dense): Linear(in_features=1024, out_features=1024, bias=True)\n",
              "              (LayerNorm): LayerNorm((1024,), eps=1e-12, elementwise_affine=True)\n",
              "              (dropout): Dropout(p=0.1, inplace=False)\n",
              "            )\n",
              "          )\n",
              "          (intermediate): BertIntermediate(\n",
              "            (dense): Linear(in_features=1024, out_features=4096, bias=True)\n",
              "            (intermediate_act_fn): GELUActivation()\n",
              "          )\n",
              "          (output): BertOutput(\n",
              "            (dense): Linear(in_features=4096, out_features=1024, bias=True)\n",
              "            (LayerNorm): LayerNorm((1024,), eps=1e-12, elementwise_affine=True)\n",
              "            (dropout): Dropout(p=0.1, inplace=False)\n",
              "          )\n",
              "        )\n",
              "        (21): BertLayer(\n",
              "          (attention): BertAttention(\n",
              "            (self): BertSelfAttention(\n",
              "              (query): Linear(in_features=1024, out_features=1024, bias=True)\n",
              "              (key): Linear(in_features=1024, out_features=1024, bias=True)\n",
              "              (value): Linear(in_features=1024, out_features=1024, bias=True)\n",
              "              (dropout): Dropout(p=0.1, inplace=False)\n",
              "            )\n",
              "            (output): BertSelfOutput(\n",
              "              (dense): Linear(in_features=1024, out_features=1024, bias=True)\n",
              "              (LayerNorm): LayerNorm((1024,), eps=1e-12, elementwise_affine=True)\n",
              "              (dropout): Dropout(p=0.1, inplace=False)\n",
              "            )\n",
              "          )\n",
              "          (intermediate): BertIntermediate(\n",
              "            (dense): Linear(in_features=1024, out_features=4096, bias=True)\n",
              "            (intermediate_act_fn): GELUActivation()\n",
              "          )\n",
              "          (output): BertOutput(\n",
              "            (dense): Linear(in_features=4096, out_features=1024, bias=True)\n",
              "            (LayerNorm): LayerNorm((1024,), eps=1e-12, elementwise_affine=True)\n",
              "            (dropout): Dropout(p=0.1, inplace=False)\n",
              "          )\n",
              "        )\n",
              "        (22): BertLayer(\n",
              "          (attention): BertAttention(\n",
              "            (self): BertSelfAttention(\n",
              "              (query): Linear(in_features=1024, out_features=1024, bias=True)\n",
              "              (key): Linear(in_features=1024, out_features=1024, bias=True)\n",
              "              (value): Linear(in_features=1024, out_features=1024, bias=True)\n",
              "              (dropout): Dropout(p=0.1, inplace=False)\n",
              "            )\n",
              "            (output): BertSelfOutput(\n",
              "              (dense): Linear(in_features=1024, out_features=1024, bias=True)\n",
              "              (LayerNorm): LayerNorm((1024,), eps=1e-12, elementwise_affine=True)\n",
              "              (dropout): Dropout(p=0.1, inplace=False)\n",
              "            )\n",
              "          )\n",
              "          (intermediate): BertIntermediate(\n",
              "            (dense): Linear(in_features=1024, out_features=4096, bias=True)\n",
              "            (intermediate_act_fn): GELUActivation()\n",
              "          )\n",
              "          (output): BertOutput(\n",
              "            (dense): Linear(in_features=4096, out_features=1024, bias=True)\n",
              "            (LayerNorm): LayerNorm((1024,), eps=1e-12, elementwise_affine=True)\n",
              "            (dropout): Dropout(p=0.1, inplace=False)\n",
              "          )\n",
              "        )\n",
              "        (23): BertLayer(\n",
              "          (attention): BertAttention(\n",
              "            (self): BertSelfAttention(\n",
              "              (query): Linear(in_features=1024, out_features=1024, bias=True)\n",
              "              (key): Linear(in_features=1024, out_features=1024, bias=True)\n",
              "              (value): Linear(in_features=1024, out_features=1024, bias=True)\n",
              "              (dropout): Dropout(p=0.1, inplace=False)\n",
              "            )\n",
              "            (output): BertSelfOutput(\n",
              "              (dense): Linear(in_features=1024, out_features=1024, bias=True)\n",
              "              (LayerNorm): LayerNorm((1024,), eps=1e-12, elementwise_affine=True)\n",
              "              (dropout): Dropout(p=0.1, inplace=False)\n",
              "            )\n",
              "          )\n",
              "          (intermediate): BertIntermediate(\n",
              "            (dense): Linear(in_features=1024, out_features=4096, bias=True)\n",
              "            (intermediate_act_fn): GELUActivation()\n",
              "          )\n",
              "          (output): BertOutput(\n",
              "            (dense): Linear(in_features=4096, out_features=1024, bias=True)\n",
              "            (LayerNorm): LayerNorm((1024,), eps=1e-12, elementwise_affine=True)\n",
              "            (dropout): Dropout(p=0.1, inplace=False)\n",
              "          )\n",
              "        )\n",
              "      )\n",
              "    )\n",
              "    (pooler): BertPooler(\n",
              "      (dense): Linear(in_features=1024, out_features=1024, bias=True)\n",
              "      (activation): Tanh()\n",
              "    )\n",
              "  )\n",
              "  (classifier): Sequential(\n",
              "    (0): Linear(in_features=1024, out_features=50, bias=True)\n",
              "    (1): ReLU()\n",
              "    (2): Dropout(p=0.2, inplace=False)\n",
              "    (3): Linear(in_features=50, out_features=3, bias=True)\n",
              "    (4): Softmax(dim=1)\n",
              "  )\n",
              ")"
            ]
          },
          "execution_count": 62,
          "metadata": {},
          "output_type": "execute_result"
        }
      ],
      "source": [
        "model"
      ]
    },
    {
      "cell_type": "markdown",
      "metadata": {
        "id": "3aMDGLRfiSF6"
      },
      "source": [
        "### Class Weights"
      ]
    },
    {
      "cell_type": "code",
      "execution_count": null,
      "metadata": {
        "id": "48aKXAE6iWEr"
      },
      "outputs": [],
      "source": [
        "def get_weights():\n",
        "  weights=class_weight.compute_class_weight(class_weight='balanced',classes = np.unique(y_train), y = y_train)\n",
        "  weights=torch.tensor(weights,dtype=torch.float)\n",
        "\n",
        "  print('Class Weights for train dataset: ', weights)\n",
        "  return weights"
      ]
    },
    {
      "cell_type": "markdown",
      "metadata": {
        "id": "k_k3Meymhij8"
      },
      "source": [
        "###  Optimizer & Learning Rate Scheduler"
      ]
    },
    {
      "cell_type": "markdown",
      "metadata": {
        "id": "kzVdVorahl8A"
      },
      "source": [
        "To fine-tune our Bert Classifier, we need to create an optimizer. The authors recommend following hyper-parameters:\n",
        "\n",
        "* Batch size: 16 or 32\n",
        "* Learning rate (Adam): 5e-5, 3e-5 or 2e-5\n",
        "* Number of epochs: 2, 3, 4\n",
        "\n",
        "Huggingface provided the run_glue.py script, an examples of implementing the transformers library. In the script, the AdamW optimizer is used."
      ]
    },
    {
      "cell_type": "markdown",
      "metadata": {
        "id": "iYpkRLKvhm2N"
      },
      "source": [
        "Sursa: https://chriskhanhtran.github.io/_posts/2019-12-25-bert-for-sentiment-analysis/"
      ]
    },
    {
      "cell_type": "code",
      "execution_count": null,
      "metadata": {
        "id": "VWFIvlIVhju3"
      },
      "outputs": [],
      "source": [
        "def initialize_model(freeze_bert=False):\n",
        "  model = TweetClassifier(bertweet, len(classes), freeze_bert=freeze_bert).to(device) \n",
        "  optimizer = AdamW(model.parameters(), lr=config.LEARNING_RATE, eps=config.EPS, correct_bias=False, no_deprecation_warning=True)\n",
        "  total_steps = len(train_dataloader) * config.EPOCHS\n",
        "  scheduler = get_linear_schedule_with_warmup(optimizer, num_warmup_steps=0, num_training_steps=total_steps)\n",
        "  return model, optimizer, scheduler"
      ]
    },
    {
      "cell_type": "code",
      "execution_count": null,
      "metadata": {
        "id": "VZhBiYDzjSdd"
      },
      "outputs": [],
      "source": [
        "def initialize_loss(weights=None):\n",
        "  if weights==None:\n",
        "    loss_fn = nn.CrossEntropyLoss().to(device)\n",
        "  else:\n",
        "    loss_fn = nn.CrossEntropyLoss(\n",
        "        weight=weights,       # weight should be a 1D Tensor assigning weight to each of the classes.\n",
        "        reduction='mean'      # the loss will be normalized by the sum of the corresponding. It is the default.\n",
        "        ).to(device)\n",
        "  \n",
        "  return loss_fn"
      ]
    },
    {
      "cell_type": "markdown",
      "metadata": {
        "id": "K1Ru9toal5zD"
      },
      "source": [
        "Usually, you increase the weight for minority classes, so that their loss also \n",
        "increases and forces the model to learn these samples."
      ]
    },
    {
      "cell_type": "code",
      "execution_count": null,
      "metadata": {
        "colab": {
          "base_uri": "https://localhost:8080/"
        },
        "id": "UYg8pl8qjcgY",
        "outputId": "e06500d9-53e8-4679-9c8b-aec93a48b04b"
      },
      "outputs": [
        {
          "output_type": "stream",
          "name": "stdout",
          "text": [
            "Class Weights for train dataset:  tensor([0.7836, 2.0455, 0.8098])\n"
          ]
        }
      ],
      "source": [
        "model, optimizer, scheduler = initialize_model()\n",
        "weights = get_weights()\n",
        "loss_fn = initialize_loss(weights)"
      ]
    },
    {
      "cell_type": "markdown",
      "metadata": {
        "id": "nE8z27j1l9NL"
      },
      "source": [
        "### Training Loop"
      ]
    },
    {
      "cell_type": "markdown",
      "metadata": {
        "id": "m-0Brc3hmFWd"
      },
      "source": [
        "We will train our Bert Classifier for 20 epochs. In each epoch, we will train our model and evaluate its performance on the validation set. In more details, we will:\n",
        "\n",
        "Training:\n",
        "- Unpack our data from the dataloader and load the data onto the GPU\n",
        "- Zero out gradients calculated in the previous pass\n",
        "- Perform a forward pass to compute logits and loss\n",
        "- Perform a backward pass to compute gradients (`loss.backward()`)\n",
        "- Clip the norm of the gradients to 1.0 to prevent \"exploding gradients\"\n",
        "- Update the model's parameters (`optimizer.step()`)\n",
        "- Update the learning rate (`scheduler.step()`)\n",
        "\n",
        "Evaluation:\n",
        "- Unpack our data and load onto the GPU\n",
        "- Forward pass\n",
        "- Compute loss and accuracy rate over the validation set\n",
        "\n",
        "The script below is commented with the details of our training and evaluation loop. "
      ]
    },
    {
      "cell_type": "code",
      "execution_count": null,
      "metadata": {
        "id": "mghiKlV2mkN4"
      },
      "outputs": [],
      "source": [
        "import torch\n",
        "torch.cuda.empty_cache()"
      ]
    },
    {
      "cell_type": "code",
      "execution_count": null,
      "metadata": {
        "id": "Xgu-Y6ZOl_ZO"
      },
      "outputs": [],
      "source": [
        "def set_seed(seed_value=42):\n",
        "    \"\"\"Set seed for reproducibility.\n",
        "    \"\"\"\n",
        "    random.seed(seed_value)\n",
        "    np.random.seed(seed_value)\n",
        "    torch.manual_seed(seed_value)\n",
        "    torch.cuda.manual_seed_all(seed_value)\n",
        "\n",
        "set_seed()"
      ]
    },
    {
      "cell_type": "code",
      "execution_count": null,
      "metadata": {
        "id": "j1ApAZKWmny1"
      },
      "outputs": [],
      "source": [
        "def evaluate(model, val_dataloader):\n",
        "  \"\"\"After the completion of each training epoch, measure the model's performance\n",
        "  on our validation set.\n",
        "  \"\"\"\n",
        "  # Put the model into the evaluation mode. The dropout layers are disabled during\n",
        "  # the test time.\n",
        "  model.eval()\n",
        "\n",
        "  # Tracking variables\n",
        "  val_accuracy = []\n",
        "  val_loss = []\n",
        "\n",
        "  for batch in val_dataloader:\n",
        "    # Load batch to GPU\n",
        "    mask = batch['attention_mask'].to(device)\n",
        "    input_id = batch['input_ids'].squeeze(1).to(device)\n",
        "    targets = batch[\"labels\"].to(device)\n",
        "\n",
        "    # Compute logits\n",
        "    with torch.no_grad():\n",
        "        logits = model(input_id, mask)\n",
        "\n",
        "    # Compute loss\n",
        "    loss = loss_fn(logits, targets)\n",
        "    val_loss.append(loss.item())\n",
        "\n",
        "    # Get the predictions\n",
        "    preds = torch.argmax(logits, dim=1).flatten()\n",
        "\n",
        "    # Calculate the accuracy rate\n",
        "    batch_acc = (preds == targets).cpu().numpy().mean() \n",
        "    val_accuracy.append(batch_acc)\n",
        "\n",
        "  # Compute the average accuracy and loss over the validation set.\n",
        "  val_loss = np.mean(val_loss)\n",
        "  val_accuracy = np.mean(val_accuracy)\n",
        "\n",
        "  return val_loss, val_accuracy\n",
        "\n",
        "\n",
        "\n",
        "def train(model, train_dataloader, val_dataloader, model_path, fold, optimizer, scheduler,loss_fn, epochs=config.EPOCHS):\n",
        "  print(f\"Start training fold {fold}...\\n\")\n",
        "\n",
        "  # train_accuracy = Accuracy().to(device)\n",
        "  # valid_accuracy = Accuracy().to(device)\n",
        "\n",
        "  min_epoch_loss = np.Inf\n",
        "  log_info = {\"train_loss\":[],\"train_acc\":[],\"val_loss\":[],\"val_acc\":[]}\n",
        "  trigger_times = 0\n",
        "  patience = 6\n",
        "  best_model = model\n",
        "\n",
        "  for epoch in range(epochs):\n",
        "    # =======================================\n",
        "    #               Training\n",
        "    # =======================================\n",
        "    # Print the header of the result table\n",
        "    print(f\"{'Epoch':^7} | {'Batch':^7} | {'Train Loss':^12} | {'Train Acc':^12}| {'Val Loss':^10} | {'Val Acc':^9} | {'Elapsed':^9}\")\n",
        "    print(\"-\"*70)\n",
        "\n",
        "    # Measure the elapsed time of each epoch\n",
        "    t0_epoch, t0_batch = time.time(), time.time()\n",
        "\n",
        "    # Tracking variables\n",
        "    batch_loss, batch_counts = 0, 0  # updated from 20 to 20 batches\n",
        "    epoch_loss = []\n",
        "    epoch_accuracy = []\n",
        "\n",
        "    # Put the model into the training mode\n",
        "    model.train()\n",
        "\n",
        "    for step, batch in enumerate(train_dataloader):\n",
        "      batch_counts +=1\n",
        "\n",
        "      # Zero out any previously calculated gradients\n",
        "      model.zero_grad() \n",
        "      \n",
        "      # Load batch to GPU\n",
        "      mask = batch['attention_mask'].to(device)\n",
        "      input_id = batch['input_ids'].squeeze(1).to(device)\n",
        "      targets = batch[\"labels\"].to(device)\n",
        "\n",
        "      # Perform a forward pass. This will return logits.\n",
        "      logits =  model(input_id, mask)\n",
        "      \n",
        "      #Compute Loss and accumulate the loss values\n",
        "      loss = loss_fn(logits, targets)\n",
        "      batch_loss += loss.item()\n",
        "      epoch_loss.append(loss.item())\n",
        "\n",
        "      #Get the predictions\n",
        "      preds = torch.argmax(logits,dim=1).flatten()\n",
        "\n",
        "      # Calculate the accuracy rate\n",
        "      batch_acc = (preds==targets).cpu().numpy().mean()\n",
        "      epoch_accuracy.append(batch_acc)\n",
        "\n",
        "      # Perform a backward pass to calculate gradients\n",
        "      loss.backward()\n",
        "\n",
        "      # Clip the norm of the gradients to 1.0 to prevent \"exploding gradients\"\n",
        "      torch.nn.utils.clip_grad_norm_(model.parameters(), 1.0)\n",
        "\n",
        "      # Update parameters and the learning rate\n",
        "      optimizer.step()  # updates the parameters, called once the gradients are computed (eg. backward())\n",
        "      scheduler.step()\n",
        "      \n",
        "      # Print the loss values and time elapsed for every 20 batches\n",
        "      if (step % 20 == 0 and step != 0) or (step == len(train_dataloader) - 1):\n",
        "          # Calculate time elapsed for 20 batches\n",
        "          time_elapsed = time.time() - t0_batch\n",
        "\n",
        "          # Print training results\n",
        "          print(f\"{epoch + 1:^7} | {step:^7} | {batch_loss / batch_counts:^12.6f} | {batch_acc:^12.6f} |{'-':^10} | {'-':^9} | {time_elapsed:^9.2f}\")\n",
        "          \n",
        "          # Reset batch tracking variables\n",
        "          batch_loss, batch_counts = 0, 0\n",
        "          t0_batch = time.time()\n",
        "\n",
        "    # Calculate the average loss and accuracy over the entire training data\n",
        "    epoch_loss = np.mean(epoch_loss)\n",
        "    epoch_accuracy = np.mean(epoch_accuracy)\n",
        "\n",
        "    # After the completion of each training epoch, measure the model's performance\n",
        "    # on our validation set.\n",
        "    val_loss, val_accuracy = evaluate(model, val_dataloader)\n",
        "    # Print performance over the entire training data\n",
        "    time_elapsed = time.time() - t0_epoch\n",
        "\n",
        "    print(\"-\"*70)\n",
        "    print(f\"{epoch + 1:^7} | {'-':^7} | {epoch_loss:^12.6f} |{epoch_accuracy:^12.6f}| {val_loss:^10.6f} | {val_accuracy:^9.2f} | {time_elapsed:^9.2f}\")\n",
        "    log_info['train_loss'].append((epoch, epoch_loss))\n",
        "    log_info['train_acc'].append((epoch, epoch_accuracy))\n",
        "    log_info['val_loss'].append((epoch, val_loss))\n",
        "    log_info['val_acc'].append((epoch, val_accuracy))\n",
        "    print(\"-\"*70)\n",
        "    \n",
        "    if val_loss < min_epoch_loss:\n",
        "      min_epoch_loss = val_loss\n",
        "      trigger_times = 0 \n",
        "      print('Trigger times: 0')\n",
        "      print(f\"Saving model with val loss: {val_loss} and validation accuracy: {val_accuracy}\")\n",
        "      torch.save(model, model_path)\n",
        "      best_model = model\n",
        "    else:\n",
        "      trigger_times += 1\n",
        "      print('Trigger Times:', trigger_times)\n",
        "    if trigger_times > patience:\n",
        "        print('Early stopping!\\nStart to test process.')\n",
        "        return best_model, log_info\n",
        "\n",
        "  print(f\"Training Complete for fold {fold}!\")\n",
        "  return best_model, log_info"
      ]
    },
    {
      "cell_type": "code",
      "execution_count": null,
      "metadata": {
        "colab": {
          "base_uri": "https://localhost:8080/"
        },
        "id": "-qqO92m7vgC3",
        "outputId": "4069f68d-dad2-486f-92bb-4b36d0fbad6a"
      },
      "outputs": [
        {
          "name": "stdout",
          "output_type": "stream",
          "text": [
            "/content/drive/MyDrive/models/bertweet_3_cls_corona_3_iunie_v2.pt\n",
            "32\n"
          ]
        }
      ],
      "source": [
        "print(config.MODEL_PATH)\n",
        "print(config.BATCH_SIZE)"
      ]
    },
    {
      "cell_type": "code",
      "execution_count": null,
      "metadata": {
        "id": "Q3mLkYqjwWR-"
      },
      "outputs": [],
      "source": [
        "weights = class_weight.compute_class_weight(class_weight='balanced',classes = np.unique(y_train), y = y_train)\n",
        "weights = torch.tensor(weights,dtype=torch.float)"
      ]
    },
    {
      "cell_type": "code",
      "execution_count": null,
      "metadata": {
        "id": "cDTgz9lrwVE3"
      },
      "outputs": [],
      "source": [
        "train_set = TweetDataset(df_train, y_train)\n",
        "train_dataloader = torch.utils.data.DataLoader(train_set, batch_size=config.BATCH_SIZE)\n",
        "\n",
        "val_set = TweetDataset(df_val,y_val)\n",
        "val_dataloader= torch.utils.data.DataLoader(val_set, batch_size=config.BATCH_SIZE)"
      ]
    },
    {
      "cell_type": "markdown",
      "metadata": {
        "id": "VqITiJVstABX"
      },
      "source": [
        "### Start training"
      ]
    },
    {
      "cell_type": "code",
      "execution_count": null,
      "metadata": {
        "colab": {
          "base_uri": "https://localhost:8080/"
        },
        "id": "tZ33gdYd5AsK",
        "outputId": "491e33e1-b302-4415-ca14-c3f5e91f06ab"
      },
      "outputs": [
        {
          "name": "stdout",
          "output_type": "stream",
          "text": [
            "Class Weights for train dataset:  tensor([0.7836, 2.0455, 0.8098])\n"
          ]
        }
      ],
      "source": [
        "weights = get_weights()"
      ]
    },
    {
      "cell_type": "code",
      "execution_count": null,
      "metadata": {
        "colab": {
          "base_uri": "https://localhost:8080/",
          "height": 36
        },
        "id": "HVUWa1v994J2",
        "outputId": "66e42b0a-2aab-40ed-e4ed-6a32def4234f"
      },
      "outputs": [
        {
          "data": {
            "application/vnd.google.colaboratory.intrinsic+json": {
              "type": "string"
            },
            "text/plain": [
              "'/content/drive/MyDrive/models/bertweet_3_cls_corona_3_iunie_v2.pt'"
            ]
          },
          "execution_count": 75,
          "metadata": {},
          "output_type": "execute_result"
        }
      ],
      "source": [
        "config.MODEL_PATH"
      ]
    },
    {
      "cell_type": "code",
      "execution_count": null,
      "metadata": {
        "id": "CJmFvLLCs7my"
      },
      "outputs": [],
      "source": [
        "set_seed(42)    \n",
        "model, optimizer, scheduler = initialize_model()\n",
        "loss_fn = initialize_loss(weights)\n",
        "\n",
        "best_model, log_info = train(model, train_dataloader, val_dataloader, config.MODEL_PATH, 0, optimizer, scheduler, loss_fn, epochs=config.EPOCHS)"
      ]
    },
    {
      "cell_type": "code",
      "execution_count": null,
      "metadata": {
        "colab": {
          "base_uri": "https://localhost:8080/",
          "height": 36
        },
        "id": "S1EWxHNiH63q",
        "outputId": "d570c371-25a9-45f1-ef75-6e2028ca780c"
      },
      "outputs": [
        {
          "data": {
            "application/vnd.google.colaboratory.intrinsic+json": {
              "type": "string"
            },
            "text/plain": [
              "'/content/drive/MyDrive/models/ctbert_3_cls_corona_4_iunie_v1.pt'"
            ]
          },
          "execution_count": 72,
          "metadata": {},
          "output_type": "execute_result"
        }
      ],
      "source": [
        "config.MODEL_PATH"
      ]
    },
    {
      "cell_type": "markdown",
      "metadata": {
        "id": "geTEf7sOICRT"
      },
      "source": [
        "#Model performance"
      ]
    },
    {
      "cell_type": "markdown",
      "metadata": {
        "id": "cB2VMuo8IJsW"
      },
      "source": [
        "### Plot history"
      ]
    },
    {
      "cell_type": "code",
      "execution_count": null,
      "metadata": {
        "colab": {
          "base_uri": "https://localhost:8080/"
        },
        "id": "U9ujbj0VILvm",
        "outputId": "31593fc4-3ed6-45e0-9a61-a156d48d34c9"
      },
      "outputs": [
        {
          "data": {
            "text/plain": [
              "{'train_acc': [(0, 0.7402959935321595),\n",
              "  (1, 0.8435366510959396),\n",
              "  (2, 0.8819237333812433),\n",
              "  (3, 0.9001549586776859),\n",
              "  (4, 0.9095176068990298),\n",
              "  (5, 0.9141124685591089),\n",
              "  (6, 0.9140361121092346),\n",
              "  (7, 0.9199155587495508),\n",
              "  (8, 0.923895077254761),\n",
              "  (9, 0.9271537010420409),\n",
              "  (10, 0.9298733381243263),\n",
              "  (11, 0.9309108875314409),\n",
              "  (12, 0.9318226733740568),\n",
              "  (13, 0.9350094322673373),\n",
              "  (14, 0.9369610132950054),\n",
              "  (15, 0.938887890765361),\n",
              "  (16, 0.9411606180380884),\n",
              "  (17, 0.9417040962989579),\n",
              "  (18, 0.9425934243621991),\n",
              "  (19, 0.9432604204096299)],\n",
              " 'train_loss': [(0, 0.8134766483024175),\n",
              "  (1, 0.7115757927121852),\n",
              "  (2, 0.6759327952569653),\n",
              "  (3, 0.6590083092568891),\n",
              "  (4, 0.6506815222883413),\n",
              "  (5, 0.6479336757904928),\n",
              "  (6, 0.6463351669990027),\n",
              "  (7, 0.6427619193853596),\n",
              "  (8, 0.6373959963500735),\n",
              "  (9, 0.6336093857825509),\n",
              "  (10, 0.6321684699755884),\n",
              "  (11, 0.6331523368952302),\n",
              "  (12, 0.6310602727614844),\n",
              "  (13, 0.6270711331499423),\n",
              "  (14, 0.62563079977224),\n",
              "  (15, 0.6242482528384966),\n",
              "  (16, 0.6213876096627458),\n",
              "  (17, 0.6211730190887753),\n",
              "  (18, 0.6205928118803755),\n",
              "  (19, 0.6196821806459087)],\n",
              " 'val_acc': [(0, 0.8362068965517241),\n",
              "  (1, 0.8459051724137931),\n",
              "  (2, 0.8879310344827587),\n",
              "  (3, 0.8922413793103449),\n",
              "  (4, 0.9094827586206896),\n",
              "  (5, 0.9051724137931034),\n",
              "  (6, 0.8987068965517241),\n",
              "  (7, 0.8911637931034483),\n",
              "  (8, 0.8987068965517241),\n",
              "  (9, 0.9040948275862069),\n",
              "  (10, 0.9105603448275862),\n",
              "  (11, 0.9127155172413793),\n",
              "  (12, 0.9116379310344828),\n",
              "  (13, 0.9116379310344828),\n",
              "  (14, 0.9181034482758621),\n",
              "  (15, 0.9234913793103449),\n",
              "  (16, 0.9084051724137931),\n",
              "  (17, 0.9234913793103449),\n",
              "  (18, 0.9181034482758621),\n",
              "  (19, 0.9245689655172413)],\n",
              " 'val_loss': [(0, 0.7158963474734076),\n",
              "  (1, 0.7045745705736095),\n",
              "  (2, 0.6771953332013098),\n",
              "  (3, 0.6708260959592359),\n",
              "  (4, 0.6495698649307777),\n",
              "  (5, 0.6501092520253412),\n",
              "  (6, 0.6549288568825558),\n",
              "  (7, 0.6708433278675737),\n",
              "  (8, 0.6611552053484423),\n",
              "  (9, 0.6539126470171172),\n",
              "  (10, 0.6520352507459706),\n",
              "  (11, 0.6485727758243166),\n",
              "  (12, 0.646237299360078),\n",
              "  (13, 0.6444112350200785),\n",
              "  (14, 0.6442690594442959),\n",
              "  (15, 0.6369446947656828),\n",
              "  (16, 0.6495474946909937),\n",
              "  (17, 0.6359784233159033),\n",
              "  (18, 0.6427854792825107),\n",
              "  (19, 0.6338954855655802)]}"
            ]
          },
          "execution_count": 73,
          "metadata": {},
          "output_type": "execute_result"
        }
      ],
      "source": [
        "log_info"
      ]
    },
    {
      "cell_type": "code",
      "execution_count": null,
      "metadata": {
        "id": "uzrzwEkEKg5u"
      },
      "outputs": [],
      "source": [
        "def Convert(tup, di):\n",
        "  di={\"epoch\":[],\"val\":[]}\n",
        "  for a, b in tup:\n",
        "    di['epoch'].append(a)\n",
        "    di['val'].append(b)\n",
        "  return di\n",
        "\n",
        "def plot_performance(log_info):\n",
        "  dict_train={}\n",
        "  dict_val={}\n",
        "\n",
        "  dict_train = Convert(log_info['train_acc'], dict_train)\n",
        "  dict_val = Convert(log_info['val_acc'], dict_val)\n",
        "\n",
        "  dict_train_loss={}\n",
        "  dict_val_loss={}\n",
        "\n",
        "  dict_train_loss = Convert(log_info['train_loss'], dict_train_loss)\n",
        "  dict_val_loss = Convert(log_info['val_loss'], dict_val_loss)\n",
        "\n",
        "  fig = plt.figure()\n",
        "  plt.plot(dict_train['epoch'], dict_train['val'] , 'bo', label = 'Training Accuracy')\n",
        "  plt.plot(dict_val['epoch'], dict_val['val'], 'b', label = 'Validation Accuracy')\n",
        "  plt.title('Training and Validation Accuracy')\n",
        "  plt.legend()\n",
        "  plt.show()\n",
        "\n",
        "\n",
        "  fig = plt.figure()\n",
        "  plt.plot(dict_train_loss['epoch'], dict_train_loss['val'] , 'bo', label = 'Training Loss')\n",
        "  plt.plot(dict_val_loss['epoch'], dict_val_loss['val'], 'b', label = 'Validation Loss')\n",
        "  plt.title('Training and Validation Loss')\n",
        "  plt.legend()\n",
        "  plt.show()"
      ]
    },
    {
      "cell_type": "code",
      "execution_count": null,
      "metadata": {
        "colab": {
          "base_uri": "https://localhost:8080/",
          "height": 545
        },
        "id": "gxcwyhLnK1Nz",
        "outputId": "275bbcd4-7098-40ac-900a-8e3f3a3daab5"
      },
      "outputs": [
        {
          "data": {
            "image/png": "[encoded data removed]",
            "text/plain": [
              "<Figure size 432x288 with 1 Axes>"
            ]
          },
          "metadata": {},
          "output_type": "display_data"
        },
        {
          "data": {
            "image/png": "[encoded data removed]",
            "text/plain": [
              "<Figure size 432x288 with 1 Axes>"
            ]
          },
          "metadata": {},
          "output_type": "display_data"
        }
      ],
      "source": [
        "plot_performance(log_info)"
      ]
    },
    {
      "cell_type": "markdown",
      "metadata": {
        "id": "CxFWtU_CIHDw"
      },
      "source": [
        "###Evaluate on test data"
      ]
    },
    {
      "cell_type": "code",
      "source": [
        "config.MODEL_PATH"
      ],
      "metadata": {
        "colab": {
          "base_uri": "https://localhost:8080/",
          "height": 36
        },
        "id": "t_ZqldgVy5o6",
        "outputId": "5fca7eb3-4a8a-4a24-8ee8-5a01ed17548e"
      },
      "execution_count": null,
      "outputs": [
        {
          "output_type": "execute_result",
          "data": {
            "text/plain": [
              "'/content/drive/MyDrive/models/ctbert_3_cls_corona_4_iunie_v1.pt.pt'"
            ],
            "application/vnd.google.colaboratory.intrinsic+json": {
              "type": "string"
            }
          },
          "metadata": {},
          "execution_count": 312
        }
      ]
    },
    {
      "cell_type": "code",
      "execution_count": null,
      "metadata": {
        "id": "LVC7BKgwYobQ"
      },
      "outputs": [],
      "source": [
        "loaded_model = torch.load(config.MODEL_PATH)"
      ]
    },
    {
      "cell_type": "code",
      "execution_count": null,
      "metadata": {
        "colab": {
          "base_uri": "https://localhost:8080/"
        },
        "id": "eRRqrsOBIeFT",
        "outputId": "0d6049fe-281a-458e-8720-5e70ee7429cb"
      },
      "outputs": [
        {
          "output_type": "stream",
          "name": "stderr",
          "text": [
            "/usr/local/lib/python3.7/dist-packages/ipykernel_launcher.py:15: UserWarning: To copy construct from a tensor, it is recommended to use sourceTensor.clone().detach() or sourceTensor.clone().detach().requires_grad_(True), rather than torch.tensor(sourceTensor).\n",
            "  from ipykernel import kernelapp as app\n",
            "/usr/local/lib/python3.7/dist-packages/ipykernel_launcher.py:16: UserWarning: To copy construct from a tensor, it is recommended to use sourceTensor.clone().detach() or sourceTensor.clone().detach().requires_grad_(True), rather than torch.tensor(sourceTensor).\n",
            "  app.launch_new_instance()\n"
          ]
        },
        {
          "output_type": "stream",
          "name": "stdout",
          "text": [
            "CPU times: user 1min 13s, sys: 60.7 ms, total: 1min 14s\n",
            "Wall time: 1min 13s\n"
          ]
        }
      ],
      "source": [
        "%%time\n",
        "test_loss, test_accuracy = evaluate(loaded_model, test_dataloader)"
      ]
    },
    {
      "cell_type": "code",
      "execution_count": null,
      "metadata": {
        "id": "c7zafanIgHdJ",
        "colab": {
          "base_uri": "https://localhost:8080/"
        },
        "outputId": "3c89a6fa-4829-488e-9108-12befff6b6d5"
      },
      "outputs": [
        {
          "output_type": "execute_result",
          "data": {
            "text/plain": [
              "0.9367360580595875"
            ]
          },
          "metadata": {},
          "execution_count": 315
        }
      ],
      "source": [
        "test_accuracy"
      ]
    },
    {
      "cell_type": "code",
      "execution_count": null,
      "metadata": {
        "id": "l6k-fYYqI9XU"
      },
      "outputs": [],
      "source": [
        "# torch.save(model, config.MODEL_PATH+\".pt\")"
      ]
    },
    {
      "cell_type": "code",
      "execution_count": null,
      "metadata": {
        "id": "3KeU4YHBJKrR"
      },
      "outputs": [],
      "source": [
        "# config.MODEL_PATH=config.MODEL_PATH+\".pt\""
      ]
    },
    {
      "cell_type": "code",
      "execution_count": null,
      "metadata": {
        "colab": {
          "base_uri": "https://localhost:8080/"
        },
        "id": "QdT-QVTpJUus",
        "outputId": "3312a381-77c4-4f10-d1a6-4cf674b50bda"
      },
      "outputs": [
        {
          "output_type": "stream",
          "name": "stdout",
          "text": [
            "Model  /content/drive/MyDrive/models/ctbert_3_cls_corona_4_iunie_v1.pt.pt :\n",
            "LOSS = 0.6309489131975574 \n",
            "ACCURACY = 0.9367360580595875\n"
          ]
        }
      ],
      "source": [
        "print(\"Model \",config.MODEL_PATH,\":\\nLOSS =\",test_loss,\"\\nACCURACY =\",test_accuracy)"
      ]
    },
    {
      "cell_type": "markdown",
      "metadata": {
        "id": "mN5IMHDtQQrn"
      },
      "source": [
        "### Prediction"
      ]
    },
    {
      "cell_type": "code",
      "execution_count": null,
      "metadata": {
        "id": "74a-A2K9NnV6"
      },
      "outputs": [],
      "source": [
        "def get_targets_and_predictios_as_tensors(dataloader,model):\n",
        "  predictions = []\n",
        "  targets = []\n",
        "  for batch in dataloader:\n",
        "    input_ids = batch['input_ids']\n",
        "    masks = batch['attention_mask']\n",
        "    batch_targets = batch['labels']\n",
        "\n",
        "    with torch.no_grad():\n",
        "      batch_predictions = model(input_ids.squeeze(1),masks)\n",
        "      batch_predictions = torch.argmax(batch_predictions, dim=1).flatten()\n",
        "      predictions.append(batch_predictions.cpu())\n",
        "      targets.append(batch_targets.cpu())\n",
        "\n",
        "\n",
        "  final_predictions = np.concatenate(predictions)\n",
        "  final_targets = np.concatenate(targets)\n",
        "\n",
        "  return final_targets, final_predictions"
      ]
    },
    {
      "cell_type": "code",
      "execution_count": null,
      "metadata": {
        "colab": {
          "base_uri": "https://localhost:8080/"
        },
        "id": "QUP-6_r-QUn6",
        "outputId": "51bb0c7f-8b5f-4207-c6f1-8938c0b9f0e1"
      },
      "outputs": [
        {
          "output_type": "stream",
          "name": "stderr",
          "text": [
            "/usr/local/lib/python3.7/dist-packages/ipykernel_launcher.py:15: UserWarning: To copy construct from a tensor, it is recommended to use sourceTensor.clone().detach() or sourceTensor.clone().detach().requires_grad_(True), rather than torch.tensor(sourceTensor).\n",
            "  from ipykernel import kernelapp as app\n",
            "/usr/local/lib/python3.7/dist-packages/ipykernel_launcher.py:16: UserWarning: To copy construct from a tensor, it is recommended to use sourceTensor.clone().detach() or sourceTensor.clone().detach().requires_grad_(True), rather than torch.tensor(sourceTensor).\n",
            "  app.launch_new_instance()\n"
          ]
        },
        {
          "output_type": "stream",
          "name": "stdout",
          "text": [
            "TEST DATASET:  number of samples misclassified:  240 / 3798\n",
            "TEST DATASET:  number of samples correct classified:  3558 / 3798\n",
            "CPU times: user 1min 13s, sys: 48.6 ms, total: 1min 13s\n",
            "Wall time: 1min 13s\n"
          ]
        }
      ],
      "source": [
        "%%time\n",
        "final_targets, final_predictions = get_targets_and_predictios_as_tensors(test_dataloader, loaded_model)\n",
        "\n",
        "correct_classifications = sum(final_targets==final_predictions)\n",
        "misclassified = len(final_predictions) - correct_classifications\n",
        "\n",
        "print(\"TEST DATASET:  number of samples misclassified: \", str(misclassified),\"/\",str(len(final_predictions)))\n",
        "print(\"TEST DATASET:  number of samples correct classified: \", correct_classifications,\"/\",str(len(final_predictions)))"
      ]
    },
    {
      "cell_type": "markdown",
      "metadata": {
        "id": "yN24Bw0nQpFc"
      },
      "source": [
        "###Confusion Metrics and Report Classification"
      ]
    },
    {
      "cell_type": "code",
      "execution_count": null,
      "metadata": {
        "colab": {
          "base_uri": "https://localhost:8080/"
        },
        "id": "3Zehk3NzRjpL",
        "outputId": "98251d47-1a8c-41ca-b0fb-1b954ae97363"
      },
      "outputs": [
        {
          "output_type": "execute_result",
          "data": {
            "text/plain": [
              "array(['Negative', 'Neutral', 'Positive'], dtype='<U8')"
            ]
          },
          "metadata": {},
          "execution_count": 230
        }
      ],
      "source": [
        "classes"
      ]
    },
    {
      "cell_type": "code",
      "execution_count": null,
      "metadata": {
        "colab": {
          "base_uri": "https://localhost:8080/"
        },
        "id": "T9HLh8qyRv8O",
        "outputId": "01a55549-f65e-4f4f-bff2-0abcbb2d1378"
      },
      "outputs": [
        {
          "output_type": "execute_result",
          "data": {
            "text/plain": [
              "array([0, 2, 2, ..., 1, 0, 2])"
            ]
          },
          "metadata": {},
          "execution_count": 231
        }
      ],
      "source": [
        "y_test"
      ]
    },
    {
      "cell_type": "code",
      "execution_count": null,
      "metadata": {
        "colab": {
          "base_uri": "https://localhost:8080/",
          "height": 239
        },
        "id": "ykoD97PmRygD",
        "outputId": "47ec9263-bec0-4785-a2a1-79d146eba6b2"
      },
      "outputs": [
        {
          "output_type": "execute_result",
          "data": {
            "text/plain": [
              "   index  UserName  ScreenName     Location     TweetAt  \\\n",
              "0      0         1       44953          NYC  02-03-2020   \n",
              "1      1         2       44954  Seattle, WA  02-03-2020   \n",
              "2      2         3       44955          NaN  02-03-2020   \n",
              "\n",
              "                                       OriginalTweet           Sentiment  \\\n",
              "0  TRENDING: New Yorkers encounter empty supermar...  Extremely Negative   \n",
              "1  When I couldn't find hand sanitizer at Fred Me...            Positive   \n",
              "2  Find out how you can protect yourself and love...  Extremely Positive   \n",
              "\n",
              "     target                                              final  \\\n",
              "0  Negative  TRENDING : New Yorkers encounter empty superma...   \n",
              "1  Positive  When I could n't find hand sanitizer at Fred M...   \n",
              "2  Positive  Find out how you can protect yourself and love...   \n",
              "\n",
              "                                           input_ids  \\\n",
              "0  [[tensor(0), tensor(51862), tensor(22), tensor...   \n",
              "1  [[tensor(0), tensor(205), tensor(8), tensor(15...   \n",
              "2  [[tensor(0), tensor(1856), tensor(50), tensor(...   \n",
              "\n",
              "                                      attention_mask  \n",
              "0  [[tensor(1), tensor(1), tensor(1), tensor(1), ...  \n",
              "1  [[tensor(1), tensor(1), tensor(1), tensor(1), ...  \n",
              "2  [[tensor(1), tensor(1), tensor(1), tensor(1), ...  "
            ],
            "text/html": [
              "\n",
              "  <div id=\"df-ab8a32f9-b06f-4ebf-a5e0-9c00298faa36\">\n",
              "    <div class=\"colab-df-container\">\n",
              "      <div>\n",
              "<style scoped>\n",
              "    .dataframe tbody tr th:only-of-type {\n",
              "        vertical-align: middle;\n",
              "    }\n",
              "\n",
              "    .dataframe tbody tr th {\n",
              "        vertical-align: top;\n",
              "    }\n",
              "\n",
              "    .dataframe thead th {\n",
              "        text-align: right;\n",
              "    }\n",
              "</style>\n",
              "<table border=\"1\" class=\"dataframe\">\n",
              "  <thead>\n",
              "    <tr style=\"text-align: right;\">\n",
              "      <th></th>\n",
              "      <th>index</th>\n",
              "      <th>UserName</th>\n",
              "      <th>ScreenName</th>\n",
              "      <th>Location</th>\n",
              "      <th>TweetAt</th>\n",
              "      <th>OriginalTweet</th>\n",
              "      <th>Sentiment</th>\n",
              "      <th>target</th>\n",
              "      <th>final</th>\n",
              "      <th>input_ids</th>\n",
              "      <th>attention_mask</th>\n",
              "    </tr>\n",
              "  </thead>\n",
              "  <tbody>\n",
              "    <tr>\n",
              "      <th>0</th>\n",
              "      <td>0</td>\n",
              "      <td>1</td>\n",
              "      <td>44953</td>\n",
              "      <td>NYC</td>\n",
              "      <td>02-03-2020</td>\n",
              "      <td>TRENDING: New Yorkers encounter empty supermar...</td>\n",
              "      <td>Extremely Negative</td>\n",
              "      <td>Negative</td>\n",
              "      <td>TRENDING : New Yorkers encounter empty superma...</td>\n",
              "      <td>[[tensor(0), tensor(51862), tensor(22), tensor...</td>\n",
              "      <td>[[tensor(1), tensor(1), tensor(1), tensor(1), ...</td>\n",
              "    </tr>\n",
              "    <tr>\n",
              "      <th>1</th>\n",
              "      <td>1</td>\n",
              "      <td>2</td>\n",
              "      <td>44954</td>\n",
              "      <td>Seattle, WA</td>\n",
              "      <td>02-03-2020</td>\n",
              "      <td>When I couldn't find hand sanitizer at Fred Me...</td>\n",
              "      <td>Positive</td>\n",
              "      <td>Positive</td>\n",
              "      <td>When I could n't find hand sanitizer at Fred M...</td>\n",
              "      <td>[[tensor(0), tensor(205), tensor(8), tensor(15...</td>\n",
              "      <td>[[tensor(1), tensor(1), tensor(1), tensor(1), ...</td>\n",
              "    </tr>\n",
              "    <tr>\n",
              "      <th>2</th>\n",
              "      <td>2</td>\n",
              "      <td>3</td>\n",
              "      <td>44955</td>\n",
              "      <td>NaN</td>\n",
              "      <td>02-03-2020</td>\n",
              "      <td>Find out how you can protect yourself and love...</td>\n",
              "      <td>Extremely Positive</td>\n",
              "      <td>Positive</td>\n",
              "      <td>Find out how you can protect yourself and love...</td>\n",
              "      <td>[[tensor(0), tensor(1856), tensor(50), tensor(...</td>\n",
              "      <td>[[tensor(1), tensor(1), tensor(1), tensor(1), ...</td>\n",
              "    </tr>\n",
              "  </tbody>\n",
              "</table>\n",
              "</div>\n",
              "      <button class=\"colab-df-convert\" onclick=\"convertToInteractive('df-ab8a32f9-b06f-4ebf-a5e0-9c00298faa36')\"\n",
              "              title=\"Convert this dataframe to an interactive table.\"\n",
              "              style=\"display:none;\">\n",
              "        \n",
              "  <svg xmlns=\"http://www.w3.org/2000/svg\" height=\"24px\"viewBox=\"0 0 24 24\"\n",
              "       width=\"24px\">\n",
              "    <path d=\"M0 0h24v24H0V0z\" fill=\"none\"/>\n",
              "    <path d=\"M18.56 5.44l.94 2.06.94-2.06 2.06-.94-2.06-.94-.94-2.06-.94 2.06-2.06.94zm-11 1L8.5 8.5l.94-2.06 2.06-.94-2.06-.94L8.5 2.5l-.94 2.06-2.06.94zm10 10l.94 2.06.94-2.06 2.06-.94-2.06-.94-.94-2.06-.94 2.06-2.06.94z\"/><path d=\"M17.41 7.96l-1.37-1.37c-.4-.4-.92-.59-1.43-.59-.52 0-1.04.2-1.43.59L10.3 9.45l-7.72 7.72c-.78.78-.78 2.05 0 2.83L4 21.41c.39.39.9.59 1.41.59.51 0 1.02-.2 1.41-.59l7.78-7.78 2.81-2.81c.8-.78.8-2.07 0-2.86zM5.41 20L4 18.59l7.72-7.72 1.47 1.35L5.41 20z\"/>\n",
              "  </svg>\n",
              "      </button>\n",
              "      \n",
              "  <style>\n",
              "    .colab-df-container {\n",
              "      display:flex;\n",
              "      flex-wrap:wrap;\n",
              "      gap: 12px;\n",
              "    }\n",
              "\n",
              "    .colab-df-convert {\n",
              "      background-color: #E8F0FE;\n",
              "      border: none;\n",
              "      border-radius: 50%;\n",
              "      cursor: pointer;\n",
              "      display: none;\n",
              "      fill: #1967D2;\n",
              "      height: 32px;\n",
              "      padding: 0 0 0 0;\n",
              "      width: 32px;\n",
              "    }\n",
              "\n",
              "    .colab-df-convert:hover {\n",
              "      background-color: #E2EBFA;\n",
              "      box-shadow: 0px 1px 2px rgba(60, 64, 67, 0.3), 0px 1px 3px 1px rgba(60, 64, 67, 0.15);\n",
              "      fill: #174EA6;\n",
              "    }\n",
              "\n",
              "    [theme=dark] .colab-df-convert {\n",
              "      background-color: #3B4455;\n",
              "      fill: #D2E3FC;\n",
              "    }\n",
              "\n",
              "    [theme=dark] .colab-df-convert:hover {\n",
              "      background-color: #434B5C;\n",
              "      box-shadow: 0px 1px 3px 1px rgba(0, 0, 0, 0.15);\n",
              "      filter: drop-shadow(0px 1px 2px rgba(0, 0, 0, 0.3));\n",
              "      fill: #FFFFFF;\n",
              "    }\n",
              "  </style>\n",
              "\n",
              "      <script>\n",
              "        const buttonEl =\n",
              "          document.querySelector('#df-ab8a32f9-b06f-4ebf-a5e0-9c00298faa36 button.colab-df-convert');\n",
              "        buttonEl.style.display =\n",
              "          google.colab.kernel.accessAllowed ? 'block' : 'none';\n",
              "\n",
              "        async function convertToInteractive(key) {\n",
              "          const element = document.querySelector('#df-ab8a32f9-b06f-4ebf-a5e0-9c00298faa36');\n",
              "          const dataTable =\n",
              "            await google.colab.kernel.invokeFunction('convertToInteractive',\n",
              "                                                     [key], {});\n",
              "          if (!dataTable) return;\n",
              "\n",
              "          const docLinkHtml = 'Like what you see? Visit the ' +\n",
              "            '<a target=\"_blank\" href=https://colab.research.google.com/notebooks/data_table.ipynb>data table notebook</a>'\n",
              "            + ' to learn more about interactive tables.';\n",
              "          element.innerHTML = '';\n",
              "          dataTable['output_type'] = 'display_data';\n",
              "          await google.colab.output.renderOutput(dataTable, element);\n",
              "          const docLink = document.createElement('div');\n",
              "          docLink.innerHTML = docLinkHtml;\n",
              "          element.appendChild(docLink);\n",
              "        }\n",
              "      </script>\n",
              "    </div>\n",
              "  </div>\n",
              "  "
            ]
          },
          "metadata": {},
          "execution_count": 232
        }
      ],
      "source": [
        "df_test.head(3) # 2-pozitiv, 1-neutru, 0-negativ"
      ]
    },
    {
      "cell_type": "code",
      "execution_count": null,
      "metadata": {
        "id": "73gOkcrRStfd"
      },
      "outputs": [],
      "source": [
        "def decode_sentiment(score):    \n",
        "  if score==0:\n",
        "    return 'Negative'\n",
        "  elif score==1:\n",
        "    return 'Neutral'\n",
        "  else:\n",
        "    return 'Positive'"
      ]
    },
    {
      "cell_type": "code",
      "execution_count": null,
      "metadata": {
        "colab": {
          "base_uri": "https://localhost:8080/",
          "height": 503
        },
        "id": "91SmoHXdQt3O",
        "outputId": "b165a7ed-5db5-4e9c-df8b-91342af8df93"
      },
      "outputs": [
        {
          "output_type": "stream",
          "name": "stdout",
          "text": [
            "\n",
            "*Classification Report for Test Data:\n",
            "               precision    recall  f1-score   support\n",
            "\n",
            "    Negative       0.95      0.96      0.95      1633\n",
            "     Neutral       0.86      0.85      0.86       619\n",
            "    Positive       0.95      0.95      0.95      1546\n",
            "\n",
            "    accuracy                           0.94      3798\n",
            "   macro avg       0.92      0.92      0.92      3798\n",
            "weighted avg       0.94      0.94      0.94      3798\n",
            "\n"
          ]
        },
        {
          "output_type": "display_data",
          "data": {
            "text/plain": [
              "<Figure size 432x288 with 2 Axes>"
            ],
            "image/png": "[encoded data removed]"
          },
          "metadata": {
            "needs_background": "light"
          }
        }
      ],
      "source": [
        "from sklearn.metrics import classification_report\n",
        "from sklearn.metrics import plot_confusion_matrix\n",
        "from sklearn.metrics import ConfusionMatrixDisplay\n",
        "from sklearn.metrics import confusion_matrix\n",
        "\n",
        "\n",
        "print ('\\n*Classification Report for Test Data:\\n', classification_report(final_targets, final_predictions, target_names=classes))\n",
        "\n",
        "cm = confusion_matrix(final_targets, final_predictions, normalize='true')\n",
        "\n",
        "disp = ConfusionMatrixDisplay(confusion_matrix=cm, display_labels=['Negative','Neutral','Positive'])\n",
        "\n",
        "\n",
        "disp.plot(cmap=plt.cm.Blues)\n",
        "plt.title('Confusion Matrix for Test Data')\n",
        "plt.show()"
      ]
    },
    {
      "cell_type": "markdown",
      "metadata": {
        "id": "3clgvrdXSOAJ"
      },
      "source": [
        "###Error Analysis"
      ]
    },
    {
      "cell_type": "code",
      "execution_count": null,
      "metadata": {
        "colab": {
          "base_uri": "https://localhost:8080/",
          "height": 36
        },
        "id": "igVPGmhZS45F",
        "outputId": "0119095b-7584-48a5-cf6e-51004b063906"
      },
      "outputs": [
        {
          "output_type": "execute_result",
          "data": {
            "text/plain": [
              "'/content/drive/MyDrive/models/ctbert_3_cls_corona_4_iunie_v1.pt.pt'"
            ],
            "application/vnd.google.colaboratory.intrinsic+json": {
              "type": "string"
            }
          },
          "metadata": {},
          "execution_count": 320
        }
      ],
      "source": [
        "config.MODEL_PATH"
      ]
    },
    {
      "cell_type": "code",
      "execution_count": null,
      "metadata": {
        "colab": {
          "base_uri": "https://localhost:8080/"
        },
        "id": "JV7DxMTWSP6_",
        "outputId": "b2f81673-6eae-4144-cb22-5e45488d7862"
      },
      "outputs": [
        {
          "output_type": "stream",
          "name": "stdout",
          "text": [
            "34 \tLABEL TRUE:  Neutral \tLABEL PREDICTED:  Negative \tTEXT:  So not due to #Brexit at all then &gt;&gt; Supermarkets begin #foodrationing after wave of #coronavirus-fuelled panic buying https://t.co/AKgkHxO0tW\n",
            "122 \tLABEL TRUE:  Neutral \tLABEL PREDICTED:  Negative \tTEXT:  With all of the public school, college and university closures due to #coronavirus, a lot of food insecure students will go hungry. As you stock your pantry, consider donating to your local food pantry to help feed a kid. #CoronaVirusUpdate\n",
            "143 \tLABEL TRUE:  Neutral \tLABEL PREDICTED:  Negative \tTEXT:  When the #CPTSD therapist recommends that you go out among people to isolate yourself less and the government then advises you to stay at home, recommend self-isolation, and you then consider to not even go out shopping anymore and instead do that online too ???? #Coronavirus\n",
            "152 \tLABEL TRUE:  Neutral \tLABEL PREDICTED:  Negative \tTEXT:  \"Officials are saying to stock up on 3 extra days worth of food in prep for the #Coronavirus outbreak; I saw a woman panick over this because she said that she didn't know what 3 extra days of food looked like.\"-speech from Anti-Hunger Policy Conference.\r\r\n",
            "https://t.co/r8erNbiv3P\n",
            "167 \tLABEL TRUE:  Neutral \tLABEL PREDICTED:  Negative \tTEXT:  LOOK: Panic buying at a supermarket in Makati, Manila as the #Philippines announces 16 more cases of #COVID2019 One shop worker told me queues are twice as long as normal. Hand sanitiser and cleaning alcohol is in short supply. #CoronaVirusUpdate https://t.co/qEi40H4cHz\n",
            "175 \tLABEL TRUE:  Neutral \tLABEL PREDICTED:  Negative \tTEXT:  Everyone else during COVID-19: I need to stock up on food and water in case IÂm quarantined\r\r\n",
            "\r\r\n",
            "Me during COVID-19: TheyÂre going to make me work from home and I need to make sure we have no food in the house for me to mindlessly eat \r\r\n",
            "#dietproblems\n",
            "232 \tLABEL TRUE:  Neutral \tLABEL PREDICTED:  Negative \tTEXT:  CDC: At-risk Americans (60 &amp; over) and immunocompromised (impaired immune system) Âtake actionÂ stock up food &amp; meds for COVID-19\r\r\n",
            "https://t.co/ezYzJEigSm\n",
            "316 \tLABEL TRUE:  Neutral \tLABEL PREDICTED:  Negative \tTEXT:  We are just  only 3 months into #Covid_19\r\r\n",
            "* EU on lockdown\r\r\n",
            "* America suspending all flight from EU \r\r\n",
            "* All sporting events postponed\r\r\n",
            "*Bitcoin crashed\r\r\n",
            "*Oil crashed \r\r\n",
            "*Stock market crashed\r\r\n",
            "* Food &amp; medicine running out\r\r\n",
            "*No president or celebrity is safe. \r\r\n",
            "  #CoronavirusPandemic\n",
            "376 \tLABEL TRUE:  Neutral \tLABEL PREDICTED:  Negative \tTEXT:  The world has shifted left, right and centre and yet the Pakistani brands continue to skyrocket their BS prices. Are they delusional?! ????? #Covid_19\n",
            "401 \tLABEL TRUE:  Neutral \tLABEL PREDICTED:  Negative \tTEXT:  The economic impact of Coronavirus:\r\r\n",
            "Already China is experiencing disruption in industrial activities. In other parts of the world like Spain, USA and Asia oil prices are plunging and dragging down stock market.\r\r\n",
            "#Covid_19 #DiscourseatUoN https://t.co/4KM7m5Q6Po\n",
            "453 \tLABEL TRUE:  Neutral \tLABEL PREDICTED:  Negative \tTEXT:  Dear General Public. PLEASE stop stockpiling food for the unlikely event youÂre prohibited to leave your home. YouÂre making it hard for everyone to eat/drink affordably today and putting extra pressure on businesses and suppliers to keep up with demand. @WholeFoods #coronavirus\n",
            "470 \tLABEL TRUE:  Neutral \tLABEL PREDICTED:  Negative \tTEXT:  .@DollarGeneral Corp beat quarterly same-store sales and profit expectations on Thursday, as it pulled in more bargain-hungry shoppers to its stores, but warned of #uncertainty around its business due to the #coronavirus outbreak. https://t.co/sXemzRuuit\n",
            "559 \tLABEL TRUE:  Neutral \tLABEL PREDICTED:  Negative \tTEXT:  &gt;&gt; one more thing about the #Covid_19 if you're going to stock buy hoe about donate to your local food banks, or check in with your elderly or sick neighbours. #BeKind\n",
            "638 \tLABEL TRUE:  Neutral \tLABEL PREDICTED:  Negative \tTEXT:  My dad told me to stock up on food in case we get quarantined..4 days later and I already ate it all. Oops ? #Covid_19\n",
            "872 \tLABEL TRUE:  Neutral \tLABEL PREDICTED:  Negative \tTEXT:  (IL)\r\r\n",
            "Whyyyy? Finnish are crazy..\r\r\n",
            "Buying all the toilet paper from the shops? Like, are yall gonna eat it? Or build barrigades against the virus?\r\r\n",
            "CÂmon, there is still toilet paper in stores, and we have online shopping and home delivery if needed..\r\r\n",
            "#Koronavirusfi #Covid_19 https://t.co/VGISDN7F5M\n",
            "1079 \tLABEL TRUE:  Neutral \tLABEL PREDICTED:  Negative \tTEXT:  Friday the 13th. #Covid_19 panic. If you have nothing to do outside, J-UST STAY AT HOME. Filipinos who don't hoard alcohol, face masks and sells them at exorbitant prices, Mag JAKOL. Kudos to Metro Manila, Batangas, Cebu City, Mandaue City for suspending classes. https://t.co/2E6STuMswh\n",
            "1124 \tLABEL TRUE:  Neutral \tLABEL PREDICTED:  Negative \tTEXT:  Tweet circulated last night about an elderly couple sitting outside a grocery store, too fearful of CV to go in. It is different &amp; far more risky over about 65. Ask someone like that if they need a grocery run, or help with a grocery pickup account \r\r\n",
            "#CoronaVirus #news\n",
            "1171 \tLABEL TRUE:  Neutral \tLABEL PREDICTED:  Negative \tTEXT:  This #OilPriceWar + #Covid_19 makes for some kookoobananas gas prices ? https://t.co/At17XZYpNu\n",
            "1289 \tLABEL TRUE:  Neutral \tLABEL PREDICTED:  Negative \tTEXT:  Grocery store are insanely busy right now. #Covid_19 #CoronavirusPandemic\n",
            "1335 \tLABEL TRUE:  Neutral \tLABEL PREDICTED:  Negative \tTEXT:  Never underestimate a girl who can do a solid deep lunge... when youre fighting for the last items in a frenzied supermarket. #Covid_19\n",
            "1340 \tLABEL TRUE:  Neutral \tLABEL PREDICTED:  Negative \tTEXT:  A friend sent me this picture of their local grocery store in #Switzerland after a wave of panic buying due to #coronavirus spread #Covid_19 https://t.co/ayh1Y9Hskq\n",
            "1350 \tLABEL TRUE:  Neutral \tLABEL PREDICTED:  Negative \tTEXT:  Seen as y'all stocked up and the isles are empty in the supermarket, are you willing to donate some of your items to the homeless shelter, they are low on resources, look out for one another especially those less fortunate. #Covid_19\n",
            "1486 \tLABEL TRUE:  Neutral \tLABEL PREDICTED:  Negative \tTEXT:  \"Judging by the supermarket shelves, last month's #BeKind has been replaced by #FuckEverybodyElse\" ?? #Coronavirus #CoronavirusPandemic #COVID_19uk #Covid_19 https://t.co/JydAV1HUYt\n",
            "1491 \tLABEL TRUE:  Neutral \tLABEL PREDICTED:  Negative \tTEXT:  Dang these people are out of control, I'll tell ya that.even at my store it's madness now....I still.dunno wth toilet paper has to do with #Covid_19 , far as I know you don't get the runs from it...? Anyway stay safe y'all. I do take precautions working tho cuz retail yay!?\n",
            "1675 \tLABEL TRUE:  Neutral \tLABEL PREDICTED:  Negative \tTEXT:  @ByPatForde Also cheer for the wildly under appreciated #Costco/grocery store employee. I was blown away by the quality of their work yesterday in a very scary high stress environment. They really had their game faces on! #everydayheros #Covid_19 #CoronaO\n",
            "1791 \tLABEL TRUE:  Neutral \tLABEL PREDICTED:  Negative \tTEXT:  Anyone else think panic buying is getting out of hand?? This is madness - some people genuinely need to rely on online shopping.\r\r\n",
            "Hope the website is up and running soon.\r\r\n",
            "\r\r\n",
            "#Covid_19 #panickbuyinguk #CoronaOutbreak #ocado https://t.co/NuqatiTmRI\n",
            "1893 \tLABEL TRUE:  Neutral \tLABEL PREDICTED:  Negative \tTEXT:  Going to the grocery store is like fight club. #Covid_19 #panicbuying #CoronaOutbreak\n",
            "2028 \tLABEL TRUE:  Neutral \tLABEL PREDICTED:  Negative \tTEXT:  Coronavirus: EasyJet waives change fees as flights are cancelled:\r\r\n",
            "\r\r\n",
            "Flexible policy applies Âuntil further noticeÂ\r\r\n",
            "\r\r\n",
            "https://t.co/EMt4oYDhoF\n",
            "2087 \tLABEL TRUE:  Neutral \tLABEL PREDICTED:  Negative \tTEXT:  OK. I will admit it. I'm fucking scared of the #Covid_19. I'm a college student and I work in a grocery store. I'm ok with classes being moved to online b/c I have the privilege of owning a laptop and paying for internet. But what I'm worried about is my job. 1/\n",
            "2182 \tLABEL TRUE:  Neutral \tLABEL PREDICTED:  Negative \tTEXT:  point of view: u live in LA, &amp; itÂs down-pouring. the pollen count is high, &amp; nobody knows how 2 drive. Ridiculous rent prices force you into public places despite having #COVID_19 fears. ppl r sniffling &amp; sneezing all around uÂ is it allergies? Or early stages ofÂ#CoronaVirus?? https://t.co/PqEKVPyWLL\n",
            "2274 \tLABEL TRUE:  Neutral \tLABEL PREDICTED:  Negative \tTEXT:  @ChimeraGenetics Travellers will self isolate @ home. They'll do it because it's right. I have a friend returning 2 Canada from abroad and, if there's food, I'm gonna stock his house b4 he's back. This is like a war effort. We can come together in mutual \n",
            "2292 \tLABEL TRUE:  Neutral \tLABEL PREDICTED:  Negative \tTEXT:  Crowded hospitals w/o #Covid_19 tests, empty grocery store shelves and worried Angelenos have good cause to question leadership @LACity @MayorOfLA... https://t.co/8dDPPeOrJB\n",
            "2433 \tLABEL TRUE:  Neutral \tLABEL PREDICTED:  Negative \tTEXT:  Scientists: the coronavirus is deadly, stock up and be prepared to quarantine your self\r\r\n",
            "\r\r\n",
            "Me: I think we should get food. Food is the most important\r\r\n",
            "\r\r\n",
            "Everyone else: NO!!! WE NEED TOILET PAPER!!!  #coronavirus #coronapocalypse #CDC #QuarantineAndChill #COVID\n",
            "2473 \tLABEL TRUE:  Neutral \tLABEL PREDICTED:  Negative \tTEXT:  If you have ever studied social psych or sociology.. go to the grocery store and witness how people are acting during this time.. it really shows peopleÂs true behaviors. This has to be the most insane social experiment yet. This will be a textbook case study one day #CoronaVirus\n",
            "2525 \tLABEL TRUE:  Neutral \tLABEL PREDICTED:  Negative \tTEXT:  Oil prices have plummeted amid the magnitude of the spread of #Covid_19, hurting economies that are heavily reliant on energy exports.\n",
            "2539 \tLABEL TRUE:  Neutral \tLABEL PREDICTED:  Negative \tTEXT:  IÂm about to go down an online shopping hole and someone must stop me. Spring clothes, spring shoes spring bags spring skin like IÂm booking a facial/ordering a new closet this is how covid 19 is effecting me. Affecting? Idk.\n",
            "2595 \tLABEL TRUE:  Neutral \tLABEL PREDICTED:  Negative \tTEXT:  This evening I've realised that German Shepard puppy's wind is more toxic then #Covid_19. Consumer advice bought to you by a man holding his breath.\n",
            "2627 \tLABEL TRUE:  Neutral \tLABEL PREDICTED:  Negative \tTEXT:  Since the pandemic has started thanks to the evil #coronavirus , I will just play and stream the library of games I have sitting on Steam and other PC platforms and consoles due to exclusives. Remember to wash your hands and stock up on food as I have.\n",
            "2850 \tLABEL TRUE:  Neutral \tLABEL PREDICTED:  Negative \tTEXT:  Just a reminder to everyone that while you are stocking up on groceries don t forget to also stock up on pet food and supplies I just got home from Petsmart and bought a month s worth of items\n",
            "2978 \tLABEL TRUE:  Neutral \tLABEL PREDICTED:  Negative \tTEXT:  (1)\r\r\n",
            "\r\r\n",
            "** Food for thought **\r\r\n",
            "\r\r\n",
            "They are making Covid -19 sound like the plauge. People with weakend immune systems  and old people ain't going to change their habits. They have been taking extra precautions within the last 10, 15, 20+ years! \r\r\n",
            "\r\r\n",
            "So why the panic..... https://t.co/nmU0de1HVO\n",
            "3046 \tLABEL TRUE:  Neutral \tLABEL PREDICTED:  Negative \tTEXT:  With all of this panic shopping &amp; emptying out shelves. Stores who are capable should just switch over to online ordering/pick up instead for the time being. That would help out tremendously IÂm sure no?? #CoronaVirus #WalMart #Target #SamsClub #Costco\n",
            "3123 \tLABEL TRUE:  Neutral \tLABEL PREDICTED:  Negative \tTEXT:  ..by using \"food industry\" in it's headline (re: clickbait), this article explains the hardships that Seattle Taco Truck's are currently facing..?\r\r\n",
            "\r\r\n",
            "#COVID2019\r\r\n",
            " https://t.co/2jTkcJIynX\n",
            "3159 \tLABEL TRUE:  Neutral \tLABEL PREDICTED:  Negative \tTEXT:  Grocers, both independent and chains, are struggling to keep high-demand items on hand throughout central #Maine as people prepare to spend more time at home, reports @JLowellKJ\r\r\n",
            "https://t.co/VBcdjEGvD6\n",
            "3179 \tLABEL TRUE:  Neutral \tLABEL PREDICTED:  Negative \tTEXT:  ?NEVER will forget this active betrayal of America! https://t.co/0mlSBiUZKl\n",
            "3226 \tLABEL TRUE:  Neutral \tLABEL PREDICTED:  Negative \tTEXT:  Last bev on the train home. Thank you Edinburgh we had a fab time. Now back to reality, covid-19 panic &amp; probably no food in the house. https://t.co/Sz6lSbOfm4\n",
            "3330 \tLABEL TRUE:  Neutral \tLABEL PREDICTED:  Negative \tTEXT:  Trump supporters worry presidentÂs coronavirus response will cost him 2020 re-election https://t.co/ww8Bk8FM7D\n",
            "3410 \tLABEL TRUE:  Neutral \tLABEL PREDICTED:  Negative \tTEXT:  So if we are banning 50 people or more in a space then why TF is the grocery store still open #coronavirus #coronapocolypse #COVID19 https://t.co/0qsXmViMiM\n",
            "3654 \tLABEL TRUE:  Neutral \tLABEL PREDICTED:  Negative \tTEXT:  \"Current estimates suggest COVID-19 is 20-30X more deadly than seasonal influenza\" via Kayli Hiban blog @CDDEP https://t.co/JBB6FAVRMX\n",
            "3659 \tLABEL TRUE:  Neutral \tLABEL PREDICTED:  Negative \tTEXT:  Went to buy from a grocery store yesterday They say people have taken more than 10 packs of it Same at a the chemist So no safety for us Bhai jab hum hi nahi bachenge toh tum kaise bachoge This is a serious issue 19\n",
            "3788 \tLABEL TRUE:  Neutral \tLABEL PREDICTED:  Negative \tTEXT:  You never eaten the pigs cat dog or food from international fast food chains and always taken Halal food then you are save from Don t panic\n"
          ]
        }
      ],
      "source": [
        "cnt= 0\n",
        "nb = 0\n",
        "# f = open(\"/content/drive/MyDrive/models/confusion_CTbert_4_iunie_NEG_POS.txt\", \"a\")\n",
        "\n",
        "for i,j in zip(final_targets, final_predictions):\n",
        "  if i==1 and j==0:\n",
        "    print(str(cnt),'\\tLABEL TRUE: ',decode_sentiment(i),'\\tLABEL PREDICTED: ',decode_sentiment(j),'\\tTEXT: ',df_test['OriginalTweet'].iloc[cnt])\n",
        "    # f.write(str(cnt)+'\\tTRUE: '+decode_sentiment(i)+'\\tPREDICTED: '+decode_sentiment(j)+'\\tTEXT: '+ df_test['OriginalTweet'].iloc[cnt]+\"\\n\")\n",
        "\n",
        "    nb += 1\n",
        "  cnt += 1\n",
        "\n",
        "# f.close()"
      ]
    },
    {
      "cell_type": "code",
      "execution_count": null,
      "metadata": {
        "colab": {
          "base_uri": "https://localhost:8080/"
        },
        "id": "mg0xbj3LeBNe",
        "outputId": "98d9ff77-e954-43c3-aa38-fea97d34c8dd"
      },
      "outputs": [
        {
          "data": {
            "text/plain": [
              "70"
            ]
          },
          "execution_count": 91,
          "metadata": {},
          "output_type": "execute_result"
        }
      ],
      "source": [
        "nb"
      ]
    },
    {
      "cell_type": "markdown",
      "metadata": {
        "id": "50HVtAbFNgyA"
      },
      "source": [
        "# Bibliografie\n"
      ]
    },
    {
      "cell_type": "markdown",
      "metadata": {
        "id": "5fIJQPtKNikj"
      },
      "source": [
        "* https://chriskhanhtran.github.io/_posts/2019-12-25-bert-for-sentiment-analysis/\n",
        "\n",
        "* https://github.com/Nitesh0406/-Fine-Tuning-BERT-base-for-Sentiment-Analysis./blob/main/BERT_Sentiment.ipynb  -- nu l am urmat dar pare a fi bun"
      ]
    }
  ],
  "metadata": {
    "accelerator": "GPU",
    "colab": {
      "collapsed_sections": [
        "8XKX7XnrLs2X",
        "ks8Sz2PpL1Tc",
        "Pz9ZbWn_KXyC",
        "a4XfZUjkL169",
        "uNYaaKvuNaNV",
        "B0AdNG5DPVhc",
        "PkqMhXYzPfVK",
        "_3r-UDhX4W74",
        "eJcp5ncFiLrf",
        "3aMDGLRfiSF6",
        "k_k3Meymhij8",
        "nE8z27j1l9NL",
        "geTEf7sOICRT",
        "cB2VMuo8IJsW",
        "CxFWtU_CIHDw",
        "mN5IMHDtQQrn",
        "yN24Bw0nQpFc",
        "3clgvrdXSOAJ",
        "50HVtAbFNgyA"
      ],
      "machine_shape": "hm",
      "provenance": [],
      "authorship_tag": "ABX9TyNy+/Z7g7WQ8dw16g7VUFfM",
      "include_colab_link": true
    },
    "gpuClass": "standard",
    "kernelspec": {
      "display_name": "Python 3",
      "name": "python3"
    },
    "language_info": {
      "name": "python"
    }
  },
  "nbformat": 4,
  "nbformat_minor": 0
}